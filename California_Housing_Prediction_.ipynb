{
  "nbformat": 4,
  "nbformat_minor": 0,
  "metadata": {
    "colab": {
      "provenance": [],
      "authorship_tag": "ABX9TyOK4cjrITOefPeH96U975Ij",
      "include_colab_link": true
    },
    "kernelspec": {
      "name": "python3",
      "display_name": "Python 3"
    },
    "language_info": {
      "name": "python"
    }
  },
  "cells": [
    {
      "cell_type": "markdown",
      "metadata": {
        "id": "view-in-github",
        "colab_type": "text"
      },
      "source": [
        "<a href=\"https://colab.research.google.com/github/rokzeezee/PortfolioProjectss/blob/main/California_Housing_Prediction_.ipynb\" target=\"_parent\"><img src=\"https://colab.research.google.com/assets/colab-badge.svg\" alt=\"Open In Colab\"/></a>"
      ]
    },
    {
      "cell_type": "code",
      "execution_count": 219,
      "metadata": {
        "id": "mqpEZ05hb_Sl"
      },
      "outputs": [],
      "source": [
        "import pandas as pd\n",
        "import numpy as np\n"
      ]
    },
    {
      "cell_type": "code",
      "source": [
        "df_housing = pd.read_csv(\"/content/housing.csv\")"
      ],
      "metadata": {
        "id": "0lrZbV28fOZM"
      },
      "execution_count": 220,
      "outputs": []
    },
    {
      "cell_type": "code",
      "source": [
        "df_housing.head()"
      ],
      "metadata": {
        "colab": {
          "base_uri": "https://localhost:8080/",
          "height": 206
        },
        "id": "v-1EjNbcfbH3",
        "outputId": "3bf36baf-8bdf-4a4b-af63-c191bf6b835b"
      },
      "execution_count": 221,
      "outputs": [
        {
          "output_type": "execute_result",
          "data": {
            "text/plain": [
              "   longitude  latitude  housing_median_age  total_rooms  total_bedrooms  \\\n",
              "0    -122.23     37.88                41.0        880.0           129.0   \n",
              "1    -122.22     37.86                21.0       7099.0          1106.0   \n",
              "2    -122.24     37.85                52.0       1467.0           190.0   \n",
              "3    -122.25     37.85                52.0       1274.0           235.0   \n",
              "4    -122.25     37.85                52.0       1627.0           280.0   \n",
              "\n",
              "   population  households  median_income  median_house_value ocean_proximity  \n",
              "0       322.0       126.0         8.3252            452600.0        NEAR BAY  \n",
              "1      2401.0      1138.0         8.3014            358500.0        NEAR BAY  \n",
              "2       496.0       177.0         7.2574            352100.0        NEAR BAY  \n",
              "3       558.0       219.0         5.6431            341300.0        NEAR BAY  \n",
              "4       565.0       259.0         3.8462            342200.0        NEAR BAY  "
            ],
            "text/html": [
              "\n",
              "  <div id=\"df-f92b41cb-54aa-44b4-9125-d3cda8303982\">\n",
              "    <div class=\"colab-df-container\">\n",
              "      <div>\n",
              "<style scoped>\n",
              "    .dataframe tbody tr th:only-of-type {\n",
              "        vertical-align: middle;\n",
              "    }\n",
              "\n",
              "    .dataframe tbody tr th {\n",
              "        vertical-align: top;\n",
              "    }\n",
              "\n",
              "    .dataframe thead th {\n",
              "        text-align: right;\n",
              "    }\n",
              "</style>\n",
              "<table border=\"1\" class=\"dataframe\">\n",
              "  <thead>\n",
              "    <tr style=\"text-align: right;\">\n",
              "      <th></th>\n",
              "      <th>longitude</th>\n",
              "      <th>latitude</th>\n",
              "      <th>housing_median_age</th>\n",
              "      <th>total_rooms</th>\n",
              "      <th>total_bedrooms</th>\n",
              "      <th>population</th>\n",
              "      <th>households</th>\n",
              "      <th>median_income</th>\n",
              "      <th>median_house_value</th>\n",
              "      <th>ocean_proximity</th>\n",
              "    </tr>\n",
              "  </thead>\n",
              "  <tbody>\n",
              "    <tr>\n",
              "      <th>0</th>\n",
              "      <td>-122.23</td>\n",
              "      <td>37.88</td>\n",
              "      <td>41.0</td>\n",
              "      <td>880.0</td>\n",
              "      <td>129.0</td>\n",
              "      <td>322.0</td>\n",
              "      <td>126.0</td>\n",
              "      <td>8.3252</td>\n",
              "      <td>452600.0</td>\n",
              "      <td>NEAR BAY</td>\n",
              "    </tr>\n",
              "    <tr>\n",
              "      <th>1</th>\n",
              "      <td>-122.22</td>\n",
              "      <td>37.86</td>\n",
              "      <td>21.0</td>\n",
              "      <td>7099.0</td>\n",
              "      <td>1106.0</td>\n",
              "      <td>2401.0</td>\n",
              "      <td>1138.0</td>\n",
              "      <td>8.3014</td>\n",
              "      <td>358500.0</td>\n",
              "      <td>NEAR BAY</td>\n",
              "    </tr>\n",
              "    <tr>\n",
              "      <th>2</th>\n",
              "      <td>-122.24</td>\n",
              "      <td>37.85</td>\n",
              "      <td>52.0</td>\n",
              "      <td>1467.0</td>\n",
              "      <td>190.0</td>\n",
              "      <td>496.0</td>\n",
              "      <td>177.0</td>\n",
              "      <td>7.2574</td>\n",
              "      <td>352100.0</td>\n",
              "      <td>NEAR BAY</td>\n",
              "    </tr>\n",
              "    <tr>\n",
              "      <th>3</th>\n",
              "      <td>-122.25</td>\n",
              "      <td>37.85</td>\n",
              "      <td>52.0</td>\n",
              "      <td>1274.0</td>\n",
              "      <td>235.0</td>\n",
              "      <td>558.0</td>\n",
              "      <td>219.0</td>\n",
              "      <td>5.6431</td>\n",
              "      <td>341300.0</td>\n",
              "      <td>NEAR BAY</td>\n",
              "    </tr>\n",
              "    <tr>\n",
              "      <th>4</th>\n",
              "      <td>-122.25</td>\n",
              "      <td>37.85</td>\n",
              "      <td>52.0</td>\n",
              "      <td>1627.0</td>\n",
              "      <td>280.0</td>\n",
              "      <td>565.0</td>\n",
              "      <td>259.0</td>\n",
              "      <td>3.8462</td>\n",
              "      <td>342200.0</td>\n",
              "      <td>NEAR BAY</td>\n",
              "    </tr>\n",
              "  </tbody>\n",
              "</table>\n",
              "</div>\n",
              "      <button class=\"colab-df-convert\" onclick=\"convertToInteractive('df-f92b41cb-54aa-44b4-9125-d3cda8303982')\"\n",
              "              title=\"Convert this dataframe to an interactive table.\"\n",
              "              style=\"display:none;\">\n",
              "        \n",
              "  <svg xmlns=\"http://www.w3.org/2000/svg\" height=\"24px\"viewBox=\"0 0 24 24\"\n",
              "       width=\"24px\">\n",
              "    <path d=\"M0 0h24v24H0V0z\" fill=\"none\"/>\n",
              "    <path d=\"M18.56 5.44l.94 2.06.94-2.06 2.06-.94-2.06-.94-.94-2.06-.94 2.06-2.06.94zm-11 1L8.5 8.5l.94-2.06 2.06-.94-2.06-.94L8.5 2.5l-.94 2.06-2.06.94zm10 10l.94 2.06.94-2.06 2.06-.94-2.06-.94-.94-2.06-.94 2.06-2.06.94z\"/><path d=\"M17.41 7.96l-1.37-1.37c-.4-.4-.92-.59-1.43-.59-.52 0-1.04.2-1.43.59L10.3 9.45l-7.72 7.72c-.78.78-.78 2.05 0 2.83L4 21.41c.39.39.9.59 1.41.59.51 0 1.02-.2 1.41-.59l7.78-7.78 2.81-2.81c.8-.78.8-2.07 0-2.86zM5.41 20L4 18.59l7.72-7.72 1.47 1.35L5.41 20z\"/>\n",
              "  </svg>\n",
              "      </button>\n",
              "      \n",
              "  <style>\n",
              "    .colab-df-container {\n",
              "      display:flex;\n",
              "      flex-wrap:wrap;\n",
              "      gap: 12px;\n",
              "    }\n",
              "\n",
              "    .colab-df-convert {\n",
              "      background-color: #E8F0FE;\n",
              "      border: none;\n",
              "      border-radius: 50%;\n",
              "      cursor: pointer;\n",
              "      display: none;\n",
              "      fill: #1967D2;\n",
              "      height: 32px;\n",
              "      padding: 0 0 0 0;\n",
              "      width: 32px;\n",
              "    }\n",
              "\n",
              "    .colab-df-convert:hover {\n",
              "      background-color: #E2EBFA;\n",
              "      box-shadow: 0px 1px 2px rgba(60, 64, 67, 0.3), 0px 1px 3px 1px rgba(60, 64, 67, 0.15);\n",
              "      fill: #174EA6;\n",
              "    }\n",
              "\n",
              "    [theme=dark] .colab-df-convert {\n",
              "      background-color: #3B4455;\n",
              "      fill: #D2E3FC;\n",
              "    }\n",
              "\n",
              "    [theme=dark] .colab-df-convert:hover {\n",
              "      background-color: #434B5C;\n",
              "      box-shadow: 0px 1px 3px 1px rgba(0, 0, 0, 0.15);\n",
              "      filter: drop-shadow(0px 1px 2px rgba(0, 0, 0, 0.3));\n",
              "      fill: #FFFFFF;\n",
              "    }\n",
              "  </style>\n",
              "\n",
              "      <script>\n",
              "        const buttonEl =\n",
              "          document.querySelector('#df-f92b41cb-54aa-44b4-9125-d3cda8303982 button.colab-df-convert');\n",
              "        buttonEl.style.display =\n",
              "          google.colab.kernel.accessAllowed ? 'block' : 'none';\n",
              "\n",
              "        async function convertToInteractive(key) {\n",
              "          const element = document.querySelector('#df-f92b41cb-54aa-44b4-9125-d3cda8303982');\n",
              "          const dataTable =\n",
              "            await google.colab.kernel.invokeFunction('convertToInteractive',\n",
              "                                                     [key], {});\n",
              "          if (!dataTable) return;\n",
              "\n",
              "          const docLinkHtml = 'Like what you see? Visit the ' +\n",
              "            '<a target=\"_blank\" href=https://colab.research.google.com/notebooks/data_table.ipynb>data table notebook</a>'\n",
              "            + ' to learn more about interactive tables.';\n",
              "          element.innerHTML = '';\n",
              "          dataTable['output_type'] = 'display_data';\n",
              "          await google.colab.output.renderOutput(dataTable, element);\n",
              "          const docLink = document.createElement('div');\n",
              "          docLink.innerHTML = docLinkHtml;\n",
              "          element.appendChild(docLink);\n",
              "        }\n",
              "      </script>\n",
              "    </div>\n",
              "  </div>\n",
              "  "
            ]
          },
          "metadata": {},
          "execution_count": 221
        }
      ]
    },
    {
      "cell_type": "code",
      "source": [
        "df_housing.shape"
      ],
      "metadata": {
        "colab": {
          "base_uri": "https://localhost:8080/"
        },
        "id": "XcDSRMDkt6oz",
        "outputId": "c6626773-f061-447c-8edc-82aa0e713d00"
      },
      "execution_count": 94,
      "outputs": [
        {
          "output_type": "execute_result",
          "data": {
            "text/plain": [
              "(20640, 10)"
            ]
          },
          "metadata": {},
          "execution_count": 94
        }
      ]
    },
    {
      "cell_type": "code",
      "source": [
        "df_housing[\"ocean_proximity\"].value_counts"
      ],
      "metadata": {
        "colab": {
          "base_uri": "https://localhost:8080/"
        },
        "id": "Cy010C8WfdSe",
        "outputId": "df8fc791-55dc-4590-c20e-136bb46b08d8"
      },
      "execution_count": 222,
      "outputs": [
        {
          "output_type": "execute_result",
          "data": {
            "text/plain": [
              "<bound method IndexOpsMixin.value_counts of 0        NEAR BAY\n",
              "1        NEAR BAY\n",
              "2        NEAR BAY\n",
              "3        NEAR BAY\n",
              "4        NEAR BAY\n",
              "           ...   \n",
              "20635      INLAND\n",
              "20636      INLAND\n",
              "20637      INLAND\n",
              "20638      INLAND\n",
              "20639      INLAND\n",
              "Name: ocean_proximity, Length: 20640, dtype: object>"
            ]
          },
          "metadata": {},
          "execution_count": 222
        }
      ]
    },
    {
      "cell_type": "markdown",
      "source": [
        "DataFrame.sample(n=None, frac=None, replace=False, weights=None, random_state=None, axis=None, ignore_index=False)"
      ],
      "metadata": {
        "id": "hxVkAbNXhQEG"
      }
    },
    {
      "cell_type": "code",
      "source": [
        "df_housing.sample(n=len(df_housing), random_state=1)"
      ],
      "metadata": {
        "colab": {
          "base_uri": "https://localhost:8080/",
          "height": 424
        },
        "id": "ZI301voUfudM",
        "outputId": "46200f3f-2741-4c70-f24f-d3fda0fb3262"
      },
      "execution_count": 227,
      "outputs": [
        {
          "output_type": "execute_result",
          "data": {
            "text/plain": [
              "       longitude  latitude  housing_median_age  total_rooms  total_bedrooms  \\\n",
              "4712     -118.36     34.06                39.0       2810.0           670.0   \n",
              "2151     -119.78     36.78                37.0       2185.0           455.0   \n",
              "15927    -122.42     37.73                46.0       1819.0           411.0   \n",
              "82       -122.28     37.81                52.0        340.0            97.0   \n",
              "8161     -118.13     33.82                37.0       1530.0           290.0   \n",
              "...          ...       ...                 ...          ...             ...   \n",
              "10955    -117.88     33.76                17.0       1768.0           474.0   \n",
              "17289    -119.63     34.42                42.0       1765.0           263.0   \n",
              "5192     -118.26     33.93                42.0       1433.0           295.0   \n",
              "12172    -117.16     33.73                10.0       2381.0           454.0   \n",
              "235      -122.20     37.79                35.0       1802.0           459.0   \n",
              "\n",
              "       population  households  median_income  median_house_value  \\\n",
              "4712       1109.0       624.0         3.2500            355000.0   \n",
              "2151       1143.0       438.0         1.9784             70700.0   \n",
              "15927      1534.0       406.0         4.0132            229400.0   \n",
              "82          200.0        87.0         1.5208            112500.0   \n",
              "8161        711.0       283.0         5.1795            225400.0   \n",
              "...           ...         ...            ...                 ...   \n",
              "10955      1079.0       436.0         1.7823            205300.0   \n",
              "17289       753.0       260.0         8.5608            500001.0   \n",
              "5192        775.0       293.0         1.1326            104800.0   \n",
              "12172      1323.0       477.0         2.6322            140700.0   \n",
              "235        1009.0       390.0         2.3036            126000.0   \n",
              "\n",
              "      ocean_proximity  \n",
              "4712        <1H OCEAN  \n",
              "2151           INLAND  \n",
              "15927        NEAR BAY  \n",
              "82           NEAR BAY  \n",
              "8161        <1H OCEAN  \n",
              "...               ...  \n",
              "10955       <1H OCEAN  \n",
              "17289       <1H OCEAN  \n",
              "5192        <1H OCEAN  \n",
              "12172          INLAND  \n",
              "235          NEAR BAY  \n",
              "\n",
              "[20640 rows x 10 columns]"
            ],
            "text/html": [
              "\n",
              "  <div id=\"df-df3bb4cd-7ce8-4bb5-b4dd-2e8580ed9f71\">\n",
              "    <div class=\"colab-df-container\">\n",
              "      <div>\n",
              "<style scoped>\n",
              "    .dataframe tbody tr th:only-of-type {\n",
              "        vertical-align: middle;\n",
              "    }\n",
              "\n",
              "    .dataframe tbody tr th {\n",
              "        vertical-align: top;\n",
              "    }\n",
              "\n",
              "    .dataframe thead th {\n",
              "        text-align: right;\n",
              "    }\n",
              "</style>\n",
              "<table border=\"1\" class=\"dataframe\">\n",
              "  <thead>\n",
              "    <tr style=\"text-align: right;\">\n",
              "      <th></th>\n",
              "      <th>longitude</th>\n",
              "      <th>latitude</th>\n",
              "      <th>housing_median_age</th>\n",
              "      <th>total_rooms</th>\n",
              "      <th>total_bedrooms</th>\n",
              "      <th>population</th>\n",
              "      <th>households</th>\n",
              "      <th>median_income</th>\n",
              "      <th>median_house_value</th>\n",
              "      <th>ocean_proximity</th>\n",
              "    </tr>\n",
              "  </thead>\n",
              "  <tbody>\n",
              "    <tr>\n",
              "      <th>4712</th>\n",
              "      <td>-118.36</td>\n",
              "      <td>34.06</td>\n",
              "      <td>39.0</td>\n",
              "      <td>2810.0</td>\n",
              "      <td>670.0</td>\n",
              "      <td>1109.0</td>\n",
              "      <td>624.0</td>\n",
              "      <td>3.2500</td>\n",
              "      <td>355000.0</td>\n",
              "      <td>&lt;1H OCEAN</td>\n",
              "    </tr>\n",
              "    <tr>\n",
              "      <th>2151</th>\n",
              "      <td>-119.78</td>\n",
              "      <td>36.78</td>\n",
              "      <td>37.0</td>\n",
              "      <td>2185.0</td>\n",
              "      <td>455.0</td>\n",
              "      <td>1143.0</td>\n",
              "      <td>438.0</td>\n",
              "      <td>1.9784</td>\n",
              "      <td>70700.0</td>\n",
              "      <td>INLAND</td>\n",
              "    </tr>\n",
              "    <tr>\n",
              "      <th>15927</th>\n",
              "      <td>-122.42</td>\n",
              "      <td>37.73</td>\n",
              "      <td>46.0</td>\n",
              "      <td>1819.0</td>\n",
              "      <td>411.0</td>\n",
              "      <td>1534.0</td>\n",
              "      <td>406.0</td>\n",
              "      <td>4.0132</td>\n",
              "      <td>229400.0</td>\n",
              "      <td>NEAR BAY</td>\n",
              "    </tr>\n",
              "    <tr>\n",
              "      <th>82</th>\n",
              "      <td>-122.28</td>\n",
              "      <td>37.81</td>\n",
              "      <td>52.0</td>\n",
              "      <td>340.0</td>\n",
              "      <td>97.0</td>\n",
              "      <td>200.0</td>\n",
              "      <td>87.0</td>\n",
              "      <td>1.5208</td>\n",
              "      <td>112500.0</td>\n",
              "      <td>NEAR BAY</td>\n",
              "    </tr>\n",
              "    <tr>\n",
              "      <th>8161</th>\n",
              "      <td>-118.13</td>\n",
              "      <td>33.82</td>\n",
              "      <td>37.0</td>\n",
              "      <td>1530.0</td>\n",
              "      <td>290.0</td>\n",
              "      <td>711.0</td>\n",
              "      <td>283.0</td>\n",
              "      <td>5.1795</td>\n",
              "      <td>225400.0</td>\n",
              "      <td>&lt;1H OCEAN</td>\n",
              "    </tr>\n",
              "    <tr>\n",
              "      <th>...</th>\n",
              "      <td>...</td>\n",
              "      <td>...</td>\n",
              "      <td>...</td>\n",
              "      <td>...</td>\n",
              "      <td>...</td>\n",
              "      <td>...</td>\n",
              "      <td>...</td>\n",
              "      <td>...</td>\n",
              "      <td>...</td>\n",
              "      <td>...</td>\n",
              "    </tr>\n",
              "    <tr>\n",
              "      <th>10955</th>\n",
              "      <td>-117.88</td>\n",
              "      <td>33.76</td>\n",
              "      <td>17.0</td>\n",
              "      <td>1768.0</td>\n",
              "      <td>474.0</td>\n",
              "      <td>1079.0</td>\n",
              "      <td>436.0</td>\n",
              "      <td>1.7823</td>\n",
              "      <td>205300.0</td>\n",
              "      <td>&lt;1H OCEAN</td>\n",
              "    </tr>\n",
              "    <tr>\n",
              "      <th>17289</th>\n",
              "      <td>-119.63</td>\n",
              "      <td>34.42</td>\n",
              "      <td>42.0</td>\n",
              "      <td>1765.0</td>\n",
              "      <td>263.0</td>\n",
              "      <td>753.0</td>\n",
              "      <td>260.0</td>\n",
              "      <td>8.5608</td>\n",
              "      <td>500001.0</td>\n",
              "      <td>&lt;1H OCEAN</td>\n",
              "    </tr>\n",
              "    <tr>\n",
              "      <th>5192</th>\n",
              "      <td>-118.26</td>\n",
              "      <td>33.93</td>\n",
              "      <td>42.0</td>\n",
              "      <td>1433.0</td>\n",
              "      <td>295.0</td>\n",
              "      <td>775.0</td>\n",
              "      <td>293.0</td>\n",
              "      <td>1.1326</td>\n",
              "      <td>104800.0</td>\n",
              "      <td>&lt;1H OCEAN</td>\n",
              "    </tr>\n",
              "    <tr>\n",
              "      <th>12172</th>\n",
              "      <td>-117.16</td>\n",
              "      <td>33.73</td>\n",
              "      <td>10.0</td>\n",
              "      <td>2381.0</td>\n",
              "      <td>454.0</td>\n",
              "      <td>1323.0</td>\n",
              "      <td>477.0</td>\n",
              "      <td>2.6322</td>\n",
              "      <td>140700.0</td>\n",
              "      <td>INLAND</td>\n",
              "    </tr>\n",
              "    <tr>\n",
              "      <th>235</th>\n",
              "      <td>-122.20</td>\n",
              "      <td>37.79</td>\n",
              "      <td>35.0</td>\n",
              "      <td>1802.0</td>\n",
              "      <td>459.0</td>\n",
              "      <td>1009.0</td>\n",
              "      <td>390.0</td>\n",
              "      <td>2.3036</td>\n",
              "      <td>126000.0</td>\n",
              "      <td>NEAR BAY</td>\n",
              "    </tr>\n",
              "  </tbody>\n",
              "</table>\n",
              "<p>20640 rows × 10 columns</p>\n",
              "</div>\n",
              "      <button class=\"colab-df-convert\" onclick=\"convertToInteractive('df-df3bb4cd-7ce8-4bb5-b4dd-2e8580ed9f71')\"\n",
              "              title=\"Convert this dataframe to an interactive table.\"\n",
              "              style=\"display:none;\">\n",
              "        \n",
              "  <svg xmlns=\"http://www.w3.org/2000/svg\" height=\"24px\"viewBox=\"0 0 24 24\"\n",
              "       width=\"24px\">\n",
              "    <path d=\"M0 0h24v24H0V0z\" fill=\"none\"/>\n",
              "    <path d=\"M18.56 5.44l.94 2.06.94-2.06 2.06-.94-2.06-.94-.94-2.06-.94 2.06-2.06.94zm-11 1L8.5 8.5l.94-2.06 2.06-.94-2.06-.94L8.5 2.5l-.94 2.06-2.06.94zm10 10l.94 2.06.94-2.06 2.06-.94-2.06-.94-.94-2.06-.94 2.06-2.06.94z\"/><path d=\"M17.41 7.96l-1.37-1.37c-.4-.4-.92-.59-1.43-.59-.52 0-1.04.2-1.43.59L10.3 9.45l-7.72 7.72c-.78.78-.78 2.05 0 2.83L4 21.41c.39.39.9.59 1.41.59.51 0 1.02-.2 1.41-.59l7.78-7.78 2.81-2.81c.8-.78.8-2.07 0-2.86zM5.41 20L4 18.59l7.72-7.72 1.47 1.35L5.41 20z\"/>\n",
              "  </svg>\n",
              "      </button>\n",
              "      \n",
              "  <style>\n",
              "    .colab-df-container {\n",
              "      display:flex;\n",
              "      flex-wrap:wrap;\n",
              "      gap: 12px;\n",
              "    }\n",
              "\n",
              "    .colab-df-convert {\n",
              "      background-color: #E8F0FE;\n",
              "      border: none;\n",
              "      border-radius: 50%;\n",
              "      cursor: pointer;\n",
              "      display: none;\n",
              "      fill: #1967D2;\n",
              "      height: 32px;\n",
              "      padding: 0 0 0 0;\n",
              "      width: 32px;\n",
              "    }\n",
              "\n",
              "    .colab-df-convert:hover {\n",
              "      background-color: #E2EBFA;\n",
              "      box-shadow: 0px 1px 2px rgba(60, 64, 67, 0.3), 0px 1px 3px 1px rgba(60, 64, 67, 0.15);\n",
              "      fill: #174EA6;\n",
              "    }\n",
              "\n",
              "    [theme=dark] .colab-df-convert {\n",
              "      background-color: #3B4455;\n",
              "      fill: #D2E3FC;\n",
              "    }\n",
              "\n",
              "    [theme=dark] .colab-df-convert:hover {\n",
              "      background-color: #434B5C;\n",
              "      box-shadow: 0px 1px 3px 1px rgba(0, 0, 0, 0.15);\n",
              "      filter: drop-shadow(0px 1px 2px rgba(0, 0, 0, 0.3));\n",
              "      fill: #FFFFFF;\n",
              "    }\n",
              "  </style>\n",
              "\n",
              "      <script>\n",
              "        const buttonEl =\n",
              "          document.querySelector('#df-df3bb4cd-7ce8-4bb5-b4dd-2e8580ed9f71 button.colab-df-convert');\n",
              "        buttonEl.style.display =\n",
              "          google.colab.kernel.accessAllowed ? 'block' : 'none';\n",
              "\n",
              "        async function convertToInteractive(key) {\n",
              "          const element = document.querySelector('#df-df3bb4cd-7ce8-4bb5-b4dd-2e8580ed9f71');\n",
              "          const dataTable =\n",
              "            await google.colab.kernel.invokeFunction('convertToInteractive',\n",
              "                                                     [key], {});\n",
              "          if (!dataTable) return;\n",
              "\n",
              "          const docLinkHtml = 'Like what you see? Visit the ' +\n",
              "            '<a target=\"_blank\" href=https://colab.research.google.com/notebooks/data_table.ipynb>data table notebook</a>'\n",
              "            + ' to learn more about interactive tables.';\n",
              "          element.innerHTML = '';\n",
              "          dataTable['output_type'] = 'display_data';\n",
              "          await google.colab.output.renderOutput(dataTable, element);\n",
              "          const docLink = document.createElement('div');\n",
              "          docLink.innerHTML = docLinkHtml;\n",
              "          element.appendChild(docLink);\n",
              "        }\n",
              "      </script>\n",
              "    </div>\n",
              "  </div>\n",
              "  "
            ]
          },
          "metadata": {},
          "execution_count": 227
        }
      ]
    },
    {
      "cell_type": "code",
      "source": [
        "shuffled_data = df_housing.sample(n=len(df_housing), random_state=1 )"
      ],
      "metadata": {
        "id": "KBDUPEqCiYeu"
      },
      "execution_count": 97,
      "outputs": []
    },
    {
      "cell_type": "markdown",
      "source": [
        "pandas.get_dummies(data, prefix=None, prefix_sep='_', dummy_na=False, columns=None, sparse=False, drop_first=False, dtype=None)[source]\n"
      ],
      "metadata": {
        "id": "9tTtOK9fjTKr"
      }
    },
    {
      "cell_type": "code",
      "source": [
        "pd.get_dummies(shuffled_data[\"ocean_proximity\"])"
      ],
      "metadata": {
        "colab": {
          "base_uri": "https://localhost:8080/",
          "height": 424
        },
        "id": "EAihJ3zxjVyG",
        "outputId": "c6273a09-2b58-40c8-be5f-b4de3961ebb6"
      },
      "execution_count": 71,
      "outputs": [
        {
          "output_type": "execute_result",
          "data": {
            "text/plain": [
              "       <1H OCEAN  INLAND  ISLAND  NEAR BAY  NEAR OCEAN\n",
              "4712           1       0       0         0           0\n",
              "2151           0       1       0         0           0\n",
              "15927          0       0       0         1           0\n",
              "82             0       0       0         1           0\n",
              "8161           1       0       0         0           0\n",
              "...          ...     ...     ...       ...         ...\n",
              "10955          1       0       0         0           0\n",
              "17289          1       0       0         0           0\n",
              "5192           1       0       0         0           0\n",
              "12172          0       1       0         0           0\n",
              "235            0       0       0         1           0\n",
              "\n",
              "[20640 rows x 5 columns]"
            ],
            "text/html": [
              "\n",
              "  <div id=\"df-6548faff-44fb-4ec6-bd88-ff16076b1bc7\">\n",
              "    <div class=\"colab-df-container\">\n",
              "      <div>\n",
              "<style scoped>\n",
              "    .dataframe tbody tr th:only-of-type {\n",
              "        vertical-align: middle;\n",
              "    }\n",
              "\n",
              "    .dataframe tbody tr th {\n",
              "        vertical-align: top;\n",
              "    }\n",
              "\n",
              "    .dataframe thead th {\n",
              "        text-align: right;\n",
              "    }\n",
              "</style>\n",
              "<table border=\"1\" class=\"dataframe\">\n",
              "  <thead>\n",
              "    <tr style=\"text-align: right;\">\n",
              "      <th></th>\n",
              "      <th>&lt;1H OCEAN</th>\n",
              "      <th>INLAND</th>\n",
              "      <th>ISLAND</th>\n",
              "      <th>NEAR BAY</th>\n",
              "      <th>NEAR OCEAN</th>\n",
              "    </tr>\n",
              "  </thead>\n",
              "  <tbody>\n",
              "    <tr>\n",
              "      <th>4712</th>\n",
              "      <td>1</td>\n",
              "      <td>0</td>\n",
              "      <td>0</td>\n",
              "      <td>0</td>\n",
              "      <td>0</td>\n",
              "    </tr>\n",
              "    <tr>\n",
              "      <th>2151</th>\n",
              "      <td>0</td>\n",
              "      <td>1</td>\n",
              "      <td>0</td>\n",
              "      <td>0</td>\n",
              "      <td>0</td>\n",
              "    </tr>\n",
              "    <tr>\n",
              "      <th>15927</th>\n",
              "      <td>0</td>\n",
              "      <td>0</td>\n",
              "      <td>0</td>\n",
              "      <td>1</td>\n",
              "      <td>0</td>\n",
              "    </tr>\n",
              "    <tr>\n",
              "      <th>82</th>\n",
              "      <td>0</td>\n",
              "      <td>0</td>\n",
              "      <td>0</td>\n",
              "      <td>1</td>\n",
              "      <td>0</td>\n",
              "    </tr>\n",
              "    <tr>\n",
              "      <th>8161</th>\n",
              "      <td>1</td>\n",
              "      <td>0</td>\n",
              "      <td>0</td>\n",
              "      <td>0</td>\n",
              "      <td>0</td>\n",
              "    </tr>\n",
              "    <tr>\n",
              "      <th>...</th>\n",
              "      <td>...</td>\n",
              "      <td>...</td>\n",
              "      <td>...</td>\n",
              "      <td>...</td>\n",
              "      <td>...</td>\n",
              "    </tr>\n",
              "    <tr>\n",
              "      <th>10955</th>\n",
              "      <td>1</td>\n",
              "      <td>0</td>\n",
              "      <td>0</td>\n",
              "      <td>0</td>\n",
              "      <td>0</td>\n",
              "    </tr>\n",
              "    <tr>\n",
              "      <th>17289</th>\n",
              "      <td>1</td>\n",
              "      <td>0</td>\n",
              "      <td>0</td>\n",
              "      <td>0</td>\n",
              "      <td>0</td>\n",
              "    </tr>\n",
              "    <tr>\n",
              "      <th>5192</th>\n",
              "      <td>1</td>\n",
              "      <td>0</td>\n",
              "      <td>0</td>\n",
              "      <td>0</td>\n",
              "      <td>0</td>\n",
              "    </tr>\n",
              "    <tr>\n",
              "      <th>12172</th>\n",
              "      <td>0</td>\n",
              "      <td>1</td>\n",
              "      <td>0</td>\n",
              "      <td>0</td>\n",
              "      <td>0</td>\n",
              "    </tr>\n",
              "    <tr>\n",
              "      <th>235</th>\n",
              "      <td>0</td>\n",
              "      <td>0</td>\n",
              "      <td>0</td>\n",
              "      <td>1</td>\n",
              "      <td>0</td>\n",
              "    </tr>\n",
              "  </tbody>\n",
              "</table>\n",
              "<p>20640 rows × 5 columns</p>\n",
              "</div>\n",
              "      <button class=\"colab-df-convert\" onclick=\"convertToInteractive('df-6548faff-44fb-4ec6-bd88-ff16076b1bc7')\"\n",
              "              title=\"Convert this dataframe to an interactive table.\"\n",
              "              style=\"display:none;\">\n",
              "        \n",
              "  <svg xmlns=\"http://www.w3.org/2000/svg\" height=\"24px\"viewBox=\"0 0 24 24\"\n",
              "       width=\"24px\">\n",
              "    <path d=\"M0 0h24v24H0V0z\" fill=\"none\"/>\n",
              "    <path d=\"M18.56 5.44l.94 2.06.94-2.06 2.06-.94-2.06-.94-.94-2.06-.94 2.06-2.06.94zm-11 1L8.5 8.5l.94-2.06 2.06-.94-2.06-.94L8.5 2.5l-.94 2.06-2.06.94zm10 10l.94 2.06.94-2.06 2.06-.94-2.06-.94-.94-2.06-.94 2.06-2.06.94z\"/><path d=\"M17.41 7.96l-1.37-1.37c-.4-.4-.92-.59-1.43-.59-.52 0-1.04.2-1.43.59L10.3 9.45l-7.72 7.72c-.78.78-.78 2.05 0 2.83L4 21.41c.39.39.9.59 1.41.59.51 0 1.02-.2 1.41-.59l7.78-7.78 2.81-2.81c.8-.78.8-2.07 0-2.86zM5.41 20L4 18.59l7.72-7.72 1.47 1.35L5.41 20z\"/>\n",
              "  </svg>\n",
              "      </button>\n",
              "      \n",
              "  <style>\n",
              "    .colab-df-container {\n",
              "      display:flex;\n",
              "      flex-wrap:wrap;\n",
              "      gap: 12px;\n",
              "    }\n",
              "\n",
              "    .colab-df-convert {\n",
              "      background-color: #E8F0FE;\n",
              "      border: none;\n",
              "      border-radius: 50%;\n",
              "      cursor: pointer;\n",
              "      display: none;\n",
              "      fill: #1967D2;\n",
              "      height: 32px;\n",
              "      padding: 0 0 0 0;\n",
              "      width: 32px;\n",
              "    }\n",
              "\n",
              "    .colab-df-convert:hover {\n",
              "      background-color: #E2EBFA;\n",
              "      box-shadow: 0px 1px 2px rgba(60, 64, 67, 0.3), 0px 1px 3px 1px rgba(60, 64, 67, 0.15);\n",
              "      fill: #174EA6;\n",
              "    }\n",
              "\n",
              "    [theme=dark] .colab-df-convert {\n",
              "      background-color: #3B4455;\n",
              "      fill: #D2E3FC;\n",
              "    }\n",
              "\n",
              "    [theme=dark] .colab-df-convert:hover {\n",
              "      background-color: #434B5C;\n",
              "      box-shadow: 0px 1px 3px 1px rgba(0, 0, 0, 0.15);\n",
              "      filter: drop-shadow(0px 1px 2px rgba(0, 0, 0, 0.3));\n",
              "      fill: #FFFFFF;\n",
              "    }\n",
              "  </style>\n",
              "\n",
              "      <script>\n",
              "        const buttonEl =\n",
              "          document.querySelector('#df-6548faff-44fb-4ec6-bd88-ff16076b1bc7 button.colab-df-convert');\n",
              "        buttonEl.style.display =\n",
              "          google.colab.kernel.accessAllowed ? 'block' : 'none';\n",
              "\n",
              "        async function convertToInteractive(key) {\n",
              "          const element = document.querySelector('#df-6548faff-44fb-4ec6-bd88-ff16076b1bc7');\n",
              "          const dataTable =\n",
              "            await google.colab.kernel.invokeFunction('convertToInteractive',\n",
              "                                                     [key], {});\n",
              "          if (!dataTable) return;\n",
              "\n",
              "          const docLinkHtml = 'Like what you see? Visit the ' +\n",
              "            '<a target=\"_blank\" href=https://colab.research.google.com/notebooks/data_table.ipynb>data table notebook</a>'\n",
              "            + ' to learn more about interactive tables.';\n",
              "          element.innerHTML = '';\n",
              "          dataTable['output_type'] = 'display_data';\n",
              "          await google.colab.output.renderOutput(dataTable, element);\n",
              "          const docLink = document.createElement('div');\n",
              "          docLink.innerHTML = docLinkHtml;\n",
              "          element.appendChild(docLink);\n",
              "        }\n",
              "      </script>\n",
              "    </div>\n",
              "  </div>\n",
              "  "
            ]
          },
          "metadata": {},
          "execution_count": 71
        }
      ]
    },
    {
      "cell_type": "markdown",
      "source": [
        "pandas.concat(objs, *, axis=0, join='outer', ignore_index=False, keys=None, levels=None, names=None, verify_integrity=False, sort=False, copy=None)"
      ],
      "metadata": {
        "id": "K1bY1SAokM8y"
      }
    },
    {
      "cell_type": "code",
      "source": [
        "dummies_data = pd.get_dummies(shuffled_data[\"ocean_proximity\"])"
      ],
      "metadata": {
        "id": "aVWvaEwqmFpa"
      },
      "execution_count": 72,
      "outputs": []
    },
    {
      "cell_type": "code",
      "source": [
        "shuffled_data= shuffled_data.drop([\"ocean_proximity\"] , axis=1)"
      ],
      "metadata": {
        "id": "TH4IXN3aq7O6"
      },
      "execution_count": 73,
      "outputs": []
    },
    {
      "cell_type": "code",
      "source": [
        "shuffled_data "
      ],
      "metadata": {
        "colab": {
          "base_uri": "https://localhost:8080/",
          "height": 424
        },
        "id": "6f_H3IIEkhdD",
        "outputId": "d45c4914-9f53-489e-f6af-0967ad6d4fc4"
      },
      "execution_count": 74,
      "outputs": [
        {
          "output_type": "execute_result",
          "data": {
            "text/plain": [
              "       longitude  latitude  housing_median_age  total_rooms  total_bedrooms  \\\n",
              "4712     -118.36     34.06                39.0       2810.0           670.0   \n",
              "2151     -119.78     36.78                37.0       2185.0           455.0   \n",
              "15927    -122.42     37.73                46.0       1819.0           411.0   \n",
              "82       -122.28     37.81                52.0        340.0            97.0   \n",
              "8161     -118.13     33.82                37.0       1530.0           290.0   \n",
              "...          ...       ...                 ...          ...             ...   \n",
              "10955    -117.88     33.76                17.0       1768.0           474.0   \n",
              "17289    -119.63     34.42                42.0       1765.0           263.0   \n",
              "5192     -118.26     33.93                42.0       1433.0           295.0   \n",
              "12172    -117.16     33.73                10.0       2381.0           454.0   \n",
              "235      -122.20     37.79                35.0       1802.0           459.0   \n",
              "\n",
              "       population  households  median_income  median_house_value  \n",
              "4712       1109.0       624.0         3.2500            355000.0  \n",
              "2151       1143.0       438.0         1.9784             70700.0  \n",
              "15927      1534.0       406.0         4.0132            229400.0  \n",
              "82          200.0        87.0         1.5208            112500.0  \n",
              "8161        711.0       283.0         5.1795            225400.0  \n",
              "...           ...         ...            ...                 ...  \n",
              "10955      1079.0       436.0         1.7823            205300.0  \n",
              "17289       753.0       260.0         8.5608            500001.0  \n",
              "5192        775.0       293.0         1.1326            104800.0  \n",
              "12172      1323.0       477.0         2.6322            140700.0  \n",
              "235        1009.0       390.0         2.3036            126000.0  \n",
              "\n",
              "[20640 rows x 9 columns]"
            ],
            "text/html": [
              "\n",
              "  <div id=\"df-865638a4-4ac2-431e-9c66-12f81d0089a2\">\n",
              "    <div class=\"colab-df-container\">\n",
              "      <div>\n",
              "<style scoped>\n",
              "    .dataframe tbody tr th:only-of-type {\n",
              "        vertical-align: middle;\n",
              "    }\n",
              "\n",
              "    .dataframe tbody tr th {\n",
              "        vertical-align: top;\n",
              "    }\n",
              "\n",
              "    .dataframe thead th {\n",
              "        text-align: right;\n",
              "    }\n",
              "</style>\n",
              "<table border=\"1\" class=\"dataframe\">\n",
              "  <thead>\n",
              "    <tr style=\"text-align: right;\">\n",
              "      <th></th>\n",
              "      <th>longitude</th>\n",
              "      <th>latitude</th>\n",
              "      <th>housing_median_age</th>\n",
              "      <th>total_rooms</th>\n",
              "      <th>total_bedrooms</th>\n",
              "      <th>population</th>\n",
              "      <th>households</th>\n",
              "      <th>median_income</th>\n",
              "      <th>median_house_value</th>\n",
              "    </tr>\n",
              "  </thead>\n",
              "  <tbody>\n",
              "    <tr>\n",
              "      <th>4712</th>\n",
              "      <td>-118.36</td>\n",
              "      <td>34.06</td>\n",
              "      <td>39.0</td>\n",
              "      <td>2810.0</td>\n",
              "      <td>670.0</td>\n",
              "      <td>1109.0</td>\n",
              "      <td>624.0</td>\n",
              "      <td>3.2500</td>\n",
              "      <td>355000.0</td>\n",
              "    </tr>\n",
              "    <tr>\n",
              "      <th>2151</th>\n",
              "      <td>-119.78</td>\n",
              "      <td>36.78</td>\n",
              "      <td>37.0</td>\n",
              "      <td>2185.0</td>\n",
              "      <td>455.0</td>\n",
              "      <td>1143.0</td>\n",
              "      <td>438.0</td>\n",
              "      <td>1.9784</td>\n",
              "      <td>70700.0</td>\n",
              "    </tr>\n",
              "    <tr>\n",
              "      <th>15927</th>\n",
              "      <td>-122.42</td>\n",
              "      <td>37.73</td>\n",
              "      <td>46.0</td>\n",
              "      <td>1819.0</td>\n",
              "      <td>411.0</td>\n",
              "      <td>1534.0</td>\n",
              "      <td>406.0</td>\n",
              "      <td>4.0132</td>\n",
              "      <td>229400.0</td>\n",
              "    </tr>\n",
              "    <tr>\n",
              "      <th>82</th>\n",
              "      <td>-122.28</td>\n",
              "      <td>37.81</td>\n",
              "      <td>52.0</td>\n",
              "      <td>340.0</td>\n",
              "      <td>97.0</td>\n",
              "      <td>200.0</td>\n",
              "      <td>87.0</td>\n",
              "      <td>1.5208</td>\n",
              "      <td>112500.0</td>\n",
              "    </tr>\n",
              "    <tr>\n",
              "      <th>8161</th>\n",
              "      <td>-118.13</td>\n",
              "      <td>33.82</td>\n",
              "      <td>37.0</td>\n",
              "      <td>1530.0</td>\n",
              "      <td>290.0</td>\n",
              "      <td>711.0</td>\n",
              "      <td>283.0</td>\n",
              "      <td>5.1795</td>\n",
              "      <td>225400.0</td>\n",
              "    </tr>\n",
              "    <tr>\n",
              "      <th>...</th>\n",
              "      <td>...</td>\n",
              "      <td>...</td>\n",
              "      <td>...</td>\n",
              "      <td>...</td>\n",
              "      <td>...</td>\n",
              "      <td>...</td>\n",
              "      <td>...</td>\n",
              "      <td>...</td>\n",
              "      <td>...</td>\n",
              "    </tr>\n",
              "    <tr>\n",
              "      <th>10955</th>\n",
              "      <td>-117.88</td>\n",
              "      <td>33.76</td>\n",
              "      <td>17.0</td>\n",
              "      <td>1768.0</td>\n",
              "      <td>474.0</td>\n",
              "      <td>1079.0</td>\n",
              "      <td>436.0</td>\n",
              "      <td>1.7823</td>\n",
              "      <td>205300.0</td>\n",
              "    </tr>\n",
              "    <tr>\n",
              "      <th>17289</th>\n",
              "      <td>-119.63</td>\n",
              "      <td>34.42</td>\n",
              "      <td>42.0</td>\n",
              "      <td>1765.0</td>\n",
              "      <td>263.0</td>\n",
              "      <td>753.0</td>\n",
              "      <td>260.0</td>\n",
              "      <td>8.5608</td>\n",
              "      <td>500001.0</td>\n",
              "    </tr>\n",
              "    <tr>\n",
              "      <th>5192</th>\n",
              "      <td>-118.26</td>\n",
              "      <td>33.93</td>\n",
              "      <td>42.0</td>\n",
              "      <td>1433.0</td>\n",
              "      <td>295.0</td>\n",
              "      <td>775.0</td>\n",
              "      <td>293.0</td>\n",
              "      <td>1.1326</td>\n",
              "      <td>104800.0</td>\n",
              "    </tr>\n",
              "    <tr>\n",
              "      <th>12172</th>\n",
              "      <td>-117.16</td>\n",
              "      <td>33.73</td>\n",
              "      <td>10.0</td>\n",
              "      <td>2381.0</td>\n",
              "      <td>454.0</td>\n",
              "      <td>1323.0</td>\n",
              "      <td>477.0</td>\n",
              "      <td>2.6322</td>\n",
              "      <td>140700.0</td>\n",
              "    </tr>\n",
              "    <tr>\n",
              "      <th>235</th>\n",
              "      <td>-122.20</td>\n",
              "      <td>37.79</td>\n",
              "      <td>35.0</td>\n",
              "      <td>1802.0</td>\n",
              "      <td>459.0</td>\n",
              "      <td>1009.0</td>\n",
              "      <td>390.0</td>\n",
              "      <td>2.3036</td>\n",
              "      <td>126000.0</td>\n",
              "    </tr>\n",
              "  </tbody>\n",
              "</table>\n",
              "<p>20640 rows × 9 columns</p>\n",
              "</div>\n",
              "      <button class=\"colab-df-convert\" onclick=\"convertToInteractive('df-865638a4-4ac2-431e-9c66-12f81d0089a2')\"\n",
              "              title=\"Convert this dataframe to an interactive table.\"\n",
              "              style=\"display:none;\">\n",
              "        \n",
              "  <svg xmlns=\"http://www.w3.org/2000/svg\" height=\"24px\"viewBox=\"0 0 24 24\"\n",
              "       width=\"24px\">\n",
              "    <path d=\"M0 0h24v24H0V0z\" fill=\"none\"/>\n",
              "    <path d=\"M18.56 5.44l.94 2.06.94-2.06 2.06-.94-2.06-.94-.94-2.06-.94 2.06-2.06.94zm-11 1L8.5 8.5l.94-2.06 2.06-.94-2.06-.94L8.5 2.5l-.94 2.06-2.06.94zm10 10l.94 2.06.94-2.06 2.06-.94-2.06-.94-.94-2.06-.94 2.06-2.06.94z\"/><path d=\"M17.41 7.96l-1.37-1.37c-.4-.4-.92-.59-1.43-.59-.52 0-1.04.2-1.43.59L10.3 9.45l-7.72 7.72c-.78.78-.78 2.05 0 2.83L4 21.41c.39.39.9.59 1.41.59.51 0 1.02-.2 1.41-.59l7.78-7.78 2.81-2.81c.8-.78.8-2.07 0-2.86zM5.41 20L4 18.59l7.72-7.72 1.47 1.35L5.41 20z\"/>\n",
              "  </svg>\n",
              "      </button>\n",
              "      \n",
              "  <style>\n",
              "    .colab-df-container {\n",
              "      display:flex;\n",
              "      flex-wrap:wrap;\n",
              "      gap: 12px;\n",
              "    }\n",
              "\n",
              "    .colab-df-convert {\n",
              "      background-color: #E8F0FE;\n",
              "      border: none;\n",
              "      border-radius: 50%;\n",
              "      cursor: pointer;\n",
              "      display: none;\n",
              "      fill: #1967D2;\n",
              "      height: 32px;\n",
              "      padding: 0 0 0 0;\n",
              "      width: 32px;\n",
              "    }\n",
              "\n",
              "    .colab-df-convert:hover {\n",
              "      background-color: #E2EBFA;\n",
              "      box-shadow: 0px 1px 2px rgba(60, 64, 67, 0.3), 0px 1px 3px 1px rgba(60, 64, 67, 0.15);\n",
              "      fill: #174EA6;\n",
              "    }\n",
              "\n",
              "    [theme=dark] .colab-df-convert {\n",
              "      background-color: #3B4455;\n",
              "      fill: #D2E3FC;\n",
              "    }\n",
              "\n",
              "    [theme=dark] .colab-df-convert:hover {\n",
              "      background-color: #434B5C;\n",
              "      box-shadow: 0px 1px 3px 1px rgba(0, 0, 0, 0.15);\n",
              "      filter: drop-shadow(0px 1px 2px rgba(0, 0, 0, 0.3));\n",
              "      fill: #FFFFFF;\n",
              "    }\n",
              "  </style>\n",
              "\n",
              "      <script>\n",
              "        const buttonEl =\n",
              "          document.querySelector('#df-865638a4-4ac2-431e-9c66-12f81d0089a2 button.colab-df-convert');\n",
              "        buttonEl.style.display =\n",
              "          google.colab.kernel.accessAllowed ? 'block' : 'none';\n",
              "\n",
              "        async function convertToInteractive(key) {\n",
              "          const element = document.querySelector('#df-865638a4-4ac2-431e-9c66-12f81d0089a2');\n",
              "          const dataTable =\n",
              "            await google.colab.kernel.invokeFunction('convertToInteractive',\n",
              "                                                     [key], {});\n",
              "          if (!dataTable) return;\n",
              "\n",
              "          const docLinkHtml = 'Like what you see? Visit the ' +\n",
              "            '<a target=\"_blank\" href=https://colab.research.google.com/notebooks/data_table.ipynb>data table notebook</a>'\n",
              "            + ' to learn more about interactive tables.';\n",
              "          element.innerHTML = '';\n",
              "          dataTable['output_type'] = 'display_data';\n",
              "          await google.colab.output.renderOutput(dataTable, element);\n",
              "          const docLink = document.createElement('div');\n",
              "          docLink.innerHTML = docLinkHtml;\n",
              "          element.appendChild(docLink);\n",
              "        }\n",
              "      </script>\n",
              "    </div>\n",
              "  </div>\n",
              "  "
            ]
          },
          "metadata": {},
          "execution_count": 74
        }
      ]
    },
    {
      "cell_type": "code",
      "source": [
        "df = pd.concat([shuffled_data , dummies_data ],axis=1)"
      ],
      "metadata": {
        "id": "AEE51px2m8uB"
      },
      "execution_count": 231,
      "outputs": []
    },
    {
      "cell_type": "code",
      "source": [
        "df.head()"
      ],
      "metadata": {
        "colab": {
          "base_uri": "https://localhost:8080/",
          "height": 206
        },
        "id": "2I5W_B0Anpk9",
        "outputId": "f100245e-2821-45e4-9129-34cb7c8bbe37"
      },
      "execution_count": 232,
      "outputs": [
        {
          "output_type": "execute_result",
          "data": {
            "text/plain": [
              "       longitude  latitude  housing_median_age  total_rooms  total_bedrooms  \\\n",
              "4712     -118.36     34.06                39.0       2810.0           670.0   \n",
              "2151     -119.78     36.78                37.0       2185.0           455.0   \n",
              "15927    -122.42     37.73                46.0       1819.0           411.0   \n",
              "82       -122.28     37.81                52.0        340.0            97.0   \n",
              "8161     -118.13     33.82                37.0       1530.0           290.0   \n",
              "\n",
              "       population  households  median_income  median_house_value  \\\n",
              "4712       1109.0       624.0         3.2500            355000.0   \n",
              "2151       1143.0       438.0         1.9784             70700.0   \n",
              "15927      1534.0       406.0         4.0132            229400.0   \n",
              "82          200.0        87.0         1.5208            112500.0   \n",
              "8161        711.0       283.0         5.1795            225400.0   \n",
              "\n",
              "      ocean_proximity  <1H OCEAN  INLAND  ISLAND  NEAR BAY  NEAR OCEAN  \n",
              "4712        <1H OCEAN          1       0       0         0           0  \n",
              "2151           INLAND          0       1       0         0           0  \n",
              "15927        NEAR BAY          0       0       0         1           0  \n",
              "82           NEAR BAY          0       0       0         1           0  \n",
              "8161        <1H OCEAN          1       0       0         0           0  "
            ],
            "text/html": [
              "\n",
              "  <div id=\"df-302cc7a7-f7ed-46b9-8983-f6bbff764ac2\">\n",
              "    <div class=\"colab-df-container\">\n",
              "      <div>\n",
              "<style scoped>\n",
              "    .dataframe tbody tr th:only-of-type {\n",
              "        vertical-align: middle;\n",
              "    }\n",
              "\n",
              "    .dataframe tbody tr th {\n",
              "        vertical-align: top;\n",
              "    }\n",
              "\n",
              "    .dataframe thead th {\n",
              "        text-align: right;\n",
              "    }\n",
              "</style>\n",
              "<table border=\"1\" class=\"dataframe\">\n",
              "  <thead>\n",
              "    <tr style=\"text-align: right;\">\n",
              "      <th></th>\n",
              "      <th>longitude</th>\n",
              "      <th>latitude</th>\n",
              "      <th>housing_median_age</th>\n",
              "      <th>total_rooms</th>\n",
              "      <th>total_bedrooms</th>\n",
              "      <th>population</th>\n",
              "      <th>households</th>\n",
              "      <th>median_income</th>\n",
              "      <th>median_house_value</th>\n",
              "      <th>ocean_proximity</th>\n",
              "      <th>&lt;1H OCEAN</th>\n",
              "      <th>INLAND</th>\n",
              "      <th>ISLAND</th>\n",
              "      <th>NEAR BAY</th>\n",
              "      <th>NEAR OCEAN</th>\n",
              "    </tr>\n",
              "  </thead>\n",
              "  <tbody>\n",
              "    <tr>\n",
              "      <th>4712</th>\n",
              "      <td>-118.36</td>\n",
              "      <td>34.06</td>\n",
              "      <td>39.0</td>\n",
              "      <td>2810.0</td>\n",
              "      <td>670.0</td>\n",
              "      <td>1109.0</td>\n",
              "      <td>624.0</td>\n",
              "      <td>3.2500</td>\n",
              "      <td>355000.0</td>\n",
              "      <td>&lt;1H OCEAN</td>\n",
              "      <td>1</td>\n",
              "      <td>0</td>\n",
              "      <td>0</td>\n",
              "      <td>0</td>\n",
              "      <td>0</td>\n",
              "    </tr>\n",
              "    <tr>\n",
              "      <th>2151</th>\n",
              "      <td>-119.78</td>\n",
              "      <td>36.78</td>\n",
              "      <td>37.0</td>\n",
              "      <td>2185.0</td>\n",
              "      <td>455.0</td>\n",
              "      <td>1143.0</td>\n",
              "      <td>438.0</td>\n",
              "      <td>1.9784</td>\n",
              "      <td>70700.0</td>\n",
              "      <td>INLAND</td>\n",
              "      <td>0</td>\n",
              "      <td>1</td>\n",
              "      <td>0</td>\n",
              "      <td>0</td>\n",
              "      <td>0</td>\n",
              "    </tr>\n",
              "    <tr>\n",
              "      <th>15927</th>\n",
              "      <td>-122.42</td>\n",
              "      <td>37.73</td>\n",
              "      <td>46.0</td>\n",
              "      <td>1819.0</td>\n",
              "      <td>411.0</td>\n",
              "      <td>1534.0</td>\n",
              "      <td>406.0</td>\n",
              "      <td>4.0132</td>\n",
              "      <td>229400.0</td>\n",
              "      <td>NEAR BAY</td>\n",
              "      <td>0</td>\n",
              "      <td>0</td>\n",
              "      <td>0</td>\n",
              "      <td>1</td>\n",
              "      <td>0</td>\n",
              "    </tr>\n",
              "    <tr>\n",
              "      <th>82</th>\n",
              "      <td>-122.28</td>\n",
              "      <td>37.81</td>\n",
              "      <td>52.0</td>\n",
              "      <td>340.0</td>\n",
              "      <td>97.0</td>\n",
              "      <td>200.0</td>\n",
              "      <td>87.0</td>\n",
              "      <td>1.5208</td>\n",
              "      <td>112500.0</td>\n",
              "      <td>NEAR BAY</td>\n",
              "      <td>0</td>\n",
              "      <td>0</td>\n",
              "      <td>0</td>\n",
              "      <td>1</td>\n",
              "      <td>0</td>\n",
              "    </tr>\n",
              "    <tr>\n",
              "      <th>8161</th>\n",
              "      <td>-118.13</td>\n",
              "      <td>33.82</td>\n",
              "      <td>37.0</td>\n",
              "      <td>1530.0</td>\n",
              "      <td>290.0</td>\n",
              "      <td>711.0</td>\n",
              "      <td>283.0</td>\n",
              "      <td>5.1795</td>\n",
              "      <td>225400.0</td>\n",
              "      <td>&lt;1H OCEAN</td>\n",
              "      <td>1</td>\n",
              "      <td>0</td>\n",
              "      <td>0</td>\n",
              "      <td>0</td>\n",
              "      <td>0</td>\n",
              "    </tr>\n",
              "  </tbody>\n",
              "</table>\n",
              "</div>\n",
              "      <button class=\"colab-df-convert\" onclick=\"convertToInteractive('df-302cc7a7-f7ed-46b9-8983-f6bbff764ac2')\"\n",
              "              title=\"Convert this dataframe to an interactive table.\"\n",
              "              style=\"display:none;\">\n",
              "        \n",
              "  <svg xmlns=\"http://www.w3.org/2000/svg\" height=\"24px\"viewBox=\"0 0 24 24\"\n",
              "       width=\"24px\">\n",
              "    <path d=\"M0 0h24v24H0V0z\" fill=\"none\"/>\n",
              "    <path d=\"M18.56 5.44l.94 2.06.94-2.06 2.06-.94-2.06-.94-.94-2.06-.94 2.06-2.06.94zm-11 1L8.5 8.5l.94-2.06 2.06-.94-2.06-.94L8.5 2.5l-.94 2.06-2.06.94zm10 10l.94 2.06.94-2.06 2.06-.94-2.06-.94-.94-2.06-.94 2.06-2.06.94z\"/><path d=\"M17.41 7.96l-1.37-1.37c-.4-.4-.92-.59-1.43-.59-.52 0-1.04.2-1.43.59L10.3 9.45l-7.72 7.72c-.78.78-.78 2.05 0 2.83L4 21.41c.39.39.9.59 1.41.59.51 0 1.02-.2 1.41-.59l7.78-7.78 2.81-2.81c.8-.78.8-2.07 0-2.86zM5.41 20L4 18.59l7.72-7.72 1.47 1.35L5.41 20z\"/>\n",
              "  </svg>\n",
              "      </button>\n",
              "      \n",
              "  <style>\n",
              "    .colab-df-container {\n",
              "      display:flex;\n",
              "      flex-wrap:wrap;\n",
              "      gap: 12px;\n",
              "    }\n",
              "\n",
              "    .colab-df-convert {\n",
              "      background-color: #E8F0FE;\n",
              "      border: none;\n",
              "      border-radius: 50%;\n",
              "      cursor: pointer;\n",
              "      display: none;\n",
              "      fill: #1967D2;\n",
              "      height: 32px;\n",
              "      padding: 0 0 0 0;\n",
              "      width: 32px;\n",
              "    }\n",
              "\n",
              "    .colab-df-convert:hover {\n",
              "      background-color: #E2EBFA;\n",
              "      box-shadow: 0px 1px 2px rgba(60, 64, 67, 0.3), 0px 1px 3px 1px rgba(60, 64, 67, 0.15);\n",
              "      fill: #174EA6;\n",
              "    }\n",
              "\n",
              "    [theme=dark] .colab-df-convert {\n",
              "      background-color: #3B4455;\n",
              "      fill: #D2E3FC;\n",
              "    }\n",
              "\n",
              "    [theme=dark] .colab-df-convert:hover {\n",
              "      background-color: #434B5C;\n",
              "      box-shadow: 0px 1px 3px 1px rgba(0, 0, 0, 0.15);\n",
              "      filter: drop-shadow(0px 1px 2px rgba(0, 0, 0, 0.3));\n",
              "      fill: #FFFFFF;\n",
              "    }\n",
              "  </style>\n",
              "\n",
              "      <script>\n",
              "        const buttonEl =\n",
              "          document.querySelector('#df-302cc7a7-f7ed-46b9-8983-f6bbff764ac2 button.colab-df-convert');\n",
              "        buttonEl.style.display =\n",
              "          google.colab.kernel.accessAllowed ? 'block' : 'none';\n",
              "\n",
              "        async function convertToInteractive(key) {\n",
              "          const element = document.querySelector('#df-302cc7a7-f7ed-46b9-8983-f6bbff764ac2');\n",
              "          const dataTable =\n",
              "            await google.colab.kernel.invokeFunction('convertToInteractive',\n",
              "                                                     [key], {});\n",
              "          if (!dataTable) return;\n",
              "\n",
              "          const docLinkHtml = 'Like what you see? Visit the ' +\n",
              "            '<a target=\"_blank\" href=https://colab.research.google.com/notebooks/data_table.ipynb>data table notebook</a>'\n",
              "            + ' to learn more about interactive tables.';\n",
              "          element.innerHTML = '';\n",
              "          dataTable['output_type'] = 'display_data';\n",
              "          await google.colab.output.renderOutput(dataTable, element);\n",
              "          const docLink = document.createElement('div');\n",
              "          docLink.innerHTML = docLinkHtml;\n",
              "          element.appendChild(docLink);\n",
              "        }\n",
              "      </script>\n",
              "    </div>\n",
              "  </div>\n",
              "  "
            ]
          },
          "metadata": {},
          "execution_count": 232
        }
      ]
    },
    {
      "cell_type": "code",
      "source": [
        "df.shape"
      ],
      "metadata": {
        "colab": {
          "base_uri": "https://localhost:8080/"
        },
        "id": "Z-MfaeOPuu6C",
        "outputId": "7c4f5095-2ddf-4543-fe71-b84ac69a7924"
      },
      "execution_count": 191,
      "outputs": [
        {
          "output_type": "execute_result",
          "data": {
            "text/plain": [
              "(20433, 15)"
            ]
          },
          "metadata": {},
          "execution_count": 191
        }
      ]
    },
    {
      "cell_type": "code",
      "source": [
        "df.tail()"
      ],
      "metadata": {
        "colab": {
          "base_uri": "https://localhost:8080/",
          "height": 206
        },
        "id": "5U8PWt2mrVRh",
        "outputId": "b8705b28-af62-4e1b-95e6-b8c5a256d9bf"
      },
      "execution_count": 192,
      "outputs": [
        {
          "output_type": "execute_result",
          "data": {
            "text/plain": [
              "       longitude  latitude  housing_median_age  total_rooms  total_bedrooms  \\\n",
              "10955    -117.88     33.76                17.0       1768.0           474.0   \n",
              "17289    -119.63     34.42                42.0       1765.0           263.0   \n",
              "5192     -118.26     33.93                42.0       1433.0           295.0   \n",
              "12172    -117.16     33.73                10.0       2381.0           454.0   \n",
              "235      -122.20     37.79                35.0       1802.0           459.0   \n",
              "\n",
              "       population  households  median_income ocean_proximity  <1H OCEAN  \\\n",
              "10955      1079.0       436.0         1.7823       <1H OCEAN          1   \n",
              "17289       753.0       260.0         8.5608       <1H OCEAN          1   \n",
              "5192        775.0       293.0         1.1326       <1H OCEAN          1   \n",
              "12172      1323.0       477.0         2.6322          INLAND          0   \n",
              "235        1009.0       390.0         2.3036        NEAR BAY          0   \n",
              "\n",
              "       INLAND  ISLAND  NEAR BAY  NEAR OCEAN  median_house_value  \n",
              "10955       0       0         0           0            205300.0  \n",
              "17289       0       0         0           0            500001.0  \n",
              "5192        0       0         0           0            104800.0  \n",
              "12172       1       0         0           0            140700.0  \n",
              "235         0       0         1           0            126000.0  "
            ],
            "text/html": [
              "\n",
              "  <div id=\"df-e1f583cf-4eef-48e7-b45b-079f0d3bbbe1\">\n",
              "    <div class=\"colab-df-container\">\n",
              "      <div>\n",
              "<style scoped>\n",
              "    .dataframe tbody tr th:only-of-type {\n",
              "        vertical-align: middle;\n",
              "    }\n",
              "\n",
              "    .dataframe tbody tr th {\n",
              "        vertical-align: top;\n",
              "    }\n",
              "\n",
              "    .dataframe thead th {\n",
              "        text-align: right;\n",
              "    }\n",
              "</style>\n",
              "<table border=\"1\" class=\"dataframe\">\n",
              "  <thead>\n",
              "    <tr style=\"text-align: right;\">\n",
              "      <th></th>\n",
              "      <th>longitude</th>\n",
              "      <th>latitude</th>\n",
              "      <th>housing_median_age</th>\n",
              "      <th>total_rooms</th>\n",
              "      <th>total_bedrooms</th>\n",
              "      <th>population</th>\n",
              "      <th>households</th>\n",
              "      <th>median_income</th>\n",
              "      <th>ocean_proximity</th>\n",
              "      <th>&lt;1H OCEAN</th>\n",
              "      <th>INLAND</th>\n",
              "      <th>ISLAND</th>\n",
              "      <th>NEAR BAY</th>\n",
              "      <th>NEAR OCEAN</th>\n",
              "      <th>median_house_value</th>\n",
              "    </tr>\n",
              "  </thead>\n",
              "  <tbody>\n",
              "    <tr>\n",
              "      <th>10955</th>\n",
              "      <td>-117.88</td>\n",
              "      <td>33.76</td>\n",
              "      <td>17.0</td>\n",
              "      <td>1768.0</td>\n",
              "      <td>474.0</td>\n",
              "      <td>1079.0</td>\n",
              "      <td>436.0</td>\n",
              "      <td>1.7823</td>\n",
              "      <td>&lt;1H OCEAN</td>\n",
              "      <td>1</td>\n",
              "      <td>0</td>\n",
              "      <td>0</td>\n",
              "      <td>0</td>\n",
              "      <td>0</td>\n",
              "      <td>205300.0</td>\n",
              "    </tr>\n",
              "    <tr>\n",
              "      <th>17289</th>\n",
              "      <td>-119.63</td>\n",
              "      <td>34.42</td>\n",
              "      <td>42.0</td>\n",
              "      <td>1765.0</td>\n",
              "      <td>263.0</td>\n",
              "      <td>753.0</td>\n",
              "      <td>260.0</td>\n",
              "      <td>8.5608</td>\n",
              "      <td>&lt;1H OCEAN</td>\n",
              "      <td>1</td>\n",
              "      <td>0</td>\n",
              "      <td>0</td>\n",
              "      <td>0</td>\n",
              "      <td>0</td>\n",
              "      <td>500001.0</td>\n",
              "    </tr>\n",
              "    <tr>\n",
              "      <th>5192</th>\n",
              "      <td>-118.26</td>\n",
              "      <td>33.93</td>\n",
              "      <td>42.0</td>\n",
              "      <td>1433.0</td>\n",
              "      <td>295.0</td>\n",
              "      <td>775.0</td>\n",
              "      <td>293.0</td>\n",
              "      <td>1.1326</td>\n",
              "      <td>&lt;1H OCEAN</td>\n",
              "      <td>1</td>\n",
              "      <td>0</td>\n",
              "      <td>0</td>\n",
              "      <td>0</td>\n",
              "      <td>0</td>\n",
              "      <td>104800.0</td>\n",
              "    </tr>\n",
              "    <tr>\n",
              "      <th>12172</th>\n",
              "      <td>-117.16</td>\n",
              "      <td>33.73</td>\n",
              "      <td>10.0</td>\n",
              "      <td>2381.0</td>\n",
              "      <td>454.0</td>\n",
              "      <td>1323.0</td>\n",
              "      <td>477.0</td>\n",
              "      <td>2.6322</td>\n",
              "      <td>INLAND</td>\n",
              "      <td>0</td>\n",
              "      <td>1</td>\n",
              "      <td>0</td>\n",
              "      <td>0</td>\n",
              "      <td>0</td>\n",
              "      <td>140700.0</td>\n",
              "    </tr>\n",
              "    <tr>\n",
              "      <th>235</th>\n",
              "      <td>-122.20</td>\n",
              "      <td>37.79</td>\n",
              "      <td>35.0</td>\n",
              "      <td>1802.0</td>\n",
              "      <td>459.0</td>\n",
              "      <td>1009.0</td>\n",
              "      <td>390.0</td>\n",
              "      <td>2.3036</td>\n",
              "      <td>NEAR BAY</td>\n",
              "      <td>0</td>\n",
              "      <td>0</td>\n",
              "      <td>0</td>\n",
              "      <td>1</td>\n",
              "      <td>0</td>\n",
              "      <td>126000.0</td>\n",
              "    </tr>\n",
              "  </tbody>\n",
              "</table>\n",
              "</div>\n",
              "      <button class=\"colab-df-convert\" onclick=\"convertToInteractive('df-e1f583cf-4eef-48e7-b45b-079f0d3bbbe1')\"\n",
              "              title=\"Convert this dataframe to an interactive table.\"\n",
              "              style=\"display:none;\">\n",
              "        \n",
              "  <svg xmlns=\"http://www.w3.org/2000/svg\" height=\"24px\"viewBox=\"0 0 24 24\"\n",
              "       width=\"24px\">\n",
              "    <path d=\"M0 0h24v24H0V0z\" fill=\"none\"/>\n",
              "    <path d=\"M18.56 5.44l.94 2.06.94-2.06 2.06-.94-2.06-.94-.94-2.06-.94 2.06-2.06.94zm-11 1L8.5 8.5l.94-2.06 2.06-.94-2.06-.94L8.5 2.5l-.94 2.06-2.06.94zm10 10l.94 2.06.94-2.06 2.06-.94-2.06-.94-.94-2.06-.94 2.06-2.06.94z\"/><path d=\"M17.41 7.96l-1.37-1.37c-.4-.4-.92-.59-1.43-.59-.52 0-1.04.2-1.43.59L10.3 9.45l-7.72 7.72c-.78.78-.78 2.05 0 2.83L4 21.41c.39.39.9.59 1.41.59.51 0 1.02-.2 1.41-.59l7.78-7.78 2.81-2.81c.8-.78.8-2.07 0-2.86zM5.41 20L4 18.59l7.72-7.72 1.47 1.35L5.41 20z\"/>\n",
              "  </svg>\n",
              "      </button>\n",
              "      \n",
              "  <style>\n",
              "    .colab-df-container {\n",
              "      display:flex;\n",
              "      flex-wrap:wrap;\n",
              "      gap: 12px;\n",
              "    }\n",
              "\n",
              "    .colab-df-convert {\n",
              "      background-color: #E8F0FE;\n",
              "      border: none;\n",
              "      border-radius: 50%;\n",
              "      cursor: pointer;\n",
              "      display: none;\n",
              "      fill: #1967D2;\n",
              "      height: 32px;\n",
              "      padding: 0 0 0 0;\n",
              "      width: 32px;\n",
              "    }\n",
              "\n",
              "    .colab-df-convert:hover {\n",
              "      background-color: #E2EBFA;\n",
              "      box-shadow: 0px 1px 2px rgba(60, 64, 67, 0.3), 0px 1px 3px 1px rgba(60, 64, 67, 0.15);\n",
              "      fill: #174EA6;\n",
              "    }\n",
              "\n",
              "    [theme=dark] .colab-df-convert {\n",
              "      background-color: #3B4455;\n",
              "      fill: #D2E3FC;\n",
              "    }\n",
              "\n",
              "    [theme=dark] .colab-df-convert:hover {\n",
              "      background-color: #434B5C;\n",
              "      box-shadow: 0px 1px 3px 1px rgba(0, 0, 0, 0.15);\n",
              "      filter: drop-shadow(0px 1px 2px rgba(0, 0, 0, 0.3));\n",
              "      fill: #FFFFFF;\n",
              "    }\n",
              "  </style>\n",
              "\n",
              "      <script>\n",
              "        const buttonEl =\n",
              "          document.querySelector('#df-e1f583cf-4eef-48e7-b45b-079f0d3bbbe1 button.colab-df-convert');\n",
              "        buttonEl.style.display =\n",
              "          google.colab.kernel.accessAllowed ? 'block' : 'none';\n",
              "\n",
              "        async function convertToInteractive(key) {\n",
              "          const element = document.querySelector('#df-e1f583cf-4eef-48e7-b45b-079f0d3bbbe1');\n",
              "          const dataTable =\n",
              "            await google.colab.kernel.invokeFunction('convertToInteractive',\n",
              "                                                     [key], {});\n",
              "          if (!dataTable) return;\n",
              "\n",
              "          const docLinkHtml = 'Like what you see? Visit the ' +\n",
              "            '<a target=\"_blank\" href=https://colab.research.google.com/notebooks/data_table.ipynb>data table notebook</a>'\n",
              "            + ' to learn more about interactive tables.';\n",
              "          element.innerHTML = '';\n",
              "          dataTable['output_type'] = 'display_data';\n",
              "          await google.colab.output.renderOutput(dataTable, element);\n",
              "          const docLink = document.createElement('div');\n",
              "          docLink.innerHTML = docLinkHtml;\n",
              "          element.appendChild(docLink);\n",
              "        }\n",
              "      </script>\n",
              "    </div>\n",
              "  </div>\n",
              "  "
            ]
          },
          "metadata": {},
          "execution_count": 192
        }
      ]
    },
    {
      "cell_type": "code",
      "source": [
        "df.columns"
      ],
      "metadata": {
        "colab": {
          "base_uri": "https://localhost:8080/"
        },
        "id": "PW4RvAYqoCHo",
        "outputId": "1f7d4c6a-ecd1-420a-e684-fa106393d35e"
      },
      "execution_count": 233,
      "outputs": [
        {
          "output_type": "execute_result",
          "data": {
            "text/plain": [
              "Index(['longitude', 'latitude', 'housing_median_age', 'total_rooms',\n",
              "       'total_bedrooms', 'population', 'households', 'median_income',\n",
              "       'median_house_value', 'ocean_proximity', '<1H OCEAN', 'INLAND',\n",
              "       'ISLAND', 'NEAR BAY', 'NEAR OCEAN'],\n",
              "      dtype='object')"
            ]
          },
          "metadata": {},
          "execution_count": 233
        }
      ]
    },
    {
      "cell_type": "code",
      "source": [
        "df= df [[ 'longitude', 'latitude', 'housing_median_age', 'total_rooms',\n",
        "       'total_bedrooms', 'population', 'households', 'median_income',\n",
        "       #'ocean_proximity'\n",
        "       '<1H OCEAN',\n",
        "       \n",
        "       'INLAND',\n",
        "       'ISLAND', 'NEAR BAY', 'NEAR OCEAN' , 'median_house_value']]"
      ],
      "metadata": {
        "id": "h6LcYWv6oJWG"
      },
      "execution_count": 236,
      "outputs": []
    },
    {
      "cell_type": "code",
      "source": [
        "df"
      ],
      "metadata": {
        "colab": {
          "base_uri": "https://localhost:8080/",
          "height": 424
        },
        "id": "kRfBTsNnL6OX",
        "outputId": "f56d318c-67b4-4ac6-e1ed-f3dc41c6fdd7"
      },
      "execution_count": 237,
      "outputs": [
        {
          "output_type": "execute_result",
          "data": {
            "text/plain": [
              "       longitude  latitude  housing_median_age  total_rooms  total_bedrooms  \\\n",
              "4712     -118.36     34.06                39.0       2810.0           670.0   \n",
              "2151     -119.78     36.78                37.0       2185.0           455.0   \n",
              "15927    -122.42     37.73                46.0       1819.0           411.0   \n",
              "82       -122.28     37.81                52.0        340.0            97.0   \n",
              "8161     -118.13     33.82                37.0       1530.0           290.0   \n",
              "...          ...       ...                 ...          ...             ...   \n",
              "10955    -117.88     33.76                17.0       1768.0           474.0   \n",
              "17289    -119.63     34.42                42.0       1765.0           263.0   \n",
              "5192     -118.26     33.93                42.0       1433.0           295.0   \n",
              "12172    -117.16     33.73                10.0       2381.0           454.0   \n",
              "235      -122.20     37.79                35.0       1802.0           459.0   \n",
              "\n",
              "       population  households  median_income  <1H OCEAN  INLAND  ISLAND  \\\n",
              "4712       1109.0       624.0         3.2500          1       0       0   \n",
              "2151       1143.0       438.0         1.9784          0       1       0   \n",
              "15927      1534.0       406.0         4.0132          0       0       0   \n",
              "82          200.0        87.0         1.5208          0       0       0   \n",
              "8161        711.0       283.0         5.1795          1       0       0   \n",
              "...           ...         ...            ...        ...     ...     ...   \n",
              "10955      1079.0       436.0         1.7823          1       0       0   \n",
              "17289       753.0       260.0         8.5608          1       0       0   \n",
              "5192        775.0       293.0         1.1326          1       0       0   \n",
              "12172      1323.0       477.0         2.6322          0       1       0   \n",
              "235        1009.0       390.0         2.3036          0       0       0   \n",
              "\n",
              "       NEAR BAY  NEAR OCEAN  median_house_value  \n",
              "4712          0           0            355000.0  \n",
              "2151          0           0             70700.0  \n",
              "15927         1           0            229400.0  \n",
              "82            1           0            112500.0  \n",
              "8161          0           0            225400.0  \n",
              "...         ...         ...                 ...  \n",
              "10955         0           0            205300.0  \n",
              "17289         0           0            500001.0  \n",
              "5192          0           0            104800.0  \n",
              "12172         0           0            140700.0  \n",
              "235           1           0            126000.0  \n",
              "\n",
              "[20640 rows x 14 columns]"
            ],
            "text/html": [
              "\n",
              "  <div id=\"df-43a3e56e-a2e5-4f1d-892c-92551a267e0b\">\n",
              "    <div class=\"colab-df-container\">\n",
              "      <div>\n",
              "<style scoped>\n",
              "    .dataframe tbody tr th:only-of-type {\n",
              "        vertical-align: middle;\n",
              "    }\n",
              "\n",
              "    .dataframe tbody tr th {\n",
              "        vertical-align: top;\n",
              "    }\n",
              "\n",
              "    .dataframe thead th {\n",
              "        text-align: right;\n",
              "    }\n",
              "</style>\n",
              "<table border=\"1\" class=\"dataframe\">\n",
              "  <thead>\n",
              "    <tr style=\"text-align: right;\">\n",
              "      <th></th>\n",
              "      <th>longitude</th>\n",
              "      <th>latitude</th>\n",
              "      <th>housing_median_age</th>\n",
              "      <th>total_rooms</th>\n",
              "      <th>total_bedrooms</th>\n",
              "      <th>population</th>\n",
              "      <th>households</th>\n",
              "      <th>median_income</th>\n",
              "      <th>&lt;1H OCEAN</th>\n",
              "      <th>INLAND</th>\n",
              "      <th>ISLAND</th>\n",
              "      <th>NEAR BAY</th>\n",
              "      <th>NEAR OCEAN</th>\n",
              "      <th>median_house_value</th>\n",
              "    </tr>\n",
              "  </thead>\n",
              "  <tbody>\n",
              "    <tr>\n",
              "      <th>4712</th>\n",
              "      <td>-118.36</td>\n",
              "      <td>34.06</td>\n",
              "      <td>39.0</td>\n",
              "      <td>2810.0</td>\n",
              "      <td>670.0</td>\n",
              "      <td>1109.0</td>\n",
              "      <td>624.0</td>\n",
              "      <td>3.2500</td>\n",
              "      <td>1</td>\n",
              "      <td>0</td>\n",
              "      <td>0</td>\n",
              "      <td>0</td>\n",
              "      <td>0</td>\n",
              "      <td>355000.0</td>\n",
              "    </tr>\n",
              "    <tr>\n",
              "      <th>2151</th>\n",
              "      <td>-119.78</td>\n",
              "      <td>36.78</td>\n",
              "      <td>37.0</td>\n",
              "      <td>2185.0</td>\n",
              "      <td>455.0</td>\n",
              "      <td>1143.0</td>\n",
              "      <td>438.0</td>\n",
              "      <td>1.9784</td>\n",
              "      <td>0</td>\n",
              "      <td>1</td>\n",
              "      <td>0</td>\n",
              "      <td>0</td>\n",
              "      <td>0</td>\n",
              "      <td>70700.0</td>\n",
              "    </tr>\n",
              "    <tr>\n",
              "      <th>15927</th>\n",
              "      <td>-122.42</td>\n",
              "      <td>37.73</td>\n",
              "      <td>46.0</td>\n",
              "      <td>1819.0</td>\n",
              "      <td>411.0</td>\n",
              "      <td>1534.0</td>\n",
              "      <td>406.0</td>\n",
              "      <td>4.0132</td>\n",
              "      <td>0</td>\n",
              "      <td>0</td>\n",
              "      <td>0</td>\n",
              "      <td>1</td>\n",
              "      <td>0</td>\n",
              "      <td>229400.0</td>\n",
              "    </tr>\n",
              "    <tr>\n",
              "      <th>82</th>\n",
              "      <td>-122.28</td>\n",
              "      <td>37.81</td>\n",
              "      <td>52.0</td>\n",
              "      <td>340.0</td>\n",
              "      <td>97.0</td>\n",
              "      <td>200.0</td>\n",
              "      <td>87.0</td>\n",
              "      <td>1.5208</td>\n",
              "      <td>0</td>\n",
              "      <td>0</td>\n",
              "      <td>0</td>\n",
              "      <td>1</td>\n",
              "      <td>0</td>\n",
              "      <td>112500.0</td>\n",
              "    </tr>\n",
              "    <tr>\n",
              "      <th>8161</th>\n",
              "      <td>-118.13</td>\n",
              "      <td>33.82</td>\n",
              "      <td>37.0</td>\n",
              "      <td>1530.0</td>\n",
              "      <td>290.0</td>\n",
              "      <td>711.0</td>\n",
              "      <td>283.0</td>\n",
              "      <td>5.1795</td>\n",
              "      <td>1</td>\n",
              "      <td>0</td>\n",
              "      <td>0</td>\n",
              "      <td>0</td>\n",
              "      <td>0</td>\n",
              "      <td>225400.0</td>\n",
              "    </tr>\n",
              "    <tr>\n",
              "      <th>...</th>\n",
              "      <td>...</td>\n",
              "      <td>...</td>\n",
              "      <td>...</td>\n",
              "      <td>...</td>\n",
              "      <td>...</td>\n",
              "      <td>...</td>\n",
              "      <td>...</td>\n",
              "      <td>...</td>\n",
              "      <td>...</td>\n",
              "      <td>...</td>\n",
              "      <td>...</td>\n",
              "      <td>...</td>\n",
              "      <td>...</td>\n",
              "      <td>...</td>\n",
              "    </tr>\n",
              "    <tr>\n",
              "      <th>10955</th>\n",
              "      <td>-117.88</td>\n",
              "      <td>33.76</td>\n",
              "      <td>17.0</td>\n",
              "      <td>1768.0</td>\n",
              "      <td>474.0</td>\n",
              "      <td>1079.0</td>\n",
              "      <td>436.0</td>\n",
              "      <td>1.7823</td>\n",
              "      <td>1</td>\n",
              "      <td>0</td>\n",
              "      <td>0</td>\n",
              "      <td>0</td>\n",
              "      <td>0</td>\n",
              "      <td>205300.0</td>\n",
              "    </tr>\n",
              "    <tr>\n",
              "      <th>17289</th>\n",
              "      <td>-119.63</td>\n",
              "      <td>34.42</td>\n",
              "      <td>42.0</td>\n",
              "      <td>1765.0</td>\n",
              "      <td>263.0</td>\n",
              "      <td>753.0</td>\n",
              "      <td>260.0</td>\n",
              "      <td>8.5608</td>\n",
              "      <td>1</td>\n",
              "      <td>0</td>\n",
              "      <td>0</td>\n",
              "      <td>0</td>\n",
              "      <td>0</td>\n",
              "      <td>500001.0</td>\n",
              "    </tr>\n",
              "    <tr>\n",
              "      <th>5192</th>\n",
              "      <td>-118.26</td>\n",
              "      <td>33.93</td>\n",
              "      <td>42.0</td>\n",
              "      <td>1433.0</td>\n",
              "      <td>295.0</td>\n",
              "      <td>775.0</td>\n",
              "      <td>293.0</td>\n",
              "      <td>1.1326</td>\n",
              "      <td>1</td>\n",
              "      <td>0</td>\n",
              "      <td>0</td>\n",
              "      <td>0</td>\n",
              "      <td>0</td>\n",
              "      <td>104800.0</td>\n",
              "    </tr>\n",
              "    <tr>\n",
              "      <th>12172</th>\n",
              "      <td>-117.16</td>\n",
              "      <td>33.73</td>\n",
              "      <td>10.0</td>\n",
              "      <td>2381.0</td>\n",
              "      <td>454.0</td>\n",
              "      <td>1323.0</td>\n",
              "      <td>477.0</td>\n",
              "      <td>2.6322</td>\n",
              "      <td>0</td>\n",
              "      <td>1</td>\n",
              "      <td>0</td>\n",
              "      <td>0</td>\n",
              "      <td>0</td>\n",
              "      <td>140700.0</td>\n",
              "    </tr>\n",
              "    <tr>\n",
              "      <th>235</th>\n",
              "      <td>-122.20</td>\n",
              "      <td>37.79</td>\n",
              "      <td>35.0</td>\n",
              "      <td>1802.0</td>\n",
              "      <td>459.0</td>\n",
              "      <td>1009.0</td>\n",
              "      <td>390.0</td>\n",
              "      <td>2.3036</td>\n",
              "      <td>0</td>\n",
              "      <td>0</td>\n",
              "      <td>0</td>\n",
              "      <td>1</td>\n",
              "      <td>0</td>\n",
              "      <td>126000.0</td>\n",
              "    </tr>\n",
              "  </tbody>\n",
              "</table>\n",
              "<p>20640 rows × 14 columns</p>\n",
              "</div>\n",
              "      <button class=\"colab-df-convert\" onclick=\"convertToInteractive('df-43a3e56e-a2e5-4f1d-892c-92551a267e0b')\"\n",
              "              title=\"Convert this dataframe to an interactive table.\"\n",
              "              style=\"display:none;\">\n",
              "        \n",
              "  <svg xmlns=\"http://www.w3.org/2000/svg\" height=\"24px\"viewBox=\"0 0 24 24\"\n",
              "       width=\"24px\">\n",
              "    <path d=\"M0 0h24v24H0V0z\" fill=\"none\"/>\n",
              "    <path d=\"M18.56 5.44l.94 2.06.94-2.06 2.06-.94-2.06-.94-.94-2.06-.94 2.06-2.06.94zm-11 1L8.5 8.5l.94-2.06 2.06-.94-2.06-.94L8.5 2.5l-.94 2.06-2.06.94zm10 10l.94 2.06.94-2.06 2.06-.94-2.06-.94-.94-2.06-.94 2.06-2.06.94z\"/><path d=\"M17.41 7.96l-1.37-1.37c-.4-.4-.92-.59-1.43-.59-.52 0-1.04.2-1.43.59L10.3 9.45l-7.72 7.72c-.78.78-.78 2.05 0 2.83L4 21.41c.39.39.9.59 1.41.59.51 0 1.02-.2 1.41-.59l7.78-7.78 2.81-2.81c.8-.78.8-2.07 0-2.86zM5.41 20L4 18.59l7.72-7.72 1.47 1.35L5.41 20z\"/>\n",
              "  </svg>\n",
              "      </button>\n",
              "      \n",
              "  <style>\n",
              "    .colab-df-container {\n",
              "      display:flex;\n",
              "      flex-wrap:wrap;\n",
              "      gap: 12px;\n",
              "    }\n",
              "\n",
              "    .colab-df-convert {\n",
              "      background-color: #E8F0FE;\n",
              "      border: none;\n",
              "      border-radius: 50%;\n",
              "      cursor: pointer;\n",
              "      display: none;\n",
              "      fill: #1967D2;\n",
              "      height: 32px;\n",
              "      padding: 0 0 0 0;\n",
              "      width: 32px;\n",
              "    }\n",
              "\n",
              "    .colab-df-convert:hover {\n",
              "      background-color: #E2EBFA;\n",
              "      box-shadow: 0px 1px 2px rgba(60, 64, 67, 0.3), 0px 1px 3px 1px rgba(60, 64, 67, 0.15);\n",
              "      fill: #174EA6;\n",
              "    }\n",
              "\n",
              "    [theme=dark] .colab-df-convert {\n",
              "      background-color: #3B4455;\n",
              "      fill: #D2E3FC;\n",
              "    }\n",
              "\n",
              "    [theme=dark] .colab-df-convert:hover {\n",
              "      background-color: #434B5C;\n",
              "      box-shadow: 0px 1px 3px 1px rgba(0, 0, 0, 0.15);\n",
              "      filter: drop-shadow(0px 1px 2px rgba(0, 0, 0, 0.3));\n",
              "      fill: #FFFFFF;\n",
              "    }\n",
              "  </style>\n",
              "\n",
              "      <script>\n",
              "        const buttonEl =\n",
              "          document.querySelector('#df-43a3e56e-a2e5-4f1d-892c-92551a267e0b button.colab-df-convert');\n",
              "        buttonEl.style.display =\n",
              "          google.colab.kernel.accessAllowed ? 'block' : 'none';\n",
              "\n",
              "        async function convertToInteractive(key) {\n",
              "          const element = document.querySelector('#df-43a3e56e-a2e5-4f1d-892c-92551a267e0b');\n",
              "          const dataTable =\n",
              "            await google.colab.kernel.invokeFunction('convertToInteractive',\n",
              "                                                     [key], {});\n",
              "          if (!dataTable) return;\n",
              "\n",
              "          const docLinkHtml = 'Like what you see? Visit the ' +\n",
              "            '<a target=\"_blank\" href=https://colab.research.google.com/notebooks/data_table.ipynb>data table notebook</a>'\n",
              "            + ' to learn more about interactive tables.';\n",
              "          element.innerHTML = '';\n",
              "          dataTable['output_type'] = 'display_data';\n",
              "          await google.colab.output.renderOutput(dataTable, element);\n",
              "          const docLink = document.createElement('div');\n",
              "          docLink.innerHTML = docLinkHtml;\n",
              "          element.appendChild(docLink);\n",
              "        }\n",
              "      </script>\n",
              "    </div>\n",
              "  </div>\n",
              "  "
            ]
          },
          "metadata": {},
          "execution_count": 237
        }
      ]
    },
    {
      "cell_type": "code",
      "source": [
        "df.dtypes"
      ],
      "metadata": {
        "colab": {
          "base_uri": "https://localhost:8080/"
        },
        "id": "QzMedk8Uxr_W",
        "outputId": "8e95e249-c0cb-4177-83d3-0214e009a81f"
      },
      "execution_count": 117,
      "outputs": [
        {
          "output_type": "execute_result",
          "data": {
            "text/plain": [
              "longitude             float64\n",
              "latitude              float64\n",
              "housing_median_age    float64\n",
              "total_rooms           float64\n",
              "total_bedrooms        float64\n",
              "population            float64\n",
              "households            float64\n",
              "median_income         float64\n",
              "ocean_proximity        object\n",
              "<1H OCEAN               uint8\n",
              "INLAND                  uint8\n",
              "ISLAND                  uint8\n",
              "NEAR BAY                uint8\n",
              "NEAR OCEAN              uint8\n",
              "median_house_value    float64\n",
              "dtype: object"
            ]
          },
          "metadata": {},
          "execution_count": 117
        }
      ]
    },
    {
      "cell_type": "code",
      "source": [
        "import seaborn as sns\n",
        "import matplotlib.pyplot as plt\n"
      ],
      "metadata": {
        "id": "_B1cLlmBwt9u"
      },
      "execution_count": 238,
      "outputs": []
    },
    {
      "cell_type": "code",
      "source": [
        "df.describe()"
      ],
      "metadata": {
        "colab": {
          "base_uri": "https://localhost:8080/",
          "height": 301
        },
        "id": "VF-3RuUesb1R",
        "outputId": "9fba6955-6527-44c5-f2f1-e274cc6610d1"
      },
      "execution_count": 239,
      "outputs": [
        {
          "output_type": "execute_result",
          "data": {
            "text/plain": [
              "          longitude      latitude  housing_median_age   total_rooms  \\\n",
              "count  20640.000000  20640.000000        20640.000000  20640.000000   \n",
              "mean    -119.569704     35.631861           28.639486   2635.763081   \n",
              "std        2.003532      2.135952           12.585558   2181.615252   \n",
              "min     -124.350000     32.540000            1.000000      2.000000   \n",
              "25%     -121.800000     33.930000           18.000000   1447.750000   \n",
              "50%     -118.490000     34.260000           29.000000   2127.000000   \n",
              "75%     -118.010000     37.710000           37.000000   3148.000000   \n",
              "max     -114.310000     41.950000           52.000000  39320.000000   \n",
              "\n",
              "       total_bedrooms    population    households  median_income  \\\n",
              "count    20433.000000  20640.000000  20640.000000   20640.000000   \n",
              "mean       537.870553   1425.476744    499.539680       3.870671   \n",
              "std        421.385070   1132.462122    382.329753       1.899822   \n",
              "min          1.000000      3.000000      1.000000       0.499900   \n",
              "25%        296.000000    787.000000    280.000000       2.563400   \n",
              "50%        435.000000   1166.000000    409.000000       3.534800   \n",
              "75%        647.000000   1725.000000    605.000000       4.743250   \n",
              "max       6445.000000  35682.000000   6082.000000      15.000100   \n",
              "\n",
              "          <1H OCEAN        INLAND        ISLAND      NEAR BAY    NEAR OCEAN  \\\n",
              "count  20640.000000  20640.000000  20640.000000  20640.000000  20640.000000   \n",
              "mean       0.442636      0.317393      0.000242      0.110950      0.128779   \n",
              "std        0.496710      0.465473      0.015563      0.314077      0.334963   \n",
              "min        0.000000      0.000000      0.000000      0.000000      0.000000   \n",
              "25%        0.000000      0.000000      0.000000      0.000000      0.000000   \n",
              "50%        0.000000      0.000000      0.000000      0.000000      0.000000   \n",
              "75%        1.000000      1.000000      0.000000      0.000000      0.000000   \n",
              "max        1.000000      1.000000      1.000000      1.000000      1.000000   \n",
              "\n",
              "       median_house_value  \n",
              "count        20640.000000  \n",
              "mean        206855.816909  \n",
              "std         115395.615874  \n",
              "min          14999.000000  \n",
              "25%         119600.000000  \n",
              "50%         179700.000000  \n",
              "75%         264725.000000  \n",
              "max         500001.000000  "
            ],
            "text/html": [
              "\n",
              "  <div id=\"df-a265fffc-13ed-452d-9788-f1d14b24556c\">\n",
              "    <div class=\"colab-df-container\">\n",
              "      <div>\n",
              "<style scoped>\n",
              "    .dataframe tbody tr th:only-of-type {\n",
              "        vertical-align: middle;\n",
              "    }\n",
              "\n",
              "    .dataframe tbody tr th {\n",
              "        vertical-align: top;\n",
              "    }\n",
              "\n",
              "    .dataframe thead th {\n",
              "        text-align: right;\n",
              "    }\n",
              "</style>\n",
              "<table border=\"1\" class=\"dataframe\">\n",
              "  <thead>\n",
              "    <tr style=\"text-align: right;\">\n",
              "      <th></th>\n",
              "      <th>longitude</th>\n",
              "      <th>latitude</th>\n",
              "      <th>housing_median_age</th>\n",
              "      <th>total_rooms</th>\n",
              "      <th>total_bedrooms</th>\n",
              "      <th>population</th>\n",
              "      <th>households</th>\n",
              "      <th>median_income</th>\n",
              "      <th>&lt;1H OCEAN</th>\n",
              "      <th>INLAND</th>\n",
              "      <th>ISLAND</th>\n",
              "      <th>NEAR BAY</th>\n",
              "      <th>NEAR OCEAN</th>\n",
              "      <th>median_house_value</th>\n",
              "    </tr>\n",
              "  </thead>\n",
              "  <tbody>\n",
              "    <tr>\n",
              "      <th>count</th>\n",
              "      <td>20640.000000</td>\n",
              "      <td>20640.000000</td>\n",
              "      <td>20640.000000</td>\n",
              "      <td>20640.000000</td>\n",
              "      <td>20433.000000</td>\n",
              "      <td>20640.000000</td>\n",
              "      <td>20640.000000</td>\n",
              "      <td>20640.000000</td>\n",
              "      <td>20640.000000</td>\n",
              "      <td>20640.000000</td>\n",
              "      <td>20640.000000</td>\n",
              "      <td>20640.000000</td>\n",
              "      <td>20640.000000</td>\n",
              "      <td>20640.000000</td>\n",
              "    </tr>\n",
              "    <tr>\n",
              "      <th>mean</th>\n",
              "      <td>-119.569704</td>\n",
              "      <td>35.631861</td>\n",
              "      <td>28.639486</td>\n",
              "      <td>2635.763081</td>\n",
              "      <td>537.870553</td>\n",
              "      <td>1425.476744</td>\n",
              "      <td>499.539680</td>\n",
              "      <td>3.870671</td>\n",
              "      <td>0.442636</td>\n",
              "      <td>0.317393</td>\n",
              "      <td>0.000242</td>\n",
              "      <td>0.110950</td>\n",
              "      <td>0.128779</td>\n",
              "      <td>206855.816909</td>\n",
              "    </tr>\n",
              "    <tr>\n",
              "      <th>std</th>\n",
              "      <td>2.003532</td>\n",
              "      <td>2.135952</td>\n",
              "      <td>12.585558</td>\n",
              "      <td>2181.615252</td>\n",
              "      <td>421.385070</td>\n",
              "      <td>1132.462122</td>\n",
              "      <td>382.329753</td>\n",
              "      <td>1.899822</td>\n",
              "      <td>0.496710</td>\n",
              "      <td>0.465473</td>\n",
              "      <td>0.015563</td>\n",
              "      <td>0.314077</td>\n",
              "      <td>0.334963</td>\n",
              "      <td>115395.615874</td>\n",
              "    </tr>\n",
              "    <tr>\n",
              "      <th>min</th>\n",
              "      <td>-124.350000</td>\n",
              "      <td>32.540000</td>\n",
              "      <td>1.000000</td>\n",
              "      <td>2.000000</td>\n",
              "      <td>1.000000</td>\n",
              "      <td>3.000000</td>\n",
              "      <td>1.000000</td>\n",
              "      <td>0.499900</td>\n",
              "      <td>0.000000</td>\n",
              "      <td>0.000000</td>\n",
              "      <td>0.000000</td>\n",
              "      <td>0.000000</td>\n",
              "      <td>0.000000</td>\n",
              "      <td>14999.000000</td>\n",
              "    </tr>\n",
              "    <tr>\n",
              "      <th>25%</th>\n",
              "      <td>-121.800000</td>\n",
              "      <td>33.930000</td>\n",
              "      <td>18.000000</td>\n",
              "      <td>1447.750000</td>\n",
              "      <td>296.000000</td>\n",
              "      <td>787.000000</td>\n",
              "      <td>280.000000</td>\n",
              "      <td>2.563400</td>\n",
              "      <td>0.000000</td>\n",
              "      <td>0.000000</td>\n",
              "      <td>0.000000</td>\n",
              "      <td>0.000000</td>\n",
              "      <td>0.000000</td>\n",
              "      <td>119600.000000</td>\n",
              "    </tr>\n",
              "    <tr>\n",
              "      <th>50%</th>\n",
              "      <td>-118.490000</td>\n",
              "      <td>34.260000</td>\n",
              "      <td>29.000000</td>\n",
              "      <td>2127.000000</td>\n",
              "      <td>435.000000</td>\n",
              "      <td>1166.000000</td>\n",
              "      <td>409.000000</td>\n",
              "      <td>3.534800</td>\n",
              "      <td>0.000000</td>\n",
              "      <td>0.000000</td>\n",
              "      <td>0.000000</td>\n",
              "      <td>0.000000</td>\n",
              "      <td>0.000000</td>\n",
              "      <td>179700.000000</td>\n",
              "    </tr>\n",
              "    <tr>\n",
              "      <th>75%</th>\n",
              "      <td>-118.010000</td>\n",
              "      <td>37.710000</td>\n",
              "      <td>37.000000</td>\n",
              "      <td>3148.000000</td>\n",
              "      <td>647.000000</td>\n",
              "      <td>1725.000000</td>\n",
              "      <td>605.000000</td>\n",
              "      <td>4.743250</td>\n",
              "      <td>1.000000</td>\n",
              "      <td>1.000000</td>\n",
              "      <td>0.000000</td>\n",
              "      <td>0.000000</td>\n",
              "      <td>0.000000</td>\n",
              "      <td>264725.000000</td>\n",
              "    </tr>\n",
              "    <tr>\n",
              "      <th>max</th>\n",
              "      <td>-114.310000</td>\n",
              "      <td>41.950000</td>\n",
              "      <td>52.000000</td>\n",
              "      <td>39320.000000</td>\n",
              "      <td>6445.000000</td>\n",
              "      <td>35682.000000</td>\n",
              "      <td>6082.000000</td>\n",
              "      <td>15.000100</td>\n",
              "      <td>1.000000</td>\n",
              "      <td>1.000000</td>\n",
              "      <td>1.000000</td>\n",
              "      <td>1.000000</td>\n",
              "      <td>1.000000</td>\n",
              "      <td>500001.000000</td>\n",
              "    </tr>\n",
              "  </tbody>\n",
              "</table>\n",
              "</div>\n",
              "      <button class=\"colab-df-convert\" onclick=\"convertToInteractive('df-a265fffc-13ed-452d-9788-f1d14b24556c')\"\n",
              "              title=\"Convert this dataframe to an interactive table.\"\n",
              "              style=\"display:none;\">\n",
              "        \n",
              "  <svg xmlns=\"http://www.w3.org/2000/svg\" height=\"24px\"viewBox=\"0 0 24 24\"\n",
              "       width=\"24px\">\n",
              "    <path d=\"M0 0h24v24H0V0z\" fill=\"none\"/>\n",
              "    <path d=\"M18.56 5.44l.94 2.06.94-2.06 2.06-.94-2.06-.94-.94-2.06-.94 2.06-2.06.94zm-11 1L8.5 8.5l.94-2.06 2.06-.94-2.06-.94L8.5 2.5l-.94 2.06-2.06.94zm10 10l.94 2.06.94-2.06 2.06-.94-2.06-.94-.94-2.06-.94 2.06-2.06.94z\"/><path d=\"M17.41 7.96l-1.37-1.37c-.4-.4-.92-.59-1.43-.59-.52 0-1.04.2-1.43.59L10.3 9.45l-7.72 7.72c-.78.78-.78 2.05 0 2.83L4 21.41c.39.39.9.59 1.41.59.51 0 1.02-.2 1.41-.59l7.78-7.78 2.81-2.81c.8-.78.8-2.07 0-2.86zM5.41 20L4 18.59l7.72-7.72 1.47 1.35L5.41 20z\"/>\n",
              "  </svg>\n",
              "      </button>\n",
              "      \n",
              "  <style>\n",
              "    .colab-df-container {\n",
              "      display:flex;\n",
              "      flex-wrap:wrap;\n",
              "      gap: 12px;\n",
              "    }\n",
              "\n",
              "    .colab-df-convert {\n",
              "      background-color: #E8F0FE;\n",
              "      border: none;\n",
              "      border-radius: 50%;\n",
              "      cursor: pointer;\n",
              "      display: none;\n",
              "      fill: #1967D2;\n",
              "      height: 32px;\n",
              "      padding: 0 0 0 0;\n",
              "      width: 32px;\n",
              "    }\n",
              "\n",
              "    .colab-df-convert:hover {\n",
              "      background-color: #E2EBFA;\n",
              "      box-shadow: 0px 1px 2px rgba(60, 64, 67, 0.3), 0px 1px 3px 1px rgba(60, 64, 67, 0.15);\n",
              "      fill: #174EA6;\n",
              "    }\n",
              "\n",
              "    [theme=dark] .colab-df-convert {\n",
              "      background-color: #3B4455;\n",
              "      fill: #D2E3FC;\n",
              "    }\n",
              "\n",
              "    [theme=dark] .colab-df-convert:hover {\n",
              "      background-color: #434B5C;\n",
              "      box-shadow: 0px 1px 3px 1px rgba(0, 0, 0, 0.15);\n",
              "      filter: drop-shadow(0px 1px 2px rgba(0, 0, 0, 0.3));\n",
              "      fill: #FFFFFF;\n",
              "    }\n",
              "  </style>\n",
              "\n",
              "      <script>\n",
              "        const buttonEl =\n",
              "          document.querySelector('#df-a265fffc-13ed-452d-9788-f1d14b24556c button.colab-df-convert');\n",
              "        buttonEl.style.display =\n",
              "          google.colab.kernel.accessAllowed ? 'block' : 'none';\n",
              "\n",
              "        async function convertToInteractive(key) {\n",
              "          const element = document.querySelector('#df-a265fffc-13ed-452d-9788-f1d14b24556c');\n",
              "          const dataTable =\n",
              "            await google.colab.kernel.invokeFunction('convertToInteractive',\n",
              "                                                     [key], {});\n",
              "          if (!dataTable) return;\n",
              "\n",
              "          const docLinkHtml = 'Like what you see? Visit the ' +\n",
              "            '<a target=\"_blank\" href=https://colab.research.google.com/notebooks/data_table.ipynb>data table notebook</a>'\n",
              "            + ' to learn more about interactive tables.';\n",
              "          element.innerHTML = '';\n",
              "          dataTable['output_type'] = 'display_data';\n",
              "          await google.colab.output.renderOutput(dataTable, element);\n",
              "          const docLink = document.createElement('div');\n",
              "          docLink.innerHTML = docLinkHtml;\n",
              "          element.appendChild(docLink);\n",
              "        }\n",
              "      </script>\n",
              "    </div>\n",
              "  </div>\n",
              "  "
            ]
          },
          "metadata": {},
          "execution_count": 239
        }
      ]
    },
    {
      "cell_type": "code",
      "source": [
        "df.dropna()"
      ],
      "metadata": {
        "colab": {
          "base_uri": "https://localhost:8080/",
          "height": 424
        },
        "id": "raGJsKCftRyC",
        "outputId": "d0f8f528-e099-41d1-e2cb-5c921176a9b0"
      },
      "execution_count": 251,
      "outputs": [
        {
          "output_type": "execute_result",
          "data": {
            "text/plain": [
              "       longitude  latitude  housing_median_age  total_rooms  total_bedrooms  \\\n",
              "4712     -118.36     34.06                39.0       2810.0           670.0   \n",
              "2151     -119.78     36.78                37.0       2185.0           455.0   \n",
              "15927    -122.42     37.73                46.0       1819.0           411.0   \n",
              "82       -122.28     37.81                52.0        340.0            97.0   \n",
              "8161     -118.13     33.82                37.0       1530.0           290.0   \n",
              "...          ...       ...                 ...          ...             ...   \n",
              "10955    -117.88     33.76                17.0       1768.0           474.0   \n",
              "17289    -119.63     34.42                42.0       1765.0           263.0   \n",
              "5192     -118.26     33.93                42.0       1433.0           295.0   \n",
              "12172    -117.16     33.73                10.0       2381.0           454.0   \n",
              "235      -122.20     37.79                35.0       1802.0           459.0   \n",
              "\n",
              "       population  households  median_income  <1H OCEAN  INLAND  ISLAND  \\\n",
              "4712       1109.0       624.0         3.2500          1       0       0   \n",
              "2151       1143.0       438.0         1.9784          0       1       0   \n",
              "15927      1534.0       406.0         4.0132          0       0       0   \n",
              "82          200.0        87.0         1.5208          0       0       0   \n",
              "8161        711.0       283.0         5.1795          1       0       0   \n",
              "...           ...         ...            ...        ...     ...     ...   \n",
              "10955      1079.0       436.0         1.7823          1       0       0   \n",
              "17289       753.0       260.0         8.5608          1       0       0   \n",
              "5192        775.0       293.0         1.1326          1       0       0   \n",
              "12172      1323.0       477.0         2.6322          0       1       0   \n",
              "235        1009.0       390.0         2.3036          0       0       0   \n",
              "\n",
              "       NEAR BAY  NEAR OCEAN  median_house_value  \n",
              "4712          0           0            355000.0  \n",
              "2151          0           0             70700.0  \n",
              "15927         1           0            229400.0  \n",
              "82            1           0            112500.0  \n",
              "8161          0           0            225400.0  \n",
              "...         ...         ...                 ...  \n",
              "10955         0           0            205300.0  \n",
              "17289         0           0            500001.0  \n",
              "5192          0           0            104800.0  \n",
              "12172         0           0            140700.0  \n",
              "235           1           0            126000.0  \n",
              "\n",
              "[20433 rows x 14 columns]"
            ],
            "text/html": [
              "\n",
              "  <div id=\"df-8744c51d-be3a-4c96-b481-1530d75a6985\">\n",
              "    <div class=\"colab-df-container\">\n",
              "      <div>\n",
              "<style scoped>\n",
              "    .dataframe tbody tr th:only-of-type {\n",
              "        vertical-align: middle;\n",
              "    }\n",
              "\n",
              "    .dataframe tbody tr th {\n",
              "        vertical-align: top;\n",
              "    }\n",
              "\n",
              "    .dataframe thead th {\n",
              "        text-align: right;\n",
              "    }\n",
              "</style>\n",
              "<table border=\"1\" class=\"dataframe\">\n",
              "  <thead>\n",
              "    <tr style=\"text-align: right;\">\n",
              "      <th></th>\n",
              "      <th>longitude</th>\n",
              "      <th>latitude</th>\n",
              "      <th>housing_median_age</th>\n",
              "      <th>total_rooms</th>\n",
              "      <th>total_bedrooms</th>\n",
              "      <th>population</th>\n",
              "      <th>households</th>\n",
              "      <th>median_income</th>\n",
              "      <th>&lt;1H OCEAN</th>\n",
              "      <th>INLAND</th>\n",
              "      <th>ISLAND</th>\n",
              "      <th>NEAR BAY</th>\n",
              "      <th>NEAR OCEAN</th>\n",
              "      <th>median_house_value</th>\n",
              "    </tr>\n",
              "  </thead>\n",
              "  <tbody>\n",
              "    <tr>\n",
              "      <th>4712</th>\n",
              "      <td>-118.36</td>\n",
              "      <td>34.06</td>\n",
              "      <td>39.0</td>\n",
              "      <td>2810.0</td>\n",
              "      <td>670.0</td>\n",
              "      <td>1109.0</td>\n",
              "      <td>624.0</td>\n",
              "      <td>3.2500</td>\n",
              "      <td>1</td>\n",
              "      <td>0</td>\n",
              "      <td>0</td>\n",
              "      <td>0</td>\n",
              "      <td>0</td>\n",
              "      <td>355000.0</td>\n",
              "    </tr>\n",
              "    <tr>\n",
              "      <th>2151</th>\n",
              "      <td>-119.78</td>\n",
              "      <td>36.78</td>\n",
              "      <td>37.0</td>\n",
              "      <td>2185.0</td>\n",
              "      <td>455.0</td>\n",
              "      <td>1143.0</td>\n",
              "      <td>438.0</td>\n",
              "      <td>1.9784</td>\n",
              "      <td>0</td>\n",
              "      <td>1</td>\n",
              "      <td>0</td>\n",
              "      <td>0</td>\n",
              "      <td>0</td>\n",
              "      <td>70700.0</td>\n",
              "    </tr>\n",
              "    <tr>\n",
              "      <th>15927</th>\n",
              "      <td>-122.42</td>\n",
              "      <td>37.73</td>\n",
              "      <td>46.0</td>\n",
              "      <td>1819.0</td>\n",
              "      <td>411.0</td>\n",
              "      <td>1534.0</td>\n",
              "      <td>406.0</td>\n",
              "      <td>4.0132</td>\n",
              "      <td>0</td>\n",
              "      <td>0</td>\n",
              "      <td>0</td>\n",
              "      <td>1</td>\n",
              "      <td>0</td>\n",
              "      <td>229400.0</td>\n",
              "    </tr>\n",
              "    <tr>\n",
              "      <th>82</th>\n",
              "      <td>-122.28</td>\n",
              "      <td>37.81</td>\n",
              "      <td>52.0</td>\n",
              "      <td>340.0</td>\n",
              "      <td>97.0</td>\n",
              "      <td>200.0</td>\n",
              "      <td>87.0</td>\n",
              "      <td>1.5208</td>\n",
              "      <td>0</td>\n",
              "      <td>0</td>\n",
              "      <td>0</td>\n",
              "      <td>1</td>\n",
              "      <td>0</td>\n",
              "      <td>112500.0</td>\n",
              "    </tr>\n",
              "    <tr>\n",
              "      <th>8161</th>\n",
              "      <td>-118.13</td>\n",
              "      <td>33.82</td>\n",
              "      <td>37.0</td>\n",
              "      <td>1530.0</td>\n",
              "      <td>290.0</td>\n",
              "      <td>711.0</td>\n",
              "      <td>283.0</td>\n",
              "      <td>5.1795</td>\n",
              "      <td>1</td>\n",
              "      <td>0</td>\n",
              "      <td>0</td>\n",
              "      <td>0</td>\n",
              "      <td>0</td>\n",
              "      <td>225400.0</td>\n",
              "    </tr>\n",
              "    <tr>\n",
              "      <th>...</th>\n",
              "      <td>...</td>\n",
              "      <td>...</td>\n",
              "      <td>...</td>\n",
              "      <td>...</td>\n",
              "      <td>...</td>\n",
              "      <td>...</td>\n",
              "      <td>...</td>\n",
              "      <td>...</td>\n",
              "      <td>...</td>\n",
              "      <td>...</td>\n",
              "      <td>...</td>\n",
              "      <td>...</td>\n",
              "      <td>...</td>\n",
              "      <td>...</td>\n",
              "    </tr>\n",
              "    <tr>\n",
              "      <th>10955</th>\n",
              "      <td>-117.88</td>\n",
              "      <td>33.76</td>\n",
              "      <td>17.0</td>\n",
              "      <td>1768.0</td>\n",
              "      <td>474.0</td>\n",
              "      <td>1079.0</td>\n",
              "      <td>436.0</td>\n",
              "      <td>1.7823</td>\n",
              "      <td>1</td>\n",
              "      <td>0</td>\n",
              "      <td>0</td>\n",
              "      <td>0</td>\n",
              "      <td>0</td>\n",
              "      <td>205300.0</td>\n",
              "    </tr>\n",
              "    <tr>\n",
              "      <th>17289</th>\n",
              "      <td>-119.63</td>\n",
              "      <td>34.42</td>\n",
              "      <td>42.0</td>\n",
              "      <td>1765.0</td>\n",
              "      <td>263.0</td>\n",
              "      <td>753.0</td>\n",
              "      <td>260.0</td>\n",
              "      <td>8.5608</td>\n",
              "      <td>1</td>\n",
              "      <td>0</td>\n",
              "      <td>0</td>\n",
              "      <td>0</td>\n",
              "      <td>0</td>\n",
              "      <td>500001.0</td>\n",
              "    </tr>\n",
              "    <tr>\n",
              "      <th>5192</th>\n",
              "      <td>-118.26</td>\n",
              "      <td>33.93</td>\n",
              "      <td>42.0</td>\n",
              "      <td>1433.0</td>\n",
              "      <td>295.0</td>\n",
              "      <td>775.0</td>\n",
              "      <td>293.0</td>\n",
              "      <td>1.1326</td>\n",
              "      <td>1</td>\n",
              "      <td>0</td>\n",
              "      <td>0</td>\n",
              "      <td>0</td>\n",
              "      <td>0</td>\n",
              "      <td>104800.0</td>\n",
              "    </tr>\n",
              "    <tr>\n",
              "      <th>12172</th>\n",
              "      <td>-117.16</td>\n",
              "      <td>33.73</td>\n",
              "      <td>10.0</td>\n",
              "      <td>2381.0</td>\n",
              "      <td>454.0</td>\n",
              "      <td>1323.0</td>\n",
              "      <td>477.0</td>\n",
              "      <td>2.6322</td>\n",
              "      <td>0</td>\n",
              "      <td>1</td>\n",
              "      <td>0</td>\n",
              "      <td>0</td>\n",
              "      <td>0</td>\n",
              "      <td>140700.0</td>\n",
              "    </tr>\n",
              "    <tr>\n",
              "      <th>235</th>\n",
              "      <td>-122.20</td>\n",
              "      <td>37.79</td>\n",
              "      <td>35.0</td>\n",
              "      <td>1802.0</td>\n",
              "      <td>459.0</td>\n",
              "      <td>1009.0</td>\n",
              "      <td>390.0</td>\n",
              "      <td>2.3036</td>\n",
              "      <td>0</td>\n",
              "      <td>0</td>\n",
              "      <td>0</td>\n",
              "      <td>1</td>\n",
              "      <td>0</td>\n",
              "      <td>126000.0</td>\n",
              "    </tr>\n",
              "  </tbody>\n",
              "</table>\n",
              "<p>20433 rows × 14 columns</p>\n",
              "</div>\n",
              "      <button class=\"colab-df-convert\" onclick=\"convertToInteractive('df-8744c51d-be3a-4c96-b481-1530d75a6985')\"\n",
              "              title=\"Convert this dataframe to an interactive table.\"\n",
              "              style=\"display:none;\">\n",
              "        \n",
              "  <svg xmlns=\"http://www.w3.org/2000/svg\" height=\"24px\"viewBox=\"0 0 24 24\"\n",
              "       width=\"24px\">\n",
              "    <path d=\"M0 0h24v24H0V0z\" fill=\"none\"/>\n",
              "    <path d=\"M18.56 5.44l.94 2.06.94-2.06 2.06-.94-2.06-.94-.94-2.06-.94 2.06-2.06.94zm-11 1L8.5 8.5l.94-2.06 2.06-.94-2.06-.94L8.5 2.5l-.94 2.06-2.06.94zm10 10l.94 2.06.94-2.06 2.06-.94-2.06-.94-.94-2.06-.94 2.06-2.06.94z\"/><path d=\"M17.41 7.96l-1.37-1.37c-.4-.4-.92-.59-1.43-.59-.52 0-1.04.2-1.43.59L10.3 9.45l-7.72 7.72c-.78.78-.78 2.05 0 2.83L4 21.41c.39.39.9.59 1.41.59.51 0 1.02-.2 1.41-.59l7.78-7.78 2.81-2.81c.8-.78.8-2.07 0-2.86zM5.41 20L4 18.59l7.72-7.72 1.47 1.35L5.41 20z\"/>\n",
              "  </svg>\n",
              "      </button>\n",
              "      \n",
              "  <style>\n",
              "    .colab-df-container {\n",
              "      display:flex;\n",
              "      flex-wrap:wrap;\n",
              "      gap: 12px;\n",
              "    }\n",
              "\n",
              "    .colab-df-convert {\n",
              "      background-color: #E8F0FE;\n",
              "      border: none;\n",
              "      border-radius: 50%;\n",
              "      cursor: pointer;\n",
              "      display: none;\n",
              "      fill: #1967D2;\n",
              "      height: 32px;\n",
              "      padding: 0 0 0 0;\n",
              "      width: 32px;\n",
              "    }\n",
              "\n",
              "    .colab-df-convert:hover {\n",
              "      background-color: #E2EBFA;\n",
              "      box-shadow: 0px 1px 2px rgba(60, 64, 67, 0.3), 0px 1px 3px 1px rgba(60, 64, 67, 0.15);\n",
              "      fill: #174EA6;\n",
              "    }\n",
              "\n",
              "    [theme=dark] .colab-df-convert {\n",
              "      background-color: #3B4455;\n",
              "      fill: #D2E3FC;\n",
              "    }\n",
              "\n",
              "    [theme=dark] .colab-df-convert:hover {\n",
              "      background-color: #434B5C;\n",
              "      box-shadow: 0px 1px 3px 1px rgba(0, 0, 0, 0.15);\n",
              "      filter: drop-shadow(0px 1px 2px rgba(0, 0, 0, 0.3));\n",
              "      fill: #FFFFFF;\n",
              "    }\n",
              "  </style>\n",
              "\n",
              "      <script>\n",
              "        const buttonEl =\n",
              "          document.querySelector('#df-8744c51d-be3a-4c96-b481-1530d75a6985 button.colab-df-convert');\n",
              "        buttonEl.style.display =\n",
              "          google.colab.kernel.accessAllowed ? 'block' : 'none';\n",
              "\n",
              "        async function convertToInteractive(key) {\n",
              "          const element = document.querySelector('#df-8744c51d-be3a-4c96-b481-1530d75a6985');\n",
              "          const dataTable =\n",
              "            await google.colab.kernel.invokeFunction('convertToInteractive',\n",
              "                                                     [key], {});\n",
              "          if (!dataTable) return;\n",
              "\n",
              "          const docLinkHtml = 'Like what you see? Visit the ' +\n",
              "            '<a target=\"_blank\" href=https://colab.research.google.com/notebooks/data_table.ipynb>data table notebook</a>'\n",
              "            + ' to learn more about interactive tables.';\n",
              "          element.innerHTML = '';\n",
              "          dataTable['output_type'] = 'display_data';\n",
              "          await google.colab.output.renderOutput(dataTable, element);\n",
              "          const docLink = document.createElement('div');\n",
              "          docLink.innerHTML = docLinkHtml;\n",
              "          element.appendChild(docLink);\n",
              "        }\n",
              "      </script>\n",
              "    </div>\n",
              "  </div>\n",
              "  "
            ]
          },
          "metadata": {},
          "execution_count": 251
        }
      ]
    },
    {
      "cell_type": "code",
      "source": [
        "df= df.dropna()"
      ],
      "metadata": {
        "id": "TJvauCcXtfHi"
      },
      "execution_count": 253,
      "outputs": []
    },
    {
      "cell_type": "code",
      "source": [
        "len(df)"
      ],
      "metadata": {
        "colab": {
          "base_uri": "https://localhost:8080/"
        },
        "id": "lCp9PfXqvE80",
        "outputId": "91c1e1b2-0028-40da-8ee6-94fefb8b9094"
      },
      "execution_count": 254,
      "outputs": [
        {
          "output_type": "execute_result",
          "data": {
            "text/plain": [
              "20433"
            ]
          },
          "metadata": {},
          "execution_count": 254
        }
      ]
    },
    {
      "cell_type": "code",
      "source": [
        "train_pd ,test_pd,val_pd = df[:18000], df[18000:19215],df[19215:]"
      ],
      "metadata": {
        "id": "oLhoOXHBvdWs"
      },
      "execution_count": 255,
      "outputs": []
    },
    {
      "cell_type": "code",
      "source": [
        "len(train_pd),len(test_pd),len(val_pd)"
      ],
      "metadata": {
        "colab": {
          "base_uri": "https://localhost:8080/"
        },
        "id": "vqhA80JL4T9n",
        "outputId": "7da9a230-97ae-434d-e84c-98f444d0a05e"
      },
      "execution_count": 256,
      "outputs": [
        {
          "output_type": "execute_result",
          "data": {
            "text/plain": [
              "(18000, 1215, 1218)"
            ]
          },
          "metadata": {},
          "execution_count": 256
        }
      ]
    },
    {
      "cell_type": "code",
      "source": [
        "X_train , y_train = train_pd.to_numpy ()[: , : -1 ] , train_pd.to_numpy ()[ : , -1 ]\n",
        "X_val, y_val = val_pd.to_numpy ()[: , : -1 ] , val_pd.to_numpy ()[ : , -1 ]\n",
        "X_test, y_test = test_pd.to_numpy ()[: , : -1 ] , test_pd.to_numpy ()[ : , -1 ]"
      ],
      "metadata": {
        "id": "agPENKUW47tU"
      },
      "execution_count": 257,
      "outputs": []
    },
    {
      "cell_type": "code",
      "source": [
        "X_train.shape,y_train.shape ,X_val.shape ,y_val, X_test.shape"
      ],
      "metadata": {
        "colab": {
          "base_uri": "https://localhost:8080/"
        },
        "id": "eFa98ScR6eIM",
        "outputId": "09ba1d28-6729-497b-e02c-7f3139c0764a"
      },
      "execution_count": 258,
      "outputs": [
        {
          "output_type": "execute_result",
          "data": {
            "text/plain": [
              "((18000, 13),\n",
              " (18000,),\n",
              " (1218, 13),\n",
              " array([442900., 309500., 240300., ..., 104800., 140700., 126000.]),\n",
              " (1215, 13))"
            ]
          },
          "metadata": {},
          "execution_count": 258
        }
      ]
    },
    {
      "cell_type": "code",
      "source": [
        "from sklearn.preprocessing import StandardScaler \n",
        "scaler = StandardScaler().fit(X_train [: , :8])\n",
        "def preprocessor (X):\n",
        "  A = np.copy(X)\n",
        "  A[: , :8 ] = scaler.transform(A[: , :8])\n",
        "  return A "
      ],
      "metadata": {
        "id": "uzUUETO27lZf"
      },
      "execution_count": 259,
      "outputs": []
    },
    {
      "cell_type": "code",
      "source": [
        "X_train , X_val ,X_test = preprocessor(X_train), preprocessor(X_val), preprocessor(X_test)"
      ],
      "metadata": {
        "id": "r-a6Iu84AHFz"
      },
      "execution_count": 260,
      "outputs": []
    },
    {
      "cell_type": "code",
      "source": [
        "from sklearn.metrics import mean_squared_error\n",
        "from sklearn.linear_model import LinearRegression\n",
        "\n",
        "LM = LinearRegression().fit(X_train , y_train)\n",
        "mse (LM.predict(X_train) , y_train  , squared= False ), mse (LM.predict(X_val) , y_val  , squared= False )"
      ],
      "metadata": {
        "colab": {
          "base_uri": "https://localhost:8080/"
        },
        "id": "PAj-4uHADdrc",
        "outputId": "6b801c17-9424-43c7-cc7a-3f54630afaae"
      },
      "execution_count": 269,
      "outputs": [
        {
          "output_type": "execute_result",
          "data": {
            "text/plain": [
              "(68593.05578127236, 71382.43558330165)"
            ]
          },
          "metadata": {},
          "execution_count": 269
        }
      ]
    },
    {
      "cell_type": "code",
      "source": [
        "from sklearn.neighbors import KNeighborsRegressor\n",
        "\n",
        "knn= KNeighborsRegressor( n_neighbors= 10).fit(X_train ,y_train)\n",
        "\n",
        "mse (knn.predict(X_train) , y_train  , squared= False ), mse (knn.predict(X_val) , y_val  , squared= False )"
      ],
      "metadata": {
        "colab": {
          "base_uri": "https://localhost:8080/"
        },
        "id": "JDfacaW-H02S",
        "outputId": "2848c668-ad5c-4d4e-a6f5-846e01da7554"
      },
      "execution_count": 275,
      "outputs": [
        {
          "output_type": "execute_result",
          "data": {
            "text/plain": [
              "(53759.09908812057, 62161.22860469906)"
            ]
          },
          "metadata": {},
          "execution_count": 275
        }
      ]
    },
    {
      "cell_type": "code",
      "source": [
        "from sklearn .ensemble import RandomForestRegressor\n",
        "rfr =  RandomForestRegressor( max_depth= 10).fit(X_train , y_train)\n",
        "mse (rfr.predict(X_train) , y_train  , squared= False ), mse (rfr.predict(X_val) , y_val  , squared= False )"
      ],
      "metadata": {
        "colab": {
          "base_uri": "https://localhost:8080/"
        },
        "id": "eZ98_AS9ToPi",
        "outputId": "fc72f855-fb9c-48bb-82b6-3764144ef6cc"
      },
      "execution_count": 280,
      "outputs": [
        {
          "output_type": "execute_result",
          "data": {
            "text/plain": [
              "(43511.255524061206, 53146.11233751404)"
            ]
          },
          "metadata": {},
          "execution_count": 280
        }
      ]
    },
    {
      "cell_type": "code",
      "source": [
        "from sklearn.ensemble import GradientBoostingRegressor\n",
        "gbr = GradientBoostingRegressor( n_estimators=300).fit (X_train ,y_train)\n",
        "mse (gbr.predict(X_train) , y_train  , squared= False ), mse (gbr.predict(X_val) , y_val  , squared= False )\n"
      ],
      "metadata": {
        "colab": {
          "base_uri": "https://localhost:8080/"
        },
        "id": "z1qt3thbVDsM",
        "outputId": "ad03f1e3-0460-4179-ad31-c5412e044710"
      },
      "execution_count": 285,
      "outputs": [
        {
          "output_type": "execute_result",
          "data": {
            "text/plain": [
              "(46211.64066337682, 50508.873529090204)"
            ]
          },
          "metadata": {},
          "execution_count": 285
        }
      ]
    },
    {
      "cell_type": "code",
      "source": [
        "from tensorflow.keras.models import Sequential\n",
        "from tensorflow.keras.layers import*\n",
        "from tensorflow.keras.callbacks import ModelCheckpoint\n",
        "from tensorflow.keras.metrics import RootMeanSquaredError\n",
        "from tensorflow.keras.optimizers import Adam "
      ],
      "metadata": {
        "id": "yNazhGb6WESg"
      },
      "execution_count": 303,
      "outputs": []
    },
    {
      "cell_type": "code",
      "source": [
        "from sklearn import metrics\n",
        "simple_nn = Sequential()\n",
        "simple_nn.add(InputLayer(13,))\n",
        "simple_nn.add(Dense(2,\"relu\"))\n",
        "simple_nn.add(Dense(1,\"linear\"))\n",
        "\n",
        "opt = Adam(learning_rate=.1)\n",
        "cp=ModelCheckpoint(\"models/simple_nn\" ,save_best_only= True)\n",
        "simple_nn.compile(optimizer = opt,loss = \"mse\" , metrics = [RootMeanSquaredError()])\n",
        "simple_nn .fit(x=X_train , y=y_train , validation_data = (X_val , y_val ) , callbacks= [cp], epochs= 100) "
      ],
      "metadata": {
        "colab": {
          "base_uri": "https://localhost:8080/"
        },
        "id": "BCXv8mr-Xm2T",
        "outputId": "3ad9868d-758a-49a0-fd5b-16a15f096951"
      },
      "execution_count": 300,
      "outputs": [
        {
          "output_type": "stream",
          "name": "stdout",
          "text": [
            "Epoch 1/100\n",
            "557/563 [============================>.] - ETA: 0s - loss: 53166469120.0000 - root_mean_squared_error: 230578.5469"
          ]
        },
        {
          "output_type": "stream",
          "name": "stderr",
          "text": [
            "WARNING:absl:Found untraced functions such as _update_step_xla while saving (showing 1 of 1). These functions will not be directly callable after loading.\n"
          ]
        },
        {
          "output_type": "stream",
          "name": "stdout",
          "text": [
            "\b\b\b\b\b\b\b\b\b\b\b\b\b\b\b\b\b\b\b\b\b\b\b\b\b\b\b\b\b\b\b\b\b\b\b\b\b\b\b\b\b\b\b\b\b\b\b\b\b\b\b\b\b\b\b\b\b\b\b\b\b\b\b\b\b\b\b\b\b\b\b\b\b\b\b\b\b\b\b\b\b\b\b\b\b\b\b\b\b\b\b\b\b\b\b\b\b\b\b\b\b\b\b\b\b\b\b\b\b\b\b\b\b\b\r563/563 [==============================] - 2s 3ms/step - loss: 53099061248.0000 - root_mean_squared_error: 230432.3281 - val_loss: 47926988800.0000 - val_root_mean_squared_error: 218922.3281\n",
            "Epoch 2/100\n",
            "558/563 [============================>.] - ETA: 0s - loss: 39759683584.0000 - root_mean_squared_error: 199398.2969"
          ]
        },
        {
          "output_type": "stream",
          "name": "stderr",
          "text": [
            "WARNING:absl:Found untraced functions such as _update_step_xla while saving (showing 1 of 1). These functions will not be directly callable after loading.\n"
          ]
        },
        {
          "output_type": "stream",
          "name": "stdout",
          "text": [
            "\b\b\b\b\b\b\b\b\b\b\b\b\b\b\b\b\b\b\b\b\b\b\b\b\b\b\b\b\b\b\b\b\b\b\b\b\b\b\b\b\b\b\b\b\b\b\b\b\b\b\b\b\b\b\b\b\b\b\b\b\b\b\b\b\b\b\b\b\b\b\b\b\b\b\b\b\b\b\b\b\b\b\b\b\b\b\b\b\b\b\b\b\b\b\b\b\b\b\b\b\b\b\b\b\b\b\b\b\b\b\b\b\b\b\r563/563 [==============================] - 2s 3ms/step - loss: 39691149312.0000 - root_mean_squared_error: 199226.3750 - val_loss: 32686100480.0000 - val_root_mean_squared_error: 180792.9844\n",
            "Epoch 3/100\n",
            "561/563 [============================>.] - ETA: 0s - loss: 27104866304.0000 - root_mean_squared_error: 164635.5625"
          ]
        },
        {
          "output_type": "stream",
          "name": "stderr",
          "text": [
            "WARNING:absl:Found untraced functions such as _update_step_xla while saving (showing 1 of 1). These functions will not be directly callable after loading.\n"
          ]
        },
        {
          "output_type": "stream",
          "name": "stdout",
          "text": [
            "\b\b\b\b\b\b\b\b\b\b\b\b\b\b\b\b\b\b\b\b\b\b\b\b\b\b\b\b\b\b\b\b\b\b\b\b\b\b\b\b\b\b\b\b\b\b\b\b\b\b\b\b\b\b\b\b\b\b\b\b\b\b\b\b\b\b\b\b\b\b\b\b\b\b\b\b\b\b\b\b\b\b\b\b\b\b\b\b\b\b\b\b\b\b\b\b\b\b\b\b\b\b\b\b\b\b\b\b\b\b\b\b\b\b\r563/563 [==============================] - 2s 3ms/step - loss: 27128922112.0000 - root_mean_squared_error: 164708.5938 - val_loss: 23061272576.0000 - val_root_mean_squared_error: 151859.3906\n",
            "Epoch 4/100\n",
            "555/563 [============================>.] - ETA: 0s - loss: 19699951616.0000 - root_mean_squared_error: 140356.5156"
          ]
        },
        {
          "output_type": "stream",
          "name": "stderr",
          "text": [
            "WARNING:absl:Found untraced functions such as _update_step_xla while saving (showing 1 of 1). These functions will not be directly callable after loading.\n"
          ]
        },
        {
          "output_type": "stream",
          "name": "stdout",
          "text": [
            "\b\b\b\b\b\b\b\b\b\b\b\b\b\b\b\b\b\b\b\b\b\b\b\b\b\b\b\b\b\b\b\b\b\b\b\b\b\b\b\b\b\b\b\b\b\b\b\b\b\b\b\b\b\b\b\b\b\b\b\b\b\b\b\b\b\b\b\b\b\b\b\b\b\b\b\b\b\b\b\b\b\b\b\b\b\b\b\b\b\b\b\b\b\b\b\b\b\b\b\b\b\b\b\b\b\b\b\b\b\b\b\b\b\b\r563/563 [==============================] - 2s 3ms/step - loss: 19658692608.0000 - root_mean_squared_error: 140209.4531 - val_loss: 16048739328.0000 - val_root_mean_squared_error: 126683.6172\n",
            "Epoch 5/100\n",
            "547/563 [============================>.] - ETA: 0s - loss: 12480851968.0000 - root_mean_squared_error: 111717.7344"
          ]
        },
        {
          "output_type": "stream",
          "name": "stderr",
          "text": [
            "WARNING:absl:Found untraced functions such as _update_step_xla while saving (showing 1 of 1). These functions will not be directly callable after loading.\n"
          ]
        },
        {
          "output_type": "stream",
          "name": "stdout",
          "text": [
            "\b\b\b\b\b\b\b\b\b\b\b\b\b\b\b\b\b\b\b\b\b\b\b\b\b\b\b\b\b\b\b\b\b\b\b\b\b\b\b\b\b\b\b\b\b\b\b\b\b\b\b\b\b\b\b\b\b\b\b\b\b\b\b\b\b\b\b\b\b\b\b\b\b\b\b\b\b\b\b\b\b\b\b\b\b\b\b\b\b\b\b\b\b\b\b\b\b\b\b\b\b\b\b\b\b\b\b\b\b\b\b\b\b\b\r563/563 [==============================] - 2s 3ms/step - loss: 12376109056.0000 - root_mean_squared_error: 111247.9609 - val_loss: 8341957632.0000 - val_root_mean_squared_error: 91334.3203\n",
            "Epoch 6/100\n",
            "562/563 [============================>.] - ETA: 0s - loss: 6271151104.0000 - root_mean_squared_error: 79190.6016"
          ]
        },
        {
          "output_type": "stream",
          "name": "stderr",
          "text": [
            "WARNING:absl:Found untraced functions such as _update_step_xla while saving (showing 1 of 1). These functions will not be directly callable after loading.\n"
          ]
        },
        {
          "output_type": "stream",
          "name": "stdout",
          "text": [
            "\b\b\b\b\b\b\b\b\b\b\b\b\b\b\b\b\b\b\b\b\b\b\b\b\b\b\b\b\b\b\b\b\b\b\b\b\b\b\b\b\b\b\b\b\b\b\b\b\b\b\b\b\b\b\b\b\b\b\b\b\b\b\b\b\b\b\b\b\b\b\b\b\b\b\b\b\b\b\b\b\b\b\b\b\b\b\b\b\b\b\b\b\b\b\b\b\b\b\b\b\b\b\b\b\b\b\b\b\b\b\b\b\r563/563 [==============================] - 2s 4ms/step - loss: 6272164352.0000 - root_mean_squared_error: 79197.0000 - val_loss: 5409150976.0000 - val_root_mean_squared_error: 73546.9297\n",
            "Epoch 7/100\n",
            "546/563 [============================>.] - ETA: 0s - loss: 5131947008.0000 - root_mean_squared_error: 71637.6094"
          ]
        },
        {
          "output_type": "stream",
          "name": "stderr",
          "text": [
            "WARNING:absl:Found untraced functions such as _update_step_xla while saving (showing 1 of 1). These functions will not be directly callable after loading.\n"
          ]
        },
        {
          "output_type": "stream",
          "name": "stdout",
          "text": [
            "\b\b\b\b\b\b\b\b\b\b\b\b\b\b\b\b\b\b\b\b\b\b\b\b\b\b\b\b\b\b\b\b\b\b\b\b\b\b\b\b\b\b\b\b\b\b\b\b\b\b\b\b\b\b\b\b\b\b\b\b\b\b\b\b\b\b\b\b\b\b\b\b\b\b\b\b\b\b\b\b\b\b\b\b\b\b\b\b\b\b\b\b\b\b\b\b\b\b\b\b\b\b\b\b\b\b\b\b\b\b\b\b\r563/563 [==============================] - 2s 3ms/step - loss: 5126221824.0000 - root_mean_squared_error: 71597.6406 - val_loss: 5251467264.0000 - val_root_mean_squared_error: 72467.0078\n",
            "Epoch 8/100\n",
            "546/563 [============================>.] - ETA: 0s - loss: 4959170560.0000 - root_mean_squared_error: 70421.3750"
          ]
        },
        {
          "output_type": "stream",
          "name": "stderr",
          "text": [
            "WARNING:absl:Found untraced functions such as _update_step_xla while saving (showing 1 of 1). These functions will not be directly callable after loading.\n"
          ]
        },
        {
          "output_type": "stream",
          "name": "stdout",
          "text": [
            "\b\b\b\b\b\b\b\b\b\b\b\b\b\b\b\b\b\b\b\b\b\b\b\b\b\b\b\b\b\b\b\b\b\b\b\b\b\b\b\b\b\b\b\b\b\b\b\b\b\b\b\b\b\b\b\b\b\b\b\b\b\b\b\b\b\b\b\b\b\b\b\b\b\b\b\b\b\b\b\b\b\b\b\b\b\b\b\b\b\b\b\b\b\b\b\b\b\b\b\b\b\b\b\b\b\b\b\b\b\b\b\b\r563/563 [==============================] - 38s 67ms/step - loss: 4952366592.0000 - root_mean_squared_error: 70373.0547 - val_loss: 5195143680.0000 - val_root_mean_squared_error: 72077.3438\n",
            "Epoch 9/100\n",
            "563/563 [==============================] - 1s 2ms/step - loss: 4864669184.0000 - root_mean_squared_error: 69747.1797 - val_loss: 5196465664.0000 - val_root_mean_squared_error: 72086.5156\n",
            "Epoch 10/100\n",
            "557/563 [============================>.] - ETA: 0s - loss: 4801225216.0000 - root_mean_squared_error: 69290.8750"
          ]
        },
        {
          "output_type": "stream",
          "name": "stderr",
          "text": [
            "WARNING:absl:Found untraced functions such as _update_step_xla while saving (showing 1 of 1). These functions will not be directly callable after loading.\n"
          ]
        },
        {
          "output_type": "stream",
          "name": "stdout",
          "text": [
            "\b\b\b\b\b\b\b\b\b\b\b\b\b\b\b\b\b\b\b\b\b\b\b\b\b\b\b\b\b\b\b\b\b\b\b\b\b\b\b\b\b\b\b\b\b\b\b\b\b\b\b\b\b\b\b\b\b\b\b\b\b\b\b\b\b\b\b\b\b\b\b\b\b\b\b\b\b\b\b\b\b\b\b\b\b\b\b\b\b\b\b\b\b\b\b\b\b\b\b\b\b\b\b\b\b\b\b\b\b\b\b\b\r563/563 [==============================] - 2s 3ms/step - loss: 4812385280.0000 - root_mean_squared_error: 69371.3594 - val_loss: 5152616448.0000 - val_root_mean_squared_error: 71781.7266\n",
            "Epoch 11/100\n",
            "553/563 [============================>.] - ETA: 0s - loss: 4777943040.0000 - root_mean_squared_error: 69122.6641"
          ]
        },
        {
          "output_type": "stream",
          "name": "stderr",
          "text": [
            "WARNING:absl:Found untraced functions such as _update_step_xla while saving (showing 1 of 1). These functions will not be directly callable after loading.\n"
          ]
        },
        {
          "output_type": "stream",
          "name": "stdout",
          "text": [
            "\b\b\b\b\b\b\b\b\b\b\b\b\b\b\b\b\b\b\b\b\b\b\b\b\b\b\b\b\b\b\b\b\b\b\b\b\b\b\b\b\b\b\b\b\b\b\b\b\b\b\b\b\b\b\b\b\b\b\b\b\b\b\b\b\b\b\b\b\b\b\b\b\b\b\b\b\b\b\b\b\b\b\b\b\b\b\b\b\b\b\b\b\b\b\b\b\b\b\b\b\b\b\b\b\b\b\b\b\b\b\b\b\r563/563 [==============================] - 2s 3ms/step - loss: 4774498816.0000 - root_mean_squared_error: 69097.7500 - val_loss: 5130680320.0000 - val_root_mean_squared_error: 71628.7656\n",
            "Epoch 12/100\n",
            "543/563 [===========================>..] - ETA: 0s - loss: 4746448896.0000 - root_mean_squared_error: 68894.4766"
          ]
        },
        {
          "output_type": "stream",
          "name": "stderr",
          "text": [
            "WARNING:absl:Found untraced functions such as _update_step_xla while saving (showing 1 of 1). These functions will not be directly callable after loading.\n"
          ]
        },
        {
          "output_type": "stream",
          "name": "stdout",
          "text": [
            "\b\b\b\b\b\b\b\b\b\b\b\b\b\b\b\b\b\b\b\b\b\b\b\b\b\b\b\b\b\b\b\b\b\b\b\b\b\b\b\b\b\b\b\b\b\b\b\b\b\b\b\b\b\b\b\b\b\b\b\b\b\b\b\b\b\b\b\b\b\b\b\b\b\b\b\b\b\b\b\b\b\b\b\b\b\b\b\b\b\b\b\b\b\b\b\b\b\b\b\b\b\b\b\b\b\b\b\b\b\b\b\b\r563/563 [==============================] - 2s 3ms/step - loss: 4748962816.0000 - root_mean_squared_error: 68912.7188 - val_loss: 5113435648.0000 - val_root_mean_squared_error: 71508.2891\n",
            "Epoch 13/100\n",
            "563/563 [==============================] - 1s 3ms/step - loss: 4730130432.0000 - root_mean_squared_error: 68775.9453 - val_loss: 5118396928.0000 - val_root_mean_squared_error: 71542.9688\n",
            "Epoch 14/100\n",
            "551/563 [============================>.] - ETA: 0s - loss: 4716382208.0000 - root_mean_squared_error: 68675.9219"
          ]
        },
        {
          "output_type": "stream",
          "name": "stderr",
          "text": [
            "WARNING:absl:Found untraced functions such as _update_step_xla while saving (showing 1 of 1). These functions will not be directly callable after loading.\n"
          ]
        },
        {
          "output_type": "stream",
          "name": "stdout",
          "text": [
            "\b\b\b\b\b\b\b\b\b\b\b\b\b\b\b\b\b\b\b\b\b\b\b\b\b\b\b\b\b\b\b\b\b\b\b\b\b\b\b\b\b\b\b\b\b\b\b\b\b\b\b\b\b\b\b\b\b\b\b\b\b\b\b\b\b\b\b\b\b\b\b\b\b\b\b\b\b\b\b\b\b\b\b\b\b\b\b\b\b\b\b\b\b\b\b\b\b\b\b\b\b\b\b\b\b\b\b\b\b\b\b\b\r563/563 [==============================] - 2s 4ms/step - loss: 4714782208.0000 - root_mean_squared_error: 68664.2734 - val_loss: 5103225856.0000 - val_root_mean_squared_error: 71436.8672\n",
            "Epoch 15/100\n",
            "563/563 [==============================] - ETA: 0s - loss: 4702023680.0000 - root_mean_squared_error: 68571.3047"
          ]
        },
        {
          "output_type": "stream",
          "name": "stderr",
          "text": [
            "WARNING:absl:Found untraced functions such as _update_step_xla while saving (showing 1 of 1). These functions will not be directly callable after loading.\n"
          ]
        },
        {
          "output_type": "stream",
          "name": "stdout",
          "text": [
            "\b\b\b\b\b\b\b\b\b\b\b\b\b\b\b\b\b\b\b\b\b\b\b\b\b\b\b\b\b\b\b\b\b\b\b\b\b\b\b\b\b\b\b\b\b\b\b\b\b\b\b\b\b\b\b\b\b\b\b\b\b\b\b\b\b\b\b\b\b\b\b\b\b\b\b\b\b\b\b\b\b\b\b\b\b\b\b\b\b\b\b\b\b\b\b\b\b\b\b\b\b\b\b\b\b\b\b\b\b\b\b\b\r563/563 [==============================] - 2s 3ms/step - loss: 4702023680.0000 - root_mean_squared_error: 68571.3047 - val_loss: 5094236160.0000 - val_root_mean_squared_error: 71373.9141\n",
            "Epoch 16/100\n",
            "563/563 [==============================] - 1s 2ms/step - loss: 4692752384.0000 - root_mean_squared_error: 68503.6641 - val_loss: 5096544768.0000 - val_root_mean_squared_error: 71390.0859\n",
            "Epoch 17/100\n",
            "563/563 [==============================] - 1s 2ms/step - loss: 4683638784.0000 - root_mean_squared_error: 68437.1172 - val_loss: 5102565888.0000 - val_root_mean_squared_error: 71432.2500\n",
            "Epoch 18/100\n",
            "556/563 [============================>.] - ETA: 0s - loss: 4676983296.0000 - root_mean_squared_error: 68388.4766"
          ]
        },
        {
          "output_type": "stream",
          "name": "stderr",
          "text": [
            "WARNING:absl:Found untraced functions such as _update_step_xla while saving (showing 1 of 1). These functions will not be directly callable after loading.\n"
          ]
        },
        {
          "output_type": "stream",
          "name": "stdout",
          "text": [
            "\b\b\b\b\b\b\b\b\b\b\b\b\b\b\b\b\b\b\b\b\b\b\b\b\b\b\b\b\b\b\b\b\b\b\b\b\b\b\b\b\b\b\b\b\b\b\b\b\b\b\b\b\b\b\b\b\b\b\b\b\b\b\b\b\b\b\b\b\b\b\b\b\b\b\b\b\b\b\b\b\b\b\b\b\b\b\b\b\b\b\b\b\b\b\b\b\b\b\b\b\b\b\b\b\b\b\b\b\b\b\b\b\r563/563 [==============================] - 2s 3ms/step - loss: 4680004608.0000 - root_mean_squared_error: 68410.5625 - val_loss: 5089883648.0000 - val_root_mean_squared_error: 71343.4219\n",
            "Epoch 19/100\n",
            "563/563 [==============================] - 1s 2ms/step - loss: 4673290752.0000 - root_mean_squared_error: 68361.4688 - val_loss: 5099072512.0000 - val_root_mean_squared_error: 71407.7891\n",
            "Epoch 20/100\n",
            "563/563 [==============================] - 1s 2ms/step - loss: 4669552128.0000 - root_mean_squared_error: 68334.1250 - val_loss: 5091520512.0000 - val_root_mean_squared_error: 71354.8906\n",
            "Epoch 21/100\n",
            "539/563 [===========================>..] - ETA: 0s - loss: 4670873088.0000 - root_mean_squared_error: 68343.7891"
          ]
        },
        {
          "output_type": "stream",
          "name": "stderr",
          "text": [
            "WARNING:absl:Found untraced functions such as _update_step_xla while saving (showing 1 of 1). These functions will not be directly callable after loading.\n"
          ]
        },
        {
          "output_type": "stream",
          "name": "stdout",
          "text": [
            "\b\b\b\b\b\b\b\b\b\b\b\b\b\b\b\b\b\b\b\b\b\b\b\b\b\b\b\b\b\b\b\b\b\b\b\b\b\b\b\b\b\b\b\b\b\b\b\b\b\b\b\b\b\b\b\b\b\b\b\b\b\b\b\b\b\b\b\b\b\b\b\b\b\b\b\b\b\b\b\b\b\b\b\b\b\b\b\b\b\b\b\b\b\b\b\b\b\b\b\b\b\b\b\b\b\b\b\b\b\b\b\b\r563/563 [==============================] - 2s 3ms/step - loss: 4666122752.0000 - root_mean_squared_error: 68309.0234 - val_loss: 5078270976.0000 - val_root_mean_squared_error: 71261.9922\n",
            "Epoch 22/100\n",
            "563/563 [==============================] - 2s 3ms/step - loss: 4663638016.0000 - root_mean_squared_error: 68290.8359 - val_loss: 5090762752.0000 - val_root_mean_squared_error: 71349.5781\n",
            "Epoch 23/100\n",
            "563/563 [==============================] - 1s 3ms/step - loss: 4660860928.0000 - root_mean_squared_error: 68270.5000 - val_loss: 5085236736.0000 - val_root_mean_squared_error: 71310.8438\n",
            "Epoch 24/100\n",
            "563/563 [==============================] - 1s 2ms/step - loss: 4659729408.0000 - root_mean_squared_error: 68262.2109 - val_loss: 5086552064.0000 - val_root_mean_squared_error: 71320.0703\n",
            "Epoch 25/100\n",
            "563/563 [==============================] - 1s 2ms/step - loss: 4656292864.0000 - root_mean_squared_error: 68237.0312 - val_loss: 5079471616.0000 - val_root_mean_squared_error: 71270.4141\n",
            "Epoch 26/100\n",
            "563/563 [==============================] - 3s 5ms/step - loss: 4656448000.0000 - root_mean_squared_error: 68238.1719 - val_loss: 5084622336.0000 - val_root_mean_squared_error: 71306.5391\n",
            "Epoch 27/100\n",
            "563/563 [==============================] - 2s 3ms/step - loss: 4655390208.0000 - root_mean_squared_error: 68230.4219 - val_loss: 5082884096.0000 - val_root_mean_squared_error: 71294.3516\n",
            "Epoch 28/100\n",
            "563/563 [==============================] - 4s 7ms/step - loss: 4653273088.0000 - root_mean_squared_error: 68214.9062 - val_loss: 5078690304.0000 - val_root_mean_squared_error: 71264.9297\n",
            "Epoch 29/100\n",
            "558/563 [============================>.] - ETA: 0s - loss: 4655152128.0000 - root_mean_squared_error: 68228.6719"
          ]
        },
        {
          "output_type": "stream",
          "name": "stderr",
          "text": [
            "WARNING:absl:Found untraced functions such as _update_step_xla while saving (showing 1 of 1). These functions will not be directly callable after loading.\n"
          ]
        },
        {
          "output_type": "stream",
          "name": "stdout",
          "text": [
            "\b\b\b\b\b\b\b\b\b\b\b\b\b\b\b\b\b\b\b\b\b\b\b\b\b\b\b\b\b\b\b\b\b\b\b\b\b\b\b\b\b\b\b\b\b\b\b\b\b\b\b\b\b\b\b\b\b\b\b\b\b\b\b\b\b\b\b\b\b\b\b\b\b\b\b\b\b\b\b\b\b\b\b\b\b\b\b\b\b\b\b\b\b\b\b\b\b\b\b\b\b\b\b\b\b\b\b\b\b\b\b\b\r563/563 [==============================] - 4s 7ms/step - loss: 4652327424.0000 - root_mean_squared_error: 68207.9688 - val_loss: 5076840448.0000 - val_root_mean_squared_error: 71251.9531\n",
            "Epoch 30/100\n",
            "554/563 [============================>.] - ETA: 0s - loss: 4653683712.0000 - root_mean_squared_error: 68217.9141"
          ]
        },
        {
          "output_type": "stream",
          "name": "stderr",
          "text": [
            "WARNING:absl:Found untraced functions such as _update_step_xla while saving (showing 1 of 1). These functions will not be directly callable after loading.\n"
          ]
        },
        {
          "output_type": "stream",
          "name": "stdout",
          "text": [
            "\b\b\b\b\b\b\b\b\b\b\b\b\b\b\b\b\b\b\b\b\b\b\b\b\b\b\b\b\b\b\b\b\b\b\b\b\b\b\b\b\b\b\b\b\b\b\b\b\b\b\b\b\b\b\b\b\b\b\b\b\b\b\b\b\b\b\b\b\b\b\b\b\b\b\b\b\b\b\b\b\b\b\b\b\b\b\b\b\b\b\b\b\b\b\b\b\b\b\b\b\b\b\b\b\b\b\b\b\b\b\b\b\r563/563 [==============================] - 2s 3ms/step - loss: 4650747904.0000 - root_mean_squared_error: 68196.3906 - val_loss: 5069090816.0000 - val_root_mean_squared_error: 71197.5469\n",
            "Epoch 31/100\n",
            "563/563 [==============================] - 1s 2ms/step - loss: 4650409472.0000 - root_mean_squared_error: 68193.9141 - val_loss: 5077603840.0000 - val_root_mean_squared_error: 71257.3047\n",
            "Epoch 32/100\n",
            "563/563 [==============================] - 1s 2ms/step - loss: 4649678848.0000 - root_mean_squared_error: 68188.5547 - val_loss: 5080565760.0000 - val_root_mean_squared_error: 71278.0859\n",
            "Epoch 33/100\n",
            "563/563 [==============================] - 1s 2ms/step - loss: 4649084416.0000 - root_mean_squared_error: 68184.1953 - val_loss: 5069491712.0000 - val_root_mean_squared_error: 71200.3594\n",
            "Epoch 34/100\n",
            "563/563 [==============================] - 1s 2ms/step - loss: 4649286656.0000 - root_mean_squared_error: 68185.6797 - val_loss: 5072901120.0000 - val_root_mean_squared_error: 71224.3047\n",
            "Epoch 35/100\n",
            "563/563 [==============================] - 2s 4ms/step - loss: 4648398336.0000 - root_mean_squared_error: 68179.1641 - val_loss: 5082615296.0000 - val_root_mean_squared_error: 71292.4609\n",
            "Epoch 36/100\n",
            "563/563 [==============================] - 3s 5ms/step - loss: 4646804992.0000 - root_mean_squared_error: 68167.4766 - val_loss: 5072763904.0000 - val_root_mean_squared_error: 71223.3359\n",
            "Epoch 37/100\n",
            "563/563 [==============================] - 2s 3ms/step - loss: 4647122432.0000 - root_mean_squared_error: 68169.8047 - val_loss: 5075542016.0000 - val_root_mean_squared_error: 71242.8359\n",
            "Epoch 38/100\n",
            "563/563 [==============================] - 2s 3ms/step - loss: 4646145536.0000 - root_mean_squared_error: 68162.6406 - val_loss: 5078057984.0000 - val_root_mean_squared_error: 71260.4922\n",
            "Epoch 39/100\n",
            "563/563 [==============================] - 2s 4ms/step - loss: 4647323136.0000 - root_mean_squared_error: 68171.2812 - val_loss: 5085912576.0000 - val_root_mean_squared_error: 71315.5859\n",
            "Epoch 40/100\n",
            "563/563 [==============================] - 1s 2ms/step - loss: 4646118912.0000 - root_mean_squared_error: 68162.4453 - val_loss: 5080511488.0000 - val_root_mean_squared_error: 71277.7031\n",
            "Epoch 41/100\n",
            "563/563 [==============================] - 1s 2ms/step - loss: 4645291008.0000 - root_mean_squared_error: 68156.3750 - val_loss: 5084860928.0000 - val_root_mean_squared_error: 71308.2109\n",
            "Epoch 42/100\n",
            "536/563 [===========================>..] - ETA: 0s - loss: 4643849216.0000 - root_mean_squared_error: 68145.7969"
          ]
        },
        {
          "output_type": "stream",
          "name": "stderr",
          "text": [
            "WARNING:absl:Found untraced functions such as _update_step_xla while saving (showing 1 of 1). These functions will not be directly callable after loading.\n"
          ]
        },
        {
          "output_type": "stream",
          "name": "stdout",
          "text": [
            "\b\b\b\b\b\b\b\b\b\b\b\b\b\b\b\b\b\b\b\b\b\b\b\b\b\b\b\b\b\b\b\b\b\b\b\b\b\b\b\b\b\b\b\b\b\b\b\b\b\b\b\b\b\b\b\b\b\b\b\b\b\b\b\b\b\b\b\b\b\b\b\b\b\b\b\b\b\b\b\b\b\b\b\b\b\b\b\b\b\b\b\b\b\b\b\b\b\b\b\b\b\b\b\b\b\b\b\b\b\b\b\b\r563/563 [==============================] - 2s 4ms/step - loss: 4645164544.0000 - root_mean_squared_error: 68155.4453 - val_loss: 5067923456.0000 - val_root_mean_squared_error: 71189.3516\n",
            "Epoch 43/100\n",
            "563/563 [==============================] - 2s 3ms/step - loss: 4643836928.0000 - root_mean_squared_error: 68145.7031 - val_loss: 5086797824.0000 - val_root_mean_squared_error: 71321.7891\n",
            "Epoch 44/100\n",
            "563/563 [==============================] - 1s 3ms/step - loss: 4644018176.0000 - root_mean_squared_error: 68147.0312 - val_loss: 5069885440.0000 - val_root_mean_squared_error: 71203.1250\n",
            "Epoch 45/100\n",
            "563/563 [==============================] - 1s 2ms/step - loss: 4643932672.0000 - root_mean_squared_error: 68146.4062 - val_loss: 5084166144.0000 - val_root_mean_squared_error: 71303.3359\n",
            "Epoch 46/100\n",
            "563/563 [==============================] - 1s 2ms/step - loss: 4645017088.0000 - root_mean_squared_error: 68154.3594 - val_loss: 5072444928.0000 - val_root_mean_squared_error: 71221.1016\n",
            "Epoch 47/100\n",
            "550/563 [============================>.] - ETA: 0s - loss: 4641101312.0000 - root_mean_squared_error: 68125.6250"
          ]
        },
        {
          "output_type": "stream",
          "name": "stderr",
          "text": [
            "WARNING:absl:Found untraced functions such as _update_step_xla while saving (showing 1 of 1). These functions will not be directly callable after loading.\n"
          ]
        },
        {
          "output_type": "stream",
          "name": "stdout",
          "text": [
            "\b\b\b\b\b\b\b\b\b\b\b\b\b\b\b\b\b\b\b\b\b\b\b\b\b\b\b\b\b\b\b\b\b\b\b\b\b\b\b\b\b\b\b\b\b\b\b\b\b\b\b\b\b\b\b\b\b\b\b\b\b\b\b\b\b\b\b\b\b\b\b\b\b\b\b\b\b\b\b\b\b\b\b\b\b\b\b\b\b\b\b\b\b\b\b\b\b\b\b\b\b\b\b\b\b\b\b\b\b\b\b\b\r563/563 [==============================] - 2s 3ms/step - loss: 4644064256.0000 - root_mean_squared_error: 68147.3750 - val_loss: 5064550400.0000 - val_root_mean_squared_error: 71165.6562\n",
            "Epoch 48/100\n",
            "563/563 [==============================] - 1s 2ms/step - loss: 4644399104.0000 - root_mean_squared_error: 68149.8281 - val_loss: 5072096768.0000 - val_root_mean_squared_error: 71218.6562\n",
            "Epoch 49/100\n",
            "563/563 [==============================] - 1s 2ms/step - loss: 4642604032.0000 - root_mean_squared_error: 68136.6562 - val_loss: 5077492736.0000 - val_root_mean_squared_error: 71256.5312\n",
            "Epoch 50/100\n",
            "563/563 [==============================] - 1s 2ms/step - loss: 4643745792.0000 - root_mean_squared_error: 68145.0312 - val_loss: 5075261440.0000 - val_root_mean_squared_error: 71240.8672\n",
            "Epoch 51/100\n",
            "563/563 [==============================] - 3s 5ms/step - loss: 4642642944.0000 - root_mean_squared_error: 68136.9453 - val_loss: 5068736000.0000 - val_root_mean_squared_error: 71195.0547\n",
            "Epoch 52/100\n",
            "563/563 [==============================] - 2s 3ms/step - loss: 4642991616.0000 - root_mean_squared_error: 68139.5000 - val_loss: 5081912832.0000 - val_root_mean_squared_error: 71287.5391\n",
            "Epoch 53/100\n",
            "563/563 [==============================] - 1s 2ms/step - loss: 4642598400.0000 - root_mean_squared_error: 68136.6172 - val_loss: 5079197184.0000 - val_root_mean_squared_error: 71268.4844\n",
            "Epoch 54/100\n",
            "563/563 [==============================] - 1s 2ms/step - loss: 4642719232.0000 - root_mean_squared_error: 68137.5000 - val_loss: 5068076032.0000 - val_root_mean_squared_error: 71190.4219\n",
            "Epoch 55/100\n",
            "563/563 [==============================] - 2s 3ms/step - loss: 4643516416.0000 - root_mean_squared_error: 68143.3516 - val_loss: 5077512192.0000 - val_root_mean_squared_error: 71256.6641\n",
            "Epoch 56/100\n",
            "563/563 [==============================] - 2s 3ms/step - loss: 4641579520.0000 - root_mean_squared_error: 68129.1406 - val_loss: 5068617728.0000 - val_root_mean_squared_error: 71194.2266\n",
            "Epoch 57/100\n",
            "563/563 [==============================] - 2s 3ms/step - loss: 4641576448.0000 - root_mean_squared_error: 68129.1172 - val_loss: 5071828480.0000 - val_root_mean_squared_error: 71216.7734\n",
            "Epoch 58/100\n",
            "563/563 [==============================] - 2s 3ms/step - loss: 4641422336.0000 - root_mean_squared_error: 68127.9844 - val_loss: 5075856384.0000 - val_root_mean_squared_error: 71245.0469\n",
            "Epoch 59/100\n",
            "563/563 [==============================] - 3s 5ms/step - loss: 4641618944.0000 - root_mean_squared_error: 68129.4297 - val_loss: 5067343872.0000 - val_root_mean_squared_error: 71185.2812\n",
            "Epoch 60/100\n",
            "563/563 [==============================] - 1s 3ms/step - loss: 4640507904.0000 - root_mean_squared_error: 68121.2734 - val_loss: 5082977792.0000 - val_root_mean_squared_error: 71295.0078\n",
            "Epoch 61/100\n",
            "563/563 [==============================] - 1s 2ms/step - loss: 4641852928.0000 - root_mean_squared_error: 68131.1484 - val_loss: 5078773248.0000 - val_root_mean_squared_error: 71265.5156\n",
            "Epoch 62/100\n",
            "563/563 [==============================] - 1s 2ms/step - loss: 4641282048.0000 - root_mean_squared_error: 68126.9531 - val_loss: 5071276032.0000 - val_root_mean_squared_error: 71212.8906\n",
            "Epoch 63/100\n",
            "563/563 [==============================] - 1s 2ms/step - loss: 4640411136.0000 - root_mean_squared_error: 68120.5625 - val_loss: 5073125888.0000 - val_root_mean_squared_error: 71225.8828\n",
            "Epoch 64/100\n",
            "563/563 [==============================] - 1s 2ms/step - loss: 4640405504.0000 - root_mean_squared_error: 68120.5234 - val_loss: 5069193728.0000 - val_root_mean_squared_error: 71198.2734\n",
            "Epoch 65/100\n",
            "563/563 [==============================] - 1s 2ms/step - loss: 4640958464.0000 - root_mean_squared_error: 68124.5781 - val_loss: 5070818816.0000 - val_root_mean_squared_error: 71209.6797\n",
            "Epoch 66/100\n",
            "563/563 [==============================] - 1s 2ms/step - loss: 4639417344.0000 - root_mean_squared_error: 68113.2656 - val_loss: 5097241088.0000 - val_root_mean_squared_error: 71394.9688\n",
            "Epoch 67/100\n",
            "563/563 [==============================] - 1s 2ms/step - loss: 4640078336.0000 - root_mean_squared_error: 68118.1172 - val_loss: 5070271488.0000 - val_root_mean_squared_error: 71205.8359\n",
            "Epoch 68/100\n",
            "563/563 [==============================] - 1s 3ms/step - loss: 4639462912.0000 - root_mean_squared_error: 68113.6016 - val_loss: 5080619520.0000 - val_root_mean_squared_error: 71278.4609\n",
            "Epoch 69/100\n",
            "563/563 [==============================] - 2s 3ms/step - loss: 4640123904.0000 - root_mean_squared_error: 68118.4531 - val_loss: 5075981824.0000 - val_root_mean_squared_error: 71245.9219\n",
            "Epoch 70/100\n",
            "543/563 [===========================>..] - ETA: 0s - loss: 4640085504.0000 - root_mean_squared_error: 68118.1719"
          ]
        },
        {
          "output_type": "stream",
          "name": "stderr",
          "text": [
            "WARNING:absl:Found untraced functions such as _update_step_xla while saving (showing 1 of 1). These functions will not be directly callable after loading.\n"
          ]
        },
        {
          "output_type": "stream",
          "name": "stdout",
          "text": [
            "\b\b\b\b\b\b\b\b\b\b\b\b\b\b\b\b\b\b\b\b\b\b\b\b\b\b\b\b\b\b\b\b\b\b\b\b\b\b\b\b\b\b\b\b\b\b\b\b\b\b\b\b\b\b\b\b\b\b\b\b\b\b\b\b\b\b\b\b\b\b\b\b\b\b\b\b\b\b\b\b\b\b\b\b\b\b\b\b\b\b\b\b\b\b\b\b\b\b\b\b\b\b\b\b\b\b\b\b\b\b\b\b\r563/563 [==============================] - 2s 3ms/step - loss: 4639468544.0000 - root_mean_squared_error: 68113.6406 - val_loss: 5059826688.0000 - val_root_mean_squared_error: 71132.4609\n",
            "Epoch 71/100\n",
            "563/563 [==============================] - 2s 3ms/step - loss: 4640554496.0000 - root_mean_squared_error: 68121.6172 - val_loss: 5072513024.0000 - val_root_mean_squared_error: 71221.5781\n",
            "Epoch 72/100\n",
            "563/563 [==============================] - 2s 3ms/step - loss: 4639319040.0000 - root_mean_squared_error: 68112.5469 - val_loss: 5076277248.0000 - val_root_mean_squared_error: 71248.0000\n",
            "Epoch 73/100\n",
            "563/563 [==============================] - 1s 2ms/step - loss: 4639559680.0000 - root_mean_squared_error: 68114.3125 - val_loss: 5063806464.0000 - val_root_mean_squared_error: 71160.4297\n",
            "Epoch 74/100\n",
            "563/563 [==============================] - 1s 2ms/step - loss: 4638978048.0000 - root_mean_squared_error: 68110.0469 - val_loss: 5065184768.0000 - val_root_mean_squared_error: 71170.1094\n",
            "Epoch 75/100\n",
            "563/563 [==============================] - 1s 2ms/step - loss: 4639649792.0000 - root_mean_squared_error: 68114.9766 - val_loss: 5072700416.0000 - val_root_mean_squared_error: 71222.8906\n",
            "Epoch 76/100\n",
            "563/563 [==============================] - 1s 2ms/step - loss: 4639328256.0000 - root_mean_squared_error: 68112.6172 - val_loss: 5065561088.0000 - val_root_mean_squared_error: 71172.7578\n",
            "Epoch 77/100\n",
            "563/563 [==============================] - 2s 3ms/step - loss: 4638511616.0000 - root_mean_squared_error: 68106.6172 - val_loss: 5066636800.0000 - val_root_mean_squared_error: 71180.3125\n",
            "Epoch 78/100\n",
            "563/563 [==============================] - 2s 3ms/step - loss: 4639195136.0000 - root_mean_squared_error: 68111.6406 - val_loss: 5064592384.0000 - val_root_mean_squared_error: 71165.9531\n",
            "Epoch 79/100\n",
            "563/563 [==============================] - 1s 2ms/step - loss: 4639070720.0000 - root_mean_squared_error: 68110.7266 - val_loss: 5067129856.0000 - val_root_mean_squared_error: 71183.7734\n",
            "Epoch 80/100\n",
            "563/563 [==============================] - 1s 2ms/step - loss: 4637861888.0000 - root_mean_squared_error: 68101.8516 - val_loss: 5069174784.0000 - val_root_mean_squared_error: 71198.1406\n",
            "Epoch 81/100\n",
            "563/563 [==============================] - 1s 2ms/step - loss: 4638530048.0000 - root_mean_squared_error: 68106.7578 - val_loss: 5068895744.0000 - val_root_mean_squared_error: 71196.1797\n",
            "Epoch 82/100\n",
            "563/563 [==============================] - 1s 2ms/step - loss: 4639542784.0000 - root_mean_squared_error: 68114.1875 - val_loss: 5072757248.0000 - val_root_mean_squared_error: 71223.2891\n",
            "Epoch 83/100\n",
            "563/563 [==============================] - 1s 2ms/step - loss: 4638604800.0000 - root_mean_squared_error: 68107.3047 - val_loss: 5078749696.0000 - val_root_mean_squared_error: 71265.3438\n",
            "Epoch 84/100\n",
            "563/563 [==============================] - 1s 2ms/step - loss: 4639102976.0000 - root_mean_squared_error: 68110.9609 - val_loss: 5073304576.0000 - val_root_mean_squared_error: 71227.1328\n",
            "Epoch 85/100\n",
            "563/563 [==============================] - 1s 2ms/step - loss: 4637742080.0000 - root_mean_squared_error: 68100.9688 - val_loss: 5073695744.0000 - val_root_mean_squared_error: 71229.8828\n",
            "Epoch 86/100\n",
            "563/563 [==============================] - 1s 2ms/step - loss: 4639598080.0000 - root_mean_squared_error: 68114.5938 - val_loss: 5069526016.0000 - val_root_mean_squared_error: 71200.6016\n",
            "Epoch 87/100\n",
            "563/563 [==============================] - 2s 3ms/step - loss: 4638535680.0000 - root_mean_squared_error: 68106.7969 - val_loss: 5067664896.0000 - val_root_mean_squared_error: 71187.5312\n",
            "Epoch 88/100\n",
            "563/563 [==============================] - 2s 3ms/step - loss: 4637116928.0000 - root_mean_squared_error: 68096.3828 - val_loss: 5081202176.0000 - val_root_mean_squared_error: 71282.5547\n",
            "Epoch 89/100\n",
            "563/563 [==============================] - 1s 2ms/step - loss: 4637670912.0000 - root_mean_squared_error: 68100.4453 - val_loss: 5073280512.0000 - val_root_mean_squared_error: 71226.9609\n",
            "Epoch 90/100\n",
            "563/563 [==============================] - 1s 2ms/step - loss: 4638040576.0000 - root_mean_squared_error: 68103.1641 - val_loss: 5076542976.0000 - val_root_mean_squared_error: 71249.8594\n",
            "Epoch 91/100\n",
            "563/563 [==============================] - 1s 2ms/step - loss: 4637933568.0000 - root_mean_squared_error: 68102.3750 - val_loss: 5070757376.0000 - val_root_mean_squared_error: 71209.2500\n",
            "Epoch 92/100\n",
            "563/563 [==============================] - 1s 2ms/step - loss: 4636528640.0000 - root_mean_squared_error: 68092.0625 - val_loss: 5064366080.0000 - val_root_mean_squared_error: 71164.3594\n",
            "Epoch 93/100\n",
            "545/563 [============================>.] - ETA: 0s - loss: 4648881664.0000 - root_mean_squared_error: 68182.7109"
          ]
        },
        {
          "output_type": "stream",
          "name": "stderr",
          "text": [
            "WARNING:absl:Found untraced functions such as _update_step_xla while saving (showing 1 of 1). These functions will not be directly callable after loading.\n"
          ]
        },
        {
          "output_type": "stream",
          "name": "stdout",
          "text": [
            "\b\b\b\b\b\b\b\b\b\b\b\b\b\b\b\b\b\b\b\b\b\b\b\b\b\b\b\b\b\b\b\b\b\b\b\b\b\b\b\b\b\b\b\b\b\b\b\b\b\b\b\b\b\b\b\b\b\b\b\b\b\b\b\b\b\b\b\b\b\b\b\b\b\b\b\b\b\b\b\b\b\b\b\b\b\b\b\b\b\b\b\b\b\b\b\b\b\b\b\b\b\b\b\b\b\b\b\b\b\b\b\b\r563/563 [==============================] - 2s 3ms/step - loss: 4637321728.0000 - root_mean_squared_error: 68097.8828 - val_loss: 5059522048.0000 - val_root_mean_squared_error: 71130.3203\n",
            "Epoch 94/100\n",
            "563/563 [==============================] - 1s 2ms/step - loss: 4638176256.0000 - root_mean_squared_error: 68104.1562 - val_loss: 5071222272.0000 - val_root_mean_squared_error: 71212.5156\n",
            "Epoch 95/100\n",
            "563/563 [==============================] - 1s 2ms/step - loss: 4637377536.0000 - root_mean_squared_error: 68098.2969 - val_loss: 5059610624.0000 - val_root_mean_squared_error: 71130.9375\n",
            "Epoch 96/100\n",
            "563/563 [==============================] - 1s 3ms/step - loss: 4637296640.0000 - root_mean_squared_error: 68097.7031 - val_loss: 5074430976.0000 - val_root_mean_squared_error: 71235.0391\n",
            "Epoch 97/100\n",
            "563/563 [==============================] - 2s 4ms/step - loss: 4637073920.0000 - root_mean_squared_error: 68096.0625 - val_loss: 5071230976.0000 - val_root_mean_squared_error: 71212.5781\n",
            "Epoch 98/100\n",
            "563/563 [==============================] - 1s 2ms/step - loss: 4638045696.0000 - root_mean_squared_error: 68103.1953 - val_loss: 5074805248.0000 - val_root_mean_squared_error: 71237.6641\n",
            "Epoch 99/100\n",
            "563/563 [==============================] - 1s 2ms/step - loss: 4636887552.0000 - root_mean_squared_error: 68094.6953 - val_loss: 5071387648.0000 - val_root_mean_squared_error: 71213.6797\n",
            "Epoch 100/100\n",
            "563/563 [==============================] - 1s 2ms/step - loss: 4637270016.0000 - root_mean_squared_error: 68097.5000 - val_loss: 5069462528.0000 - val_root_mean_squared_error: 71200.1562\n"
          ]
        },
        {
          "output_type": "execute_result",
          "data": {
            "text/plain": [
              "<keras.callbacks.History at 0x7f38f0749c90>"
            ]
          },
          "metadata": {},
          "execution_count": 300
        }
      ]
    },
    {
      "cell_type": "code",
      "source": [
        "from tensorflow.keras.models import load_model\n",
        "simple_nn = load_model(\"models/simple_nn\")\n",
        "mse (simple_nn.predict(X_train) , y_train  , squared= False ), mse (simple_nn.predict(X_val) , y_val  , squared= False )"
      ],
      "metadata": {
        "colab": {
          "base_uri": "https://localhost:8080/"
        },
        "id": "BvSzEUtOdC57",
        "outputId": "fd91fb0f-6754-44e1-ace1-ae0c03120dfe"
      },
      "execution_count": 301,
      "outputs": [
        {
          "output_type": "stream",
          "name": "stdout",
          "text": [
            "563/563 [==============================] - 1s 1ms/step\n",
            "39/39 [==============================] - 0s 2ms/step\n"
          ]
        },
        {
          "output_type": "execute_result",
          "data": {
            "text/plain": [
              "(68081.72501634124, 71130.31594622995)"
            ]
          },
          "metadata": {},
          "execution_count": 301
        }
      ]
    },
    {
      "cell_type": "code",
      "source": [
        "medium_nn = Sequential()\n",
        "medium_nn.add(InputLayer(13,))\n",
        "medium_nn.add(Dense(32,\"relu\"))\n",
        "medium_nn .add(Dense(16 , \"relu\"))\n",
        "medium_nn.add(Dense(1,\"linear\"))\n",
        "\n",
        "opt = Adam(learning_rate=.1)\n",
        "cp=ModelCheckpoint(\"models/medium_nn\" ,save_best_only= True)\n",
        "medium_nn.compile(optimizer = opt,loss = \"mse\" , metrics = [RootMeanSquaredError()])\n",
        "medium_nn.fit(x=X_train , y=y_train , validation_data = (X_val , y_val ) , callbacks= [cp], epochs= 100) "
      ],
      "metadata": {
        "colab": {
          "base_uri": "https://localhost:8080/"
        },
        "id": "_646gdWspXqZ",
        "outputId": "4efc1180-a5e7-4c5f-9b42-6913492938f6"
      },
      "execution_count": 313,
      "outputs": [
        {
          "output_type": "stream",
          "name": "stdout",
          "text": [
            "Epoch 1/100\n",
            "559/563 [============================>.] - ETA: 0s - loss: 9956338688.0000 - root_mean_squared_error: 99781.4531  "
          ]
        },
        {
          "output_type": "stream",
          "name": "stderr",
          "text": [
            "WARNING:absl:Found untraced functions such as _update_step_xla while saving (showing 1 of 1). These functions will not be directly callable after loading.\n"
          ]
        },
        {
          "output_type": "stream",
          "name": "stdout",
          "text": [
            "\b\b\b\b\b\b\b\b\b\b\b\b\b\b\b\b\b\b\b\b\b\b\b\b\b\b\b\b\b\b\b\b\b\b\b\b\b\b\b\b\b\b\b\b\b\b\b\b\b\b\b\b\b\b\b\b\b\b\b\b\b\b\b\b\b\b\b\b\b\b\b\b\b\b\b\b\b\b\b\b\b\b\b\b\b\b\b\b\b\b\b\b\b\b\b\b\b\b\b\b\b\b\b\b\b\b\b\b\b\b\b\b\r563/563 [==============================] - 3s 4ms/step - loss: 9924730880.0000 - root_mean_squared_error: 99622.9453 - val_loss: 4994132480.0000 - val_root_mean_squared_error: 70669.1797\n",
            "Epoch 2/100\n",
            "559/563 [============================>.] - ETA: 0s - loss: 4506188288.0000 - root_mean_squared_error: 67128.1484"
          ]
        },
        {
          "output_type": "stream",
          "name": "stderr",
          "text": [
            "WARNING:absl:Found untraced functions such as _update_step_xla while saving (showing 1 of 1). These functions will not be directly callable after loading.\n"
          ]
        },
        {
          "output_type": "stream",
          "name": "stdout",
          "text": [
            "\b\b\b\b\b\b\b\b\b\b\b\b\b\b\b\b\b\b\b\b\b\b\b\b\b\b\b\b\b\b\b\b\b\b\b\b\b\b\b\b\b\b\b\b\b\b\b\b\b\b\b\b\b\b\b\b\b\b\b\b\b\b\b\b\b\b\b\b\b\b\b\b\b\b\b\b\b\b\b\b\b\b\b\b\b\b\b\b\b\b\b\b\b\b\b\b\b\b\b\b\b\b\b\b\b\b\b\b\b\b\b\b\r563/563 [==============================] - 2s 3ms/step - loss: 4503398400.0000 - root_mean_squared_error: 67107.3672 - val_loss: 4839127040.0000 - val_root_mean_squared_error: 69563.8359\n",
            "Epoch 3/100\n",
            "550/563 [============================>.] - ETA: 0s - loss: 4379254272.0000 - root_mean_squared_error: 66175.9375"
          ]
        },
        {
          "output_type": "stream",
          "name": "stderr",
          "text": [
            "WARNING:absl:Found untraced functions such as _update_step_xla while saving (showing 1 of 1). These functions will not be directly callable after loading.\n"
          ]
        },
        {
          "output_type": "stream",
          "name": "stdout",
          "text": [
            "\b\b\b\b\b\b\b\b\b\b\b\b\b\b\b\b\b\b\b\b\b\b\b\b\b\b\b\b\b\b\b\b\b\b\b\b\b\b\b\b\b\b\b\b\b\b\b\b\b\b\b\b\b\b\b\b\b\b\b\b\b\b\b\b\b\b\b\b\b\b\b\b\b\b\b\b\b\b\b\b\b\b\b\b\b\b\b\b\b\b\b\b\b\b\b\b\b\b\b\b\b\b\b\b\b\b\b\b\b\b\b\b\r563/563 [==============================] - 2s 3ms/step - loss: 4377236480.0000 - root_mean_squared_error: 66160.6875 - val_loss: 4709119488.0000 - val_root_mean_squared_error: 68623.0234\n",
            "Epoch 4/100\n",
            "551/563 [============================>.] - ETA: 0s - loss: 4286741760.0000 - root_mean_squared_error: 65473.2148"
          ]
        },
        {
          "output_type": "stream",
          "name": "stderr",
          "text": [
            "WARNING:absl:Found untraced functions such as _update_step_xla while saving (showing 1 of 1). These functions will not be directly callable after loading.\n"
          ]
        },
        {
          "output_type": "stream",
          "name": "stdout",
          "text": [
            "\b\b\b\b\b\b\b\b\b\b\b\b\b\b\b\b\b\b\b\b\b\b\b\b\b\b\b\b\b\b\b\b\b\b\b\b\b\b\b\b\b\b\b\b\b\b\b\b\b\b\b\b\b\b\b\b\b\b\b\b\b\b\b\b\b\b\b\b\b\b\b\b\b\b\b\b\b\b\b\b\b\b\b\b\b\b\b\b\b\b\b\b\b\b\b\b\b\b\b\b\b\b\b\b\b\b\b\b\b\b\b\b\r563/563 [==============================] - 2s 4ms/step - loss: 4299028992.0000 - root_mean_squared_error: 65566.9844 - val_loss: 4613257216.0000 - val_root_mean_squared_error: 67920.9609\n",
            "Epoch 5/100\n",
            "563/563 [==============================] - 2s 3ms/step - loss: 4248701440.0000 - root_mean_squared_error: 65182.0625 - val_loss: 4707418112.0000 - val_root_mean_squared_error: 68610.6250\n",
            "Epoch 6/100\n",
            "560/563 [============================>.] - ETA: 0s - loss: 4194436352.0000 - root_mean_squared_error: 64764.4688"
          ]
        },
        {
          "output_type": "stream",
          "name": "stderr",
          "text": [
            "WARNING:absl:Found untraced functions such as _update_step_xla while saving (showing 1 of 1). These functions will not be directly callable after loading.\n"
          ]
        },
        {
          "output_type": "stream",
          "name": "stdout",
          "text": [
            "\b\b\b\b\b\b\b\b\b\b\b\b\b\b\b\b\b\b\b\b\b\b\b\b\b\b\b\b\b\b\b\b\b\b\b\b\b\b\b\b\b\b\b\b\b\b\b\b\b\b\b\b\b\b\b\b\b\b\b\b\b\b\b\b\b\b\b\b\b\b\b\b\b\b\b\b\b\b\b\b\b\b\b\b\b\b\b\b\b\b\b\b\b\b\b\b\b\b\b\b\b\b\b\b\b\b\b\b\b\b\b\b\r563/563 [==============================] - 2s 4ms/step - loss: 4197371904.0000 - root_mean_squared_error: 64787.1289 - val_loss: 4408841728.0000 - val_root_mean_squared_error: 66399.1094\n",
            "Epoch 7/100\n",
            "563/563 [==============================] - 1s 2ms/step - loss: 4209851904.0000 - root_mean_squared_error: 64883.3711 - val_loss: 4448725504.0000 - val_root_mean_squared_error: 66698.7656\n",
            "Epoch 8/100\n",
            "563/563 [==============================] - 1s 2ms/step - loss: 4137060096.0000 - root_mean_squared_error: 64319.9805 - val_loss: 4445074432.0000 - val_root_mean_squared_error: 66671.3906\n",
            "Epoch 9/100\n",
            "563/563 [==============================] - 1s 2ms/step - loss: 4143979264.0000 - root_mean_squared_error: 64373.7461 - val_loss: 4530009600.0000 - val_root_mean_squared_error: 67305.3438\n",
            "Epoch 10/100\n",
            "546/563 [============================>.] - ETA: 0s - loss: 4126215680.0000 - root_mean_squared_error: 64235.6250"
          ]
        },
        {
          "output_type": "stream",
          "name": "stderr",
          "text": [
            "WARNING:absl:Found untraced functions such as _update_step_xla while saving (showing 1 of 1). These functions will not be directly callable after loading.\n"
          ]
        },
        {
          "output_type": "stream",
          "name": "stdout",
          "text": [
            "\b\b\b\b\b\b\b\b\b\b\b\b\b\b\b\b\b\b\b\b\b\b\b\b\b\b\b\b\b\b\b\b\b\b\b\b\b\b\b\b\b\b\b\b\b\b\b\b\b\b\b\b\b\b\b\b\b\b\b\b\b\b\b\b\b\b\b\b\b\b\b\b\b\b\b\b\b\b\b\b\b\b\b\b\b\b\b\b\b\b\b\b\b\b\b\b\b\b\b\b\b\b\b\b\b\b\b\b\b\b\b\b\r563/563 [==============================] - 2s 3ms/step - loss: 4094200832.0000 - root_mean_squared_error: 63985.9414 - val_loss: 4404039680.0000 - val_root_mean_squared_error: 66362.9375\n",
            "Epoch 11/100\n",
            "539/563 [===========================>..] - ETA: 0s - loss: 4128711680.0000 - root_mean_squared_error: 64255.0508"
          ]
        },
        {
          "output_type": "stream",
          "name": "stderr",
          "text": [
            "WARNING:absl:Found untraced functions such as _update_step_xla while saving (showing 1 of 1). These functions will not be directly callable after loading.\n"
          ]
        },
        {
          "output_type": "stream",
          "name": "stdout",
          "text": [
            "\b\b\b\b\b\b\b\b\b\b\b\b\b\b\b\b\b\b\b\b\b\b\b\b\b\b\b\b\b\b\b\b\b\b\b\b\b\b\b\b\b\b\b\b\b\b\b\b\b\b\b\b\b\b\b\b\b\b\b\b\b\b\b\b\b\b\b\b\b\b\b\b\b\b\b\b\b\b\b\b\b\b\b\b\b\b\b\b\b\b\b\b\b\b\b\b\b\b\b\b\b\b\b\b\b\b\b\b\b\b\b\b\r563/563 [==============================] - 2s 3ms/step - loss: 4111956224.0000 - root_mean_squared_error: 64124.5352 - val_loss: 4327444992.0000 - val_root_mean_squared_error: 65783.3203\n",
            "Epoch 12/100\n",
            "563/563 [==============================] - 2s 3ms/step - loss: 4102118912.0000 - root_mean_squared_error: 64047.7852 - val_loss: 4458800128.0000 - val_root_mean_squared_error: 66774.2500\n",
            "Epoch 13/100\n",
            "563/563 [==============================] - 2s 4ms/step - loss: 4066183424.0000 - root_mean_squared_error: 63766.6328 - val_loss: 4370125312.0000 - val_root_mean_squared_error: 66106.9219\n",
            "Epoch 14/100\n",
            "560/563 [============================>.] - ETA: 0s - loss: 4034298880.0000 - root_mean_squared_error: 63516.1328"
          ]
        },
        {
          "output_type": "stream",
          "name": "stderr",
          "text": [
            "WARNING:absl:Found untraced functions such as _update_step_xla while saving (showing 1 of 1). These functions will not be directly callable after loading.\n"
          ]
        },
        {
          "output_type": "stream",
          "name": "stdout",
          "text": [
            "\b\b\b\b\b\b\b\b\b\b\b\b\b\b\b\b\b\b\b\b\b\b\b\b\b\b\b\b\b\b\b\b\b\b\b\b\b\b\b\b\b\b\b\b\b\b\b\b\b\b\b\b\b\b\b\b\b\b\b\b\b\b\b\b\b\b\b\b\b\b\b\b\b\b\b\b\b\b\b\b\b\b\b\b\b\b\b\b\b\b\b\b\b\b\b\b\b\b\b\b\b\b\b\b\b\b\b\b\b\b\b\b\r563/563 [==============================] - 2s 4ms/step - loss: 4032794880.0000 - root_mean_squared_error: 63504.2891 - val_loss: 4301442048.0000 - val_root_mean_squared_error: 65585.3828\n",
            "Epoch 15/100\n",
            "563/563 [==============================] - 1s 2ms/step - loss: 4038137856.0000 - root_mean_squared_error: 63546.3438 - val_loss: 4369793024.0000 - val_root_mean_squared_error: 66104.4062\n",
            "Epoch 16/100\n",
            "563/563 [==============================] - 1s 2ms/step - loss: 4055525120.0000 - root_mean_squared_error: 63683.0039 - val_loss: 4386161664.0000 - val_root_mean_squared_error: 66228.1016\n",
            "Epoch 17/100\n",
            "538/563 [===========================>..] - ETA: 0s - loss: 4016344576.0000 - root_mean_squared_error: 63374.6367"
          ]
        },
        {
          "output_type": "stream",
          "name": "stderr",
          "text": [
            "WARNING:absl:Found untraced functions such as _update_step_xla while saving (showing 1 of 1). These functions will not be directly callable after loading.\n"
          ]
        },
        {
          "output_type": "stream",
          "name": "stdout",
          "text": [
            "\b\b\b\b\b\b\b\b\b\b\b\b\b\b\b\b\b\b\b\b\b\b\b\b\b\b\b\b\b\b\b\b\b\b\b\b\b\b\b\b\b\b\b\b\b\b\b\b\b\b\b\b\b\b\b\b\b\b\b\b\b\b\b\b\b\b\b\b\b\b\b\b\b\b\b\b\b\b\b\b\b\b\b\b\b\b\b\b\b\b\b\b\b\b\b\b\b\b\b\b\b\b\b\b\b\b\b\b\b\b\b\b\r563/563 [==============================] - 2s 3ms/step - loss: 4016881152.0000 - root_mean_squared_error: 63378.8711 - val_loss: 4261920000.0000 - val_root_mean_squared_error: 65283.3828\n",
            "Epoch 18/100\n",
            "563/563 [==============================] - 1s 2ms/step - loss: 4024314880.0000 - root_mean_squared_error: 63437.4883 - val_loss: 4479960064.0000 - val_root_mean_squared_error: 66932.5000\n",
            "Epoch 19/100\n",
            "563/563 [==============================] - 1s 2ms/step - loss: 3999299072.0000 - root_mean_squared_error: 63240.0117 - val_loss: 4353011200.0000 - val_root_mean_squared_error: 65977.3516\n",
            "Epoch 20/100\n",
            "562/563 [============================>.] - ETA: 0s - loss: 4012970240.0000 - root_mean_squared_error: 63348.0078"
          ]
        },
        {
          "output_type": "stream",
          "name": "stderr",
          "text": [
            "WARNING:absl:Found untraced functions such as _update_step_xla while saving (showing 1 of 1). These functions will not be directly callable after loading.\n"
          ]
        },
        {
          "output_type": "stream",
          "name": "stdout",
          "text": [
            "\b\b\b\b\b\b\b\b\b\b\b\b\b\b\b\b\b\b\b\b\b\b\b\b\b\b\b\b\b\b\b\b\b\b\b\b\b\b\b\b\b\b\b\b\b\b\b\b\b\b\b\b\b\b\b\b\b\b\b\b\b\b\b\b\b\b\b\b\b\b\b\b\b\b\b\b\b\b\b\b\b\b\b\b\b\b\b\b\b\b\b\b\b\b\b\b\b\b\b\b\b\b\b\b\b\b\b\b\b\b\b\b\r563/563 [==============================] - 2s 4ms/step - loss: 4011598336.0000 - root_mean_squared_error: 63337.1797 - val_loss: 4256317184.0000 - val_root_mean_squared_error: 65240.4570\n",
            "Epoch 21/100\n",
            "563/563 [==============================] - 2s 3ms/step - loss: 4005868288.0000 - root_mean_squared_error: 63291.9297 - val_loss: 4350400000.0000 - val_root_mean_squared_error: 65957.5625\n",
            "Epoch 22/100\n",
            "563/563 [==============================] - 1s 2ms/step - loss: 3999446784.0000 - root_mean_squared_error: 63241.1797 - val_loss: 4321802240.0000 - val_root_mean_squared_error: 65740.4141\n",
            "Epoch 23/100\n",
            "563/563 [==============================] - 1s 2ms/step - loss: 3988744960.0000 - root_mean_squared_error: 63156.5117 - val_loss: 4325239296.0000 - val_root_mean_squared_error: 65766.5547\n",
            "Epoch 24/100\n",
            "563/563 [==============================] - 1s 2ms/step - loss: 4002104320.0000 - root_mean_squared_error: 63262.1875 - val_loss: 4399697408.0000 - val_root_mean_squared_error: 66330.2188\n",
            "Epoch 25/100\n",
            "562/563 [============================>.] - ETA: 0s - loss: 4005965568.0000 - root_mean_squared_error: 63292.6992"
          ]
        },
        {
          "output_type": "stream",
          "name": "stderr",
          "text": [
            "WARNING:absl:Found untraced functions such as _update_step_xla while saving (showing 1 of 1). These functions will not be directly callable after loading.\n"
          ]
        },
        {
          "output_type": "stream",
          "name": "stdout",
          "text": [
            "\b\b\b\b\b\b\b\b\b\b\b\b\b\b\b\b\b\b\b\b\b\b\b\b\b\b\b\b\b\b\b\b\b\b\b\b\b\b\b\b\b\b\b\b\b\b\b\b\b\b\b\b\b\b\b\b\b\b\b\b\b\b\b\b\b\b\b\b\b\b\b\b\b\b\b\b\b\b\b\b\b\b\b\b\b\b\b\b\b\b\b\b\b\b\b\b\b\b\b\b\b\b\b\b\b\b\b\b\b\b\b\b\r563/563 [==============================] - 2s 3ms/step - loss: 4004196352.0000 - root_mean_squared_error: 63278.7188 - val_loss: 4203956480.0000 - val_root_mean_squared_error: 64837.9258\n",
            "Epoch 26/100\n",
            "563/563 [==============================] - 1s 2ms/step - loss: 3983495936.0000 - root_mean_squared_error: 63114.9414 - val_loss: 4353532928.0000 - val_root_mean_squared_error: 65981.3047\n",
            "Epoch 27/100\n",
            "563/563 [==============================] - 1s 2ms/step - loss: 3987758848.0000 - root_mean_squared_error: 63148.7031 - val_loss: 4364244480.0000 - val_root_mean_squared_error: 66062.4297\n",
            "Epoch 28/100\n",
            "563/563 [==============================] - 1s 2ms/step - loss: 3985949184.0000 - root_mean_squared_error: 63134.3750 - val_loss: 4303682560.0000 - val_root_mean_squared_error: 65602.4609\n",
            "Epoch 29/100\n",
            "563/563 [==============================] - 2s 3ms/step - loss: 3970482944.0000 - root_mean_squared_error: 63011.7695 - val_loss: 4222251008.0000 - val_root_mean_squared_error: 64978.8516\n",
            "Epoch 30/100\n",
            "558/563 [============================>.] - ETA: 0s - loss: 3937353728.0000 - root_mean_squared_error: 62748.3359"
          ]
        },
        {
          "output_type": "stream",
          "name": "stderr",
          "text": [
            "WARNING:absl:Found untraced functions such as _update_step_xla while saving (showing 1 of 1). These functions will not be directly callable after loading.\n"
          ]
        },
        {
          "output_type": "stream",
          "name": "stdout",
          "text": [
            "\b\b\b\b\b\b\b\b\b\b\b\b\b\b\b\b\b\b\b\b\b\b\b\b\b\b\b\b\b\b\b\b\b\b\b\b\b\b\b\b\b\b\b\b\b\b\b\b\b\b\b\b\b\b\b\b\b\b\b\b\b\b\b\b\b\b\b\b\b\b\b\b\b\b\b\b\b\b\b\b\b\b\b\b\b\b\b\b\b\b\b\b\b\b\b\b\b\b\b\b\b\b\b\b\b\b\b\b\b\b\b\b\r563/563 [==============================] - 3s 5ms/step - loss: 3942055168.0000 - root_mean_squared_error: 62785.7891 - val_loss: 4164537088.0000 - val_root_mean_squared_error: 64533.2266\n",
            "Epoch 31/100\n",
            "563/563 [==============================] - 1s 2ms/step - loss: 3949941504.0000 - root_mean_squared_error: 62848.5586 - val_loss: 4221343488.0000 - val_root_mean_squared_error: 64971.8672\n",
            "Epoch 32/100\n",
            "563/563 [==============================] - 1s 2ms/step - loss: 3963437824.0000 - root_mean_squared_error: 62955.8398 - val_loss: 4353674240.0000 - val_root_mean_squared_error: 65982.3750\n",
            "Epoch 33/100\n",
            "563/563 [==============================] - 1s 2ms/step - loss: 3951143936.0000 - root_mean_squared_error: 62858.1250 - val_loss: 4258056704.0000 - val_root_mean_squared_error: 65253.7852\n",
            "Epoch 34/100\n",
            "551/563 [============================>.] - ETA: 0s - loss: 3830107648.0000 - root_mean_squared_error: 61887.8633"
          ]
        },
        {
          "output_type": "stream",
          "name": "stderr",
          "text": [
            "WARNING:absl:Found untraced functions such as _update_step_xla while saving (showing 1 of 1). These functions will not be directly callable after loading.\n"
          ]
        },
        {
          "output_type": "stream",
          "name": "stdout",
          "text": [
            "\b\b\b\b\b\b\b\b\b\b\b\b\b\b\b\b\b\b\b\b\b\b\b\b\b\b\b\b\b\b\b\b\b\b\b\b\b\b\b\b\b\b\b\b\b\b\b\b\b\b\b\b\b\b\b\b\b\b\b\b\b\b\b\b\b\b\b\b\b\b\b\b\b\b\b\b\b\b\b\b\b\b\b\b\b\b\b\b\b\b\b\b\b\b\b\b\b\b\b\b\b\b\b\b\b\b\b\b\b\b\b\b\r563/563 [==============================] - 2s 3ms/step - loss: 3830186752.0000 - root_mean_squared_error: 61888.5039 - val_loss: 4143877120.0000 - val_root_mean_squared_error: 64372.9531\n",
            "Epoch 35/100\n",
            "563/563 [==============================] - 1s 2ms/step - loss: 3798452224.0000 - root_mean_squared_error: 61631.5859 - val_loss: 4434850816.0000 - val_root_mean_squared_error: 66594.6719\n",
            "Epoch 36/100\n",
            "563/563 [==============================] - 1s 2ms/step - loss: 3755673600.0000 - root_mean_squared_error: 61283.5508 - val_loss: 4180531200.0000 - val_root_mean_squared_error: 64657.0273\n",
            "Epoch 37/100\n",
            "563/563 [==============================] - 1s 2ms/step - loss: 3772829184.0000 - root_mean_squared_error: 61423.3594 - val_loss: 4317488128.0000 - val_root_mean_squared_error: 65707.5938\n",
            "Epoch 38/100\n",
            "560/563 [============================>.] - ETA: 0s - loss: 3753281024.0000 - root_mean_squared_error: 61264.0273"
          ]
        },
        {
          "output_type": "stream",
          "name": "stderr",
          "text": [
            "WARNING:absl:Found untraced functions such as _update_step_xla while saving (showing 1 of 1). These functions will not be directly callable after loading.\n"
          ]
        },
        {
          "output_type": "stream",
          "name": "stdout",
          "text": [
            "\b\b\b\b\b\b\b\b\b\b\b\b\b\b\b\b\b\b\b\b\b\b\b\b\b\b\b\b\b\b\b\b\b\b\b\b\b\b\b\b\b\b\b\b\b\b\b\b\b\b\b\b\b\b\b\b\b\b\b\b\b\b\b\b\b\b\b\b\b\b\b\b\b\b\b\b\b\b\b\b\b\b\b\b\b\b\b\b\b\b\b\b\b\b\b\b\b\b\b\b\b\b\b\b\b\b\b\b\b\b\b\b\r563/563 [==============================] - 3s 5ms/step - loss: 3752250624.0000 - root_mean_squared_error: 61255.6172 - val_loss: 4021057024.0000 - val_root_mean_squared_error: 63411.8047\n",
            "Epoch 39/100\n",
            "563/563 [==============================] - 1s 2ms/step - loss: 3648038656.0000 - root_mean_squared_error: 60398.9961 - val_loss: 4090259200.0000 - val_root_mean_squared_error: 63955.1328\n",
            "Epoch 40/100\n",
            "547/563 [============================>.] - ETA: 0s - loss: 3558856448.0000 - root_mean_squared_error: 59656.1523"
          ]
        },
        {
          "output_type": "stream",
          "name": "stderr",
          "text": [
            "WARNING:absl:Found untraced functions such as _update_step_xla while saving (showing 1 of 1). These functions will not be directly callable after loading.\n"
          ]
        },
        {
          "output_type": "stream",
          "name": "stdout",
          "text": [
            "\b\b\b\b\b\b\b\b\b\b\b\b\b\b\b\b\b\b\b\b\b\b\b\b\b\b\b\b\b\b\b\b\b\b\b\b\b\b\b\b\b\b\b\b\b\b\b\b\b\b\b\b\b\b\b\b\b\b\b\b\b\b\b\b\b\b\b\b\b\b\b\b\b\b\b\b\b\b\b\b\b\b\b\b\b\b\b\b\b\b\b\b\b\b\b\b\b\b\b\b\b\b\b\b\b\b\b\b\b\b\b\b\r563/563 [==============================] - 2s 4ms/step - loss: 3569507072.0000 - root_mean_squared_error: 59745.3516 - val_loss: 3884105472.0000 - val_root_mean_squared_error: 62322.5938\n",
            "Epoch 41/100\n",
            "563/563 [==============================] - 1s 2ms/step - loss: 3492982784.0000 - root_mean_squared_error: 59101.4609 - val_loss: 3922528768.0000 - val_root_mean_squared_error: 62630.0938\n",
            "Epoch 42/100\n",
            "544/563 [===========================>..] - ETA: 0s - loss: 3442935808.0000 - root_mean_squared_error: 58676.5352"
          ]
        },
        {
          "output_type": "stream",
          "name": "stderr",
          "text": [
            "WARNING:absl:Found untraced functions such as _update_step_xla while saving (showing 1 of 1). These functions will not be directly callable after loading.\n"
          ]
        },
        {
          "output_type": "stream",
          "name": "stdout",
          "text": [
            "\b\b\b\b\b\b\b\b\b\b\b\b\b\b\b\b\b\b\b\b\b\b\b\b\b\b\b\b\b\b\b\b\b\b\b\b\b\b\b\b\b\b\b\b\b\b\b\b\b\b\b\b\b\b\b\b\b\b\b\b\b\b\b\b\b\b\b\b\b\b\b\b\b\b\b\b\b\b\b\b\b\b\b\b\b\b\b\b\b\b\b\b\b\b\b\b\b\b\b\b\b\b\b\b\b\b\b\b\b\b\b\b\r563/563 [==============================] - 2s 4ms/step - loss: 3447421696.0000 - root_mean_squared_error: 58714.7500 - val_loss: 3879663616.0000 - val_root_mean_squared_error: 62286.9453\n",
            "Epoch 43/100\n",
            "562/563 [============================>.] - ETA: 0s - loss: 3402727424.0000 - root_mean_squared_error: 58332.9023"
          ]
        },
        {
          "output_type": "stream",
          "name": "stderr",
          "text": [
            "WARNING:absl:Found untraced functions such as _update_step_xla while saving (showing 1 of 1). These functions will not be directly callable after loading.\n"
          ]
        },
        {
          "output_type": "stream",
          "name": "stdout",
          "text": [
            "\b\b\b\b\b\b\b\b\b\b\b\b\b\b\b\b\b\b\b\b\b\b\b\b\b\b\b\b\b\b\b\b\b\b\b\b\b\b\b\b\b\b\b\b\b\b\b\b\b\b\b\b\b\b\b\b\b\b\b\b\b\b\b\b\b\b\b\b\b\b\b\b\b\b\b\b\b\b\b\b\b\b\b\b\b\b\b\b\b\b\b\b\b\b\b\b\b\b\b\b\b\b\b\b\b\b\b\b\b\b\b\b\r563/563 [==============================] - 2s 4ms/step - loss: 3402547456.0000 - root_mean_squared_error: 58331.3594 - val_loss: 3735476224.0000 - val_root_mean_squared_error: 61118.5430\n",
            "Epoch 44/100\n",
            "563/563 [==============================] - 2s 3ms/step - loss: 3384874496.0000 - root_mean_squared_error: 58179.6758 - val_loss: 3806026496.0000 - val_root_mean_squared_error: 61693.0039\n",
            "Epoch 45/100\n",
            "563/563 [==============================] - 2s 3ms/step - loss: 3372987904.0000 - root_mean_squared_error: 58077.4297 - val_loss: 3824730112.0000 - val_root_mean_squared_error: 61844.4023\n",
            "Epoch 46/100\n",
            "563/563 [==============================] - 1s 2ms/step - loss: 3349698048.0000 - root_mean_squared_error: 57876.5742 - val_loss: 3756711680.0000 - val_root_mean_squared_error: 61292.0195\n",
            "Epoch 47/100\n",
            "544/563 [===========================>..] - ETA: 0s - loss: 3317184768.0000 - root_mean_squared_error: 57595.0078"
          ]
        },
        {
          "output_type": "stream",
          "name": "stderr",
          "text": [
            "WARNING:absl:Found untraced functions such as _update_step_xla while saving (showing 1 of 1). These functions will not be directly callable after loading.\n"
          ]
        },
        {
          "output_type": "stream",
          "name": "stdout",
          "text": [
            "\b\b\b\b\b\b\b\b\b\b\b\b\b\b\b\b\b\b\b\b\b\b\b\b\b\b\b\b\b\b\b\b\b\b\b\b\b\b\b\b\b\b\b\b\b\b\b\b\b\b\b\b\b\b\b\b\b\b\b\b\b\b\b\b\b\b\b\b\b\b\b\b\b\b\b\b\b\b\b\b\b\b\b\b\b\b\b\b\b\b\b\b\b\b\b\b\b\b\b\b\b\b\b\b\b\b\b\b\b\b\b\b\r563/563 [==============================] - 2s 4ms/step - loss: 3323632384.0000 - root_mean_squared_error: 57650.9531 - val_loss: 3702405632.0000 - val_root_mean_squared_error: 60847.3945\n",
            "Epoch 48/100\n",
            "563/563 [==============================] - 1s 2ms/step - loss: 3288477952.0000 - root_mean_squared_error: 57345.2539 - val_loss: 3781543424.0000 - val_root_mean_squared_error: 61494.2539\n",
            "Epoch 49/100\n",
            "560/563 [============================>.] - ETA: 0s - loss: 3286233600.0000 - root_mean_squared_error: 57325.6797"
          ]
        },
        {
          "output_type": "stream",
          "name": "stderr",
          "text": [
            "WARNING:absl:Found untraced functions such as _update_step_xla while saving (showing 1 of 1). These functions will not be directly callable after loading.\n"
          ]
        },
        {
          "output_type": "stream",
          "name": "stdout",
          "text": [
            "\b\b\b\b\b\b\b\b\b\b\b\b\b\b\b\b\b\b\b\b\b\b\b\b\b\b\b\b\b\b\b\b\b\b\b\b\b\b\b\b\b\b\b\b\b\b\b\b\b\b\b\b\b\b\b\b\b\b\b\b\b\b\b\b\b\b\b\b\b\b\b\b\b\b\b\b\b\b\b\b\b\b\b\b\b\b\b\b\b\b\b\b\b\b\b\b\b\b\b\b\b\b\b\b\b\b\b\b\b\b\b\b\r563/563 [==============================] - 2s 4ms/step - loss: 3288173056.0000 - root_mean_squared_error: 57342.5938 - val_loss: 3694519808.0000 - val_root_mean_squared_error: 60782.5625\n",
            "Epoch 50/100\n",
            "563/563 [==============================] - 1s 2ms/step - loss: 3246952448.0000 - root_mean_squared_error: 56982.0352 - val_loss: 3844940032.0000 - val_root_mean_squared_error: 62007.5820\n",
            "Epoch 51/100\n",
            "557/563 [============================>.] - ETA: 0s - loss: 3225579520.0000 - root_mean_squared_error: 56794.1875"
          ]
        },
        {
          "output_type": "stream",
          "name": "stderr",
          "text": [
            "WARNING:absl:Found untraced functions such as _update_step_xla while saving (showing 1 of 1). These functions will not be directly callable after loading.\n"
          ]
        },
        {
          "output_type": "stream",
          "name": "stdout",
          "text": [
            "\b\b\b\b\b\b\b\b\b\b\b\b\b\b\b\b\b\b\b\b\b\b\b\b\b\b\b\b\b\b\b\b\b\b\b\b\b\b\b\b\b\b\b\b\b\b\b\b\b\b\b\b\b\b\b\b\b\b\b\b\b\b\b\b\b\b\b\b\b\b\b\b\b\b\b\b\b\b\b\b\b\b\b\b\b\b\b\b\b\b\b\b\b\b\b\b\b\b\b\b\b\b\b\b\b\b\b\b\b\b\b\b\r563/563 [==============================] - 2s 4ms/step - loss: 3234873600.0000 - root_mean_squared_error: 56875.9492 - val_loss: 3656404224.0000 - val_root_mean_squared_error: 60468.2070\n",
            "Epoch 52/100\n",
            "563/563 [==============================] - 2s 3ms/step - loss: 3186891264.0000 - root_mean_squared_error: 56452.5586 - val_loss: 3669658368.0000 - val_root_mean_squared_error: 60577.7070\n",
            "Epoch 53/100\n",
            "549/563 [============================>.] - ETA: 0s - loss: 3171923200.0000 - root_mean_squared_error: 56319.8281"
          ]
        },
        {
          "output_type": "stream",
          "name": "stderr",
          "text": [
            "WARNING:absl:Found untraced functions such as _update_step_xla while saving (showing 1 of 1). These functions will not be directly callable after loading.\n"
          ]
        },
        {
          "output_type": "stream",
          "name": "stdout",
          "text": [
            "\b\b\b\b\b\b\b\b\b\b\b\b\b\b\b\b\b\b\b\b\b\b\b\b\b\b\b\b\b\b\b\b\b\b\b\b\b\b\b\b\b\b\b\b\b\b\b\b\b\b\b\b\b\b\b\b\b\b\b\b\b\b\b\b\b\b\b\b\b\b\b\b\b\b\b\b\b\b\b\b\b\b\b\b\b\b\b\b\b\b\b\b\b\b\b\b\b\b\b\b\b\b\b\b\b\b\b\b\b\b\b\b\r563/563 [==============================] - 2s 4ms/step - loss: 3162560512.0000 - root_mean_squared_error: 56236.6484 - val_loss: 3575058432.0000 - val_root_mean_squared_error: 59791.7930\n",
            "Epoch 54/100\n",
            "562/563 [============================>.] - ETA: 0s - loss: 3141867776.0000 - root_mean_squared_error: 56052.3672"
          ]
        },
        {
          "output_type": "stream",
          "name": "stderr",
          "text": [
            "WARNING:absl:Found untraced functions such as _update_step_xla while saving (showing 1 of 1). These functions will not be directly callable after loading.\n"
          ]
        },
        {
          "output_type": "stream",
          "name": "stdout",
          "text": [
            "\b\b\b\b\b\b\b\b\b\b\b\b\b\b\b\b\b\b\b\b\b\b\b\b\b\b\b\b\b\b\b\b\b\b\b\b\b\b\b\b\b\b\b\b\b\b\b\b\b\b\b\b\b\b\b\b\b\b\b\b\b\b\b\b\b\b\b\b\b\b\b\b\b\b\b\b\b\b\b\b\b\b\b\b\b\b\b\b\b\b\b\b\b\b\b\b\b\b\b\b\b\b\b\b\b\b\b\b\b\b\b\b\r563/563 [==============================] - 2s 4ms/step - loss: 3148526592.0000 - root_mean_squared_error: 56111.7344 - val_loss: 3541402624.0000 - val_root_mean_squared_error: 59509.6836\n",
            "Epoch 55/100\n",
            "563/563 [==============================] - 1s 2ms/step - loss: 3127439360.0000 - root_mean_squared_error: 55923.5117 - val_loss: 3544381696.0000 - val_root_mean_squared_error: 59534.7109\n",
            "Epoch 56/100\n",
            "563/563 [==============================] - 1s 2ms/step - loss: 3112108032.0000 - root_mean_squared_error: 55786.2695 - val_loss: 3646868480.0000 - val_root_mean_squared_error: 60389.3086\n",
            "Epoch 57/100\n",
            "563/563 [==============================] - 1s 2ms/step - loss: 3095522048.0000 - root_mean_squared_error: 55637.4141 - val_loss: 3620670976.0000 - val_root_mean_squared_error: 60172.0117\n",
            "Epoch 58/100\n",
            "563/563 [==============================] - 1s 2ms/step - loss: 3063995904.0000 - root_mean_squared_error: 55353.3711 - val_loss: 3547268096.0000 - val_root_mean_squared_error: 59558.9453\n",
            "Epoch 59/100\n",
            "557/563 [============================>.] - ETA: 0s - loss: 3055602176.0000 - root_mean_squared_error: 55277.5000"
          ]
        },
        {
          "output_type": "stream",
          "name": "stderr",
          "text": [
            "WARNING:absl:Found untraced functions such as _update_step_xla while saving (showing 1 of 1). These functions will not be directly callable after loading.\n"
          ]
        },
        {
          "output_type": "stream",
          "name": "stdout",
          "text": [
            "\b\b\b\b\b\b\b\b\b\b\b\b\b\b\b\b\b\b\b\b\b\b\b\b\b\b\b\b\b\b\b\b\b\b\b\b\b\b\b\b\b\b\b\b\b\b\b\b\b\b\b\b\b\b\b\b\b\b\b\b\b\b\b\b\b\b\b\b\b\b\b\b\b\b\b\b\b\b\b\b\b\b\b\b\b\b\b\b\b\b\b\b\b\b\b\b\b\b\b\b\b\b\b\b\b\b\b\b\b\b\b\b\r563/563 [==============================] - 2s 4ms/step - loss: 3052660992.0000 - root_mean_squared_error: 55250.8906 - val_loss: 3495135744.0000 - val_root_mean_squared_error: 59119.6719\n",
            "Epoch 60/100\n",
            "563/563 [==============================] - 2s 3ms/step - loss: 3032798208.0000 - root_mean_squared_error: 55070.8477 - val_loss: 3681920000.0000 - val_root_mean_squared_error: 60678.8281\n",
            "Epoch 61/100\n",
            "548/563 [============================>.] - ETA: 0s - loss: 3041341952.0000 - root_mean_squared_error: 55148.3633"
          ]
        },
        {
          "output_type": "stream",
          "name": "stderr",
          "text": [
            "WARNING:absl:Found untraced functions such as _update_step_xla while saving (showing 1 of 1). These functions will not be directly callable after loading.\n"
          ]
        },
        {
          "output_type": "stream",
          "name": "stdout",
          "text": [
            "\b\b\b\b\b\b\b\b\b\b\b\b\b\b\b\b\b\b\b\b\b\b\b\b\b\b\b\b\b\b\b\b\b\b\b\b\b\b\b\b\b\b\b\b\b\b\b\b\b\b\b\b\b\b\b\b\b\b\b\b\b\b\b\b\b\b\b\b\b\b\b\b\b\b\b\b\b\b\b\b\b\b\b\b\b\b\b\b\b\b\b\b\b\b\b\b\b\b\b\b\b\b\b\b\b\b\b\b\b\b\b\b\r563/563 [==============================] - 2s 4ms/step - loss: 3022249984.0000 - root_mean_squared_error: 54974.9961 - val_loss: 3437887232.0000 - val_root_mean_squared_error: 58633.5000\n",
            "Epoch 62/100\n",
            "563/563 [==============================] - 1s 2ms/step - loss: 2982040064.0000 - root_mean_squared_error: 54608.0586 - val_loss: 3489694976.0000 - val_root_mean_squared_error: 59073.6406\n",
            "Epoch 63/100\n",
            "546/563 [============================>.] - ETA: 0s - loss: 2987043840.0000 - root_mean_squared_error: 54653.8555"
          ]
        },
        {
          "output_type": "stream",
          "name": "stderr",
          "text": [
            "WARNING:absl:Found untraced functions such as _update_step_xla while saving (showing 1 of 1). These functions will not be directly callable after loading.\n"
          ]
        },
        {
          "output_type": "stream",
          "name": "stdout",
          "text": [
            "\b\b\b\b\b\b\b\b\b\b\b\b\b\b\b\b\b\b\b\b\b\b\b\b\b\b\b\b\b\b\b\b\b\b\b\b\b\b\b\b\b\b\b\b\b\b\b\b\b\b\b\b\b\b\b\b\b\b\b\b\b\b\b\b\b\b\b\b\b\b\b\b\b\b\b\b\b\b\b\b\b\b\b\b\b\b\b\b\b\b\b\b\b\b\b\b\b\b\b\b\b\b\b\b\b\b\b\b\b\b\b\b\r563/563 [==============================] - 2s 3ms/step - loss: 2979114496.0000 - root_mean_squared_error: 54581.2656 - val_loss: 3427696128.0000 - val_root_mean_squared_error: 58546.5312\n",
            "Epoch 64/100\n",
            "554/563 [============================>.] - ETA: 0s - loss: 2960532224.0000 - root_mean_squared_error: 54410.7734"
          ]
        },
        {
          "output_type": "stream",
          "name": "stderr",
          "text": [
            "WARNING:absl:Found untraced functions such as _update_step_xla while saving (showing 1 of 1). These functions will not be directly callable after loading.\n"
          ]
        },
        {
          "output_type": "stream",
          "name": "stdout",
          "text": [
            "\b\b\b\b\b\b\b\b\b\b\b\b\b\b\b\b\b\b\b\b\b\b\b\b\b\b\b\b\b\b\b\b\b\b\b\b\b\b\b\b\b\b\b\b\b\b\b\b\b\b\b\b\b\b\b\b\b\b\b\b\b\b\b\b\b\b\b\b\b\b\b\b\b\b\b\b\b\b\b\b\b\b\b\b\b\b\b\b\b\b\b\b\b\b\b\b\b\b\b\b\b\b\b\b\b\b\b\b\b\b\b\b\r563/563 [==============================] - 2s 4ms/step - loss: 2955756288.0000 - root_mean_squared_error: 54366.8672 - val_loss: 3372297728.0000 - val_root_mean_squared_error: 58071.4883\n",
            "Epoch 65/100\n",
            "563/563 [==============================] - 1s 2ms/step - loss: 2970793472.0000 - root_mean_squared_error: 54504.9844 - val_loss: 3469443072.0000 - val_root_mean_squared_error: 58901.9766\n",
            "Epoch 66/100\n",
            "555/563 [============================>.] - ETA: 0s - loss: 2946649344.0000 - root_mean_squared_error: 54283.0469"
          ]
        },
        {
          "output_type": "stream",
          "name": "stderr",
          "text": [
            "WARNING:absl:Found untraced functions such as _update_step_xla while saving (showing 1 of 1). These functions will not be directly callable after loading.\n"
          ]
        },
        {
          "output_type": "stream",
          "name": "stdout",
          "text": [
            "\b\b\b\b\b\b\b\b\b\b\b\b\b\b\b\b\b\b\b\b\b\b\b\b\b\b\b\b\b\b\b\b\b\b\b\b\b\b\b\b\b\b\b\b\b\b\b\b\b\b\b\b\b\b\b\b\b\b\b\b\b\b\b\b\b\b\b\b\b\b\b\b\b\b\b\b\b\b\b\b\b\b\b\b\b\b\b\b\b\b\b\b\b\b\b\b\b\b\b\b\b\b\b\b\b\b\b\b\b\b\b\b\r563/563 [==============================] - 3s 5ms/step - loss: 2948495872.0000 - root_mean_squared_error: 54300.0547 - val_loss: 3368981504.0000 - val_root_mean_squared_error: 58042.9297\n",
            "Epoch 67/100\n",
            "563/563 [==============================] - 2s 4ms/step - loss: 2923292160.0000 - root_mean_squared_error: 54067.4766 - val_loss: 3402062848.0000 - val_root_mean_squared_error: 58327.2031\n",
            "Epoch 68/100\n",
            "563/563 [==============================] - 1s 2ms/step - loss: 2930350336.0000 - root_mean_squared_error: 54132.7109 - val_loss: 3410300928.0000 - val_root_mean_squared_error: 58397.7812\n",
            "Epoch 69/100\n",
            "563/563 [==============================] - 1s 2ms/step - loss: 2915879680.0000 - root_mean_squared_error: 53998.8867 - val_loss: 3369433344.0000 - val_root_mean_squared_error: 58046.8203\n",
            "Epoch 70/100\n",
            "550/563 [============================>.] - ETA: 0s - loss: 2900431360.0000 - root_mean_squared_error: 53855.6523"
          ]
        },
        {
          "output_type": "stream",
          "name": "stderr",
          "text": [
            "WARNING:absl:Found untraced functions such as _update_step_xla while saving (showing 1 of 1). These functions will not be directly callable after loading.\n"
          ]
        },
        {
          "output_type": "stream",
          "name": "stdout",
          "text": [
            "\b\b\b\b\b\b\b\b\b\b\b\b\b\b\b\b\b\b\b\b\b\b\b\b\b\b\b\b\b\b\b\b\b\b\b\b\b\b\b\b\b\b\b\b\b\b\b\b\b\b\b\b\b\b\b\b\b\b\b\b\b\b\b\b\b\b\b\b\b\b\b\b\b\b\b\b\b\b\b\b\b\b\b\b\b\b\b\b\b\b\b\b\b\b\b\b\b\b\b\b\b\b\b\b\b\b\b\b\b\b\b\b\r563/563 [==============================] - 2s 4ms/step - loss: 2903706624.0000 - root_mean_squared_error: 53886.0508 - val_loss: 3283364352.0000 - val_root_mean_squared_error: 57300.6484\n",
            "Epoch 71/100\n",
            "563/563 [==============================] - 1s 2ms/step - loss: 2910323200.0000 - root_mean_squared_error: 53947.4102 - val_loss: 3327180544.0000 - val_root_mean_squared_error: 57681.7188\n",
            "Epoch 72/100\n",
            "563/563 [==============================] - 1s 2ms/step - loss: 2896877312.0000 - root_mean_squared_error: 53822.6484 - val_loss: 3317816064.0000 - val_root_mean_squared_error: 57600.4883\n",
            "Epoch 73/100\n",
            "563/563 [==============================] - 1s 2ms/step - loss: 2901501440.0000 - root_mean_squared_error: 53865.5859 - val_loss: 3381550848.0000 - val_root_mean_squared_error: 58151.1055\n",
            "Epoch 74/100\n",
            "548/563 [============================>.] - ETA: 0s - loss: 2894016256.0000 - root_mean_squared_error: 53796.0625"
          ]
        },
        {
          "output_type": "stream",
          "name": "stderr",
          "text": [
            "WARNING:absl:Found untraced functions such as _update_step_xla while saving (showing 1 of 1). These functions will not be directly callable after loading.\n"
          ]
        },
        {
          "output_type": "stream",
          "name": "stdout",
          "text": [
            "\b\b\b\b\b\b\b\b\b\b\b\b\b\b\b\b\b\b\b\b\b\b\b\b\b\b\b\b\b\b\b\b\b\b\b\b\b\b\b\b\b\b\b\b\b\b\b\b\b\b\b\b\b\b\b\b\b\b\b\b\b\b\b\b\b\b\b\b\b\b\b\b\b\b\b\b\b\b\b\b\b\b\b\b\b\b\b\b\b\b\b\b\b\b\b\b\b\b\b\b\b\b\b\b\b\b\b\b\b\b\b\b\r563/563 [==============================] - 2s 4ms/step - loss: 2900131840.0000 - root_mean_squared_error: 53852.8711 - val_loss: 3275951360.0000 - val_root_mean_squared_error: 57235.9258\n",
            "Epoch 75/100\n",
            "563/563 [==============================] - 2s 3ms/step - loss: 2918235648.0000 - root_mean_squared_error: 54020.6953 - val_loss: 3321227264.0000 - val_root_mean_squared_error: 57630.0898\n",
            "Epoch 76/100\n",
            "563/563 [==============================] - 1s 2ms/step - loss: 2911146240.0000 - root_mean_squared_error: 53955.0391 - val_loss: 3283589888.0000 - val_root_mean_squared_error: 57302.6172\n",
            "Epoch 77/100\n",
            "563/563 [==============================] - 1s 2ms/step - loss: 2884582912.0000 - root_mean_squared_error: 53708.3125 - val_loss: 3471872000.0000 - val_root_mean_squared_error: 58922.5938\n",
            "Epoch 78/100\n",
            "563/563 [==============================] - 1s 2ms/step - loss: 2876988416.0000 - root_mean_squared_error: 53637.5664 - val_loss: 3419119104.0000 - val_root_mean_squared_error: 58473.2344\n",
            "Epoch 79/100\n",
            "563/563 [==============================] - 1s 2ms/step - loss: 2881103616.0000 - root_mean_squared_error: 53675.9141 - val_loss: 3287790592.0000 - val_root_mean_squared_error: 57339.2578\n",
            "Epoch 80/100\n",
            "563/563 [==============================] - 1s 2ms/step - loss: 2871502080.0000 - root_mean_squared_error: 53586.3984 - val_loss: 3317191168.0000 - val_root_mean_squared_error: 57595.0625\n",
            "Epoch 81/100\n",
            "563/563 [==============================] - 1s 2ms/step - loss: 2868429056.0000 - root_mean_squared_error: 53557.7188 - val_loss: 3351660800.0000 - val_root_mean_squared_error: 57893.5312\n",
            "Epoch 82/100\n",
            "563/563 [==============================] - 1s 2ms/step - loss: 2886707200.0000 - root_mean_squared_error: 53728.0859 - val_loss: 3338402048.0000 - val_root_mean_squared_error: 57778.9062\n",
            "Epoch 83/100\n",
            "563/563 [==============================] - 2s 3ms/step - loss: 2863229696.0000 - root_mean_squared_error: 53509.1562 - val_loss: 3423248896.0000 - val_root_mean_squared_error: 58508.5352\n",
            "Epoch 84/100\n",
            "563/563 [==============================] - 2s 3ms/step - loss: 2866314496.0000 - root_mean_squared_error: 53537.9727 - val_loss: 3294407680.0000 - val_root_mean_squared_error: 57396.9297\n",
            "Epoch 85/100\n",
            "563/563 [==============================] - 1s 2ms/step - loss: 2858050560.0000 - root_mean_squared_error: 53460.7383 - val_loss: 3285378304.0000 - val_root_mean_squared_error: 57318.2188\n",
            "Epoch 86/100\n",
            "563/563 [==============================] - 1s 2ms/step - loss: 2854200064.0000 - root_mean_squared_error: 53424.7148 - val_loss: 3305846272.0000 - val_root_mean_squared_error: 57496.4883\n",
            "Epoch 87/100\n",
            "543/563 [===========================>..] - ETA: 0s - loss: 2859481088.0000 - root_mean_squared_error: 53474.1172"
          ]
        },
        {
          "output_type": "stream",
          "name": "stderr",
          "text": [
            "WARNING:absl:Found untraced functions such as _update_step_xla while saving (showing 1 of 1). These functions will not be directly callable after loading.\n"
          ]
        },
        {
          "output_type": "stream",
          "name": "stdout",
          "text": [
            "\b\b\b\b\b\b\b\b\b\b\b\b\b\b\b\b\b\b\b\b\b\b\b\b\b\b\b\b\b\b\b\b\b\b\b\b\b\b\b\b\b\b\b\b\b\b\b\b\b\b\b\b\b\b\b\b\b\b\b\b\b\b\b\b\b\b\b\b\b\b\b\b\b\b\b\b\b\b\b\b\b\b\b\b\b\b\b\b\b\b\b\b\b\b\b\b\b\b\b\b\b\b\b\b\b\b\b\b\b\b\b\b\r563/563 [==============================] - 2s 3ms/step - loss: 2845229056.0000 - root_mean_squared_error: 53340.6875 - val_loss: 3262454272.0000 - val_root_mean_squared_error: 57117.8984\n",
            "Epoch 88/100\n",
            "563/563 [==============================] - 1s 2ms/step - loss: 2845398784.0000 - root_mean_squared_error: 53342.2812 - val_loss: 3528513280.0000 - val_root_mean_squared_error: 59401.2891\n",
            "Epoch 89/100\n",
            "563/563 [==============================] - 1s 2ms/step - loss: 2841823232.0000 - root_mean_squared_error: 53308.7539 - val_loss: 3582063872.0000 - val_root_mean_squared_error: 59850.3438\n",
            "Epoch 90/100\n",
            "563/563 [==============================] - 2s 3ms/step - loss: 2836452096.0000 - root_mean_squared_error: 53258.3516 - val_loss: 3338881024.0000 - val_root_mean_squared_error: 57783.0508\n",
            "Epoch 91/100\n",
            "549/563 [============================>.] - ETA: 0s - loss: 2845113856.0000 - root_mean_squared_error: 53339.6094"
          ]
        },
        {
          "output_type": "stream",
          "name": "stderr",
          "text": [
            "WARNING:absl:Found untraced functions such as _update_step_xla while saving (showing 1 of 1). These functions will not be directly callable after loading.\n"
          ]
        },
        {
          "output_type": "stream",
          "name": "stdout",
          "text": [
            "\b\b\b\b\b\b\b\b\b\b\b\b\b\b\b\b\b\b\b\b\b\b\b\b\b\b\b\b\b\b\b\b\b\b\b\b\b\b\b\b\b\b\b\b\b\b\b\b\b\b\b\b\b\b\b\b\b\b\b\b\b\b\b\b\b\b\b\b\b\b\b\b\b\b\b\b\b\b\b\b\b\b\b\b\b\b\b\b\b\b\b\b\b\b\b\b\b\b\b\b\b\b\b\b\b\b\b\b\b\b\b\b\r563/563 [==============================] - 3s 5ms/step - loss: 2834930432.0000 - root_mean_squared_error: 53244.0664 - val_loss: 3259821312.0000 - val_root_mean_squared_error: 57094.8438\n",
            "Epoch 92/100\n",
            "563/563 [==============================] - 2s 3ms/step - loss: 2831303680.0000 - root_mean_squared_error: 53209.9961 - val_loss: 3356560896.0000 - val_root_mean_squared_error: 57935.8359\n",
            "Epoch 93/100\n",
            "563/563 [==============================] - 1s 2ms/step - loss: 2834504704.0000 - root_mean_squared_error: 53240.0664 - val_loss: 3356488192.0000 - val_root_mean_squared_error: 57935.2070\n",
            "Epoch 94/100\n",
            "560/563 [============================>.] - ETA: 0s - loss: 2833289216.0000 - root_mean_squared_error: 53228.6484"
          ]
        },
        {
          "output_type": "stream",
          "name": "stderr",
          "text": [
            "WARNING:absl:Found untraced functions such as _update_step_xla while saving (showing 1 of 1). These functions will not be directly callable after loading.\n"
          ]
        },
        {
          "output_type": "stream",
          "name": "stdout",
          "text": [
            "\b\b\b\b\b\b\b\b\b\b\b\b\b\b\b\b\b\b\b\b\b\b\b\b\b\b\b\b\b\b\b\b\b\b\b\b\b\b\b\b\b\b\b\b\b\b\b\b\b\b\b\b\b\b\b\b\b\b\b\b\b\b\b\b\b\b\b\b\b\b\b\b\b\b\b\b\b\b\b\b\b\b\b\b\b\b\b\b\b\b\b\b\b\b\b\b\b\b\b\b\b\b\b\b\b\b\b\b\b\b\b\b\r563/563 [==============================] - 2s 3ms/step - loss: 2837986816.0000 - root_mean_squared_error: 53272.7578 - val_loss: 3243039488.0000 - val_root_mean_squared_error: 56947.6914\n",
            "Epoch 95/100\n",
            "563/563 [==============================] - 1s 2ms/step - loss: 2808729856.0000 - root_mean_squared_error: 52997.4531 - val_loss: 3553011456.0000 - val_root_mean_squared_error: 59607.1445\n",
            "Epoch 96/100\n",
            "563/563 [==============================] - 1s 2ms/step - loss: 2825403904.0000 - root_mean_squared_error: 53154.5273 - val_loss: 3369861888.0000 - val_root_mean_squared_error: 58050.5117\n",
            "Epoch 97/100\n",
            "563/563 [==============================] - 1s 2ms/step - loss: 2792985856.0000 - root_mean_squared_error: 52848.7070 - val_loss: 3286345984.0000 - val_root_mean_squared_error: 57326.6602\n",
            "Epoch 98/100\n",
            "563/563 [==============================] - 1s 2ms/step - loss: 2813825024.0000 - root_mean_squared_error: 53045.5000 - val_loss: 3379163904.0000 - val_root_mean_squared_error: 58130.5781\n",
            "Epoch 99/100\n",
            "563/563 [==============================] - 2s 3ms/step - loss: 2795699968.0000 - root_mean_squared_error: 52874.3789 - val_loss: 3316128000.0000 - val_root_mean_squared_error: 57585.8320\n",
            "Epoch 100/100\n",
            "551/563 [============================>.] - ETA: 0s - loss: 2808585728.0000 - root_mean_squared_error: 52996.0898"
          ]
        },
        {
          "output_type": "stream",
          "name": "stderr",
          "text": [
            "WARNING:absl:Found untraced functions such as _update_step_xla while saving (showing 1 of 1). These functions will not be directly callable after loading.\n"
          ]
        },
        {
          "output_type": "stream",
          "name": "stdout",
          "text": [
            "\b\b\b\b\b\b\b\b\b\b\b\b\b\b\b\b\b\b\b\b\b\b\b\b\b\b\b\b\b\b\b\b\b\b\b\b\b\b\b\b\b\b\b\b\b\b\b\b\b\b\b\b\b\b\b\b\b\b\b\b\b\b\b\b\b\b\b\b\b\b\b\b\b\b\b\b\b\b\b\b\b\b\b\b\b\b\b\b\b\b\b\b\b\b\b\b\b\b\b\b\b\b\b\b\b\b\b\b\b\b\b\b\r563/563 [==============================] - 3s 5ms/step - loss: 2805381376.0000 - root_mean_squared_error: 52965.8516 - val_loss: 3234726656.0000 - val_root_mean_squared_error: 56874.6562\n"
          ]
        },
        {
          "output_type": "execute_result",
          "data": {
            "text/plain": [
              "<keras.callbacks.History at 0x7f38f033bfa0>"
            ]
          },
          "metadata": {},
          "execution_count": 313
        }
      ]
    },
    {
      "cell_type": "code",
      "source": [
        "medium_nn = load_model(\"models/medium_nn\")\n",
        "mse (medium_nn.predict(X_train) , y_train  , squared= False ), mse (medium_nn.predict(X_val) , y_val  , squared= False )"
      ],
      "metadata": {
        "colab": {
          "base_uri": "https://localhost:8080/"
        },
        "id": "O3YUhWa3qb0l",
        "outputId": "4284e2ea-3937-42d5-bfd0-d0cf5ab98bb2"
      },
      "execution_count": 314,
      "outputs": [
        {
          "output_type": "stream",
          "name": "stdout",
          "text": [
            "563/563 [==============================] - 1s 2ms/step\n",
            "39/39 [==============================] - 0s 2ms/step\n"
          ]
        },
        {
          "output_type": "execute_result",
          "data": {
            "text/plain": [
              "(52635.33594347691, 56874.65239249034)"
            ]
          },
          "metadata": {},
          "execution_count": 314
        }
      ]
    },
    {
      "cell_type": "code",
      "source": [
        "Large_nn = Sequential()\n",
        "Large_nn.add(InputLayer(13,))\n",
        "Large_nn.add(Dense(256,\"relu\"))\n",
        "Large_nn.add(Dense(64,\"relu\"))\n",
        "Large_nn.add(Dense(32,\"relu\"))\n",
        "Large_nn .add(Dense(16 , \"relu\"))\n",
        "Large_nn.add(Dense(1,\"linear\"))\n",
        "\n",
        "opt = Adam(learning_rate=.1)\n",
        "cp=ModelCheckpoint(\"models/Large_nn\" ,save_best_only= True)\n",
        "Large_nn.compile(optimizer = opt,loss = \"mse\" , metrics = [RootMeanSquaredError()])\n",
        "Large_nn.fit(x=X_train , y=y_train , validation_data = (X_val , y_val ) , callbacks= [cp], epochs= 100) "
      ],
      "metadata": {
        "colab": {
          "base_uri": "https://localhost:8080/"
        },
        "id": "CkgzF5_NsWM5",
        "outputId": "ba9a65b3-3271-4f6e-e231-0bcf97f3b2d9"
      },
      "execution_count": 315,
      "outputs": [
        {
          "output_type": "stream",
          "name": "stdout",
          "text": [
            "Epoch 1/100\n",
            "547/563 [============================>.] - ETA: 0s - loss: 6473399296.0000 - root_mean_squared_error: 80457.4375"
          ]
        },
        {
          "output_type": "stream",
          "name": "stderr",
          "text": [
            "WARNING:absl:Found untraced functions such as _update_step_xla while saving (showing 1 of 1). These functions will not be directly callable after loading.\n"
          ]
        },
        {
          "output_type": "stream",
          "name": "stdout",
          "text": [
            "\b\b\b\b\b\b\b\b\b\b\b\b\b\b\b\b\b\b\b\b\b\b\b\b\b\b\b\b\b\b\b\b\b\b\b\b\b\b\b\b\b\b\b\b\b\b\b\b\b\b\b\b\b\b\b\b\b\b\b\b\b\b\b\b\b\b\b\b\b\b\b\b\b\b\b\b\b\b\b\b\b\b\b\b\b\b\b\b\b\b\b\b\b\b\b\b\b\b\b\b\b\b\b\b\b\b\b\b\b\b\b\b\r563/563 [==============================] - 5s 6ms/step - loss: 6424185856.0000 - root_mean_squared_error: 80151.0156 - val_loss: 5244801536.0000 - val_root_mean_squared_error: 72421.0000\n",
            "Epoch 2/100\n",
            "563/563 [==============================] - 2s 3ms/step - loss: 4803640832.0000 - root_mean_squared_error: 69308.3047 - val_loss: 5908412416.0000 - val_root_mean_squared_error: 76866.1953\n",
            "Epoch 3/100\n",
            "557/563 [============================>.] - ETA: 0s - loss: 4735315968.0000 - root_mean_squared_error: 68813.6328"
          ]
        },
        {
          "output_type": "stream",
          "name": "stderr",
          "text": [
            "WARNING:absl:Found untraced functions such as _update_step_xla while saving (showing 1 of 1). These functions will not be directly callable after loading.\n"
          ]
        },
        {
          "output_type": "stream",
          "name": "stdout",
          "text": [
            "\b\b\b\b\b\b\b\b\b\b\b\b\b\b\b\b\b\b\b\b\b\b\b\b\b\b\b\b\b\b\b\b\b\b\b\b\b\b\b\b\b\b\b\b\b\b\b\b\b\b\b\b\b\b\b\b\b\b\b\b\b\b\b\b\b\b\b\b\b\b\b\b\b\b\b\b\b\b\b\b\b\b\b\b\b\b\b\b\b\b\b\b\b\b\b\b\b\b\b\b\b\b\b\b\b\b\b\b\b\b\b\b\r563/563 [==============================] - 3s 5ms/step - loss: 4727482368.0000 - root_mean_squared_error: 68756.6875 - val_loss: 4460524544.0000 - val_root_mean_squared_error: 66787.1562\n",
            "Epoch 4/100\n",
            "554/563 [============================>.] - ETA: 0s - loss: 4196749056.0000 - root_mean_squared_error: 64782.3203"
          ]
        },
        {
          "output_type": "stream",
          "name": "stderr",
          "text": [
            "WARNING:absl:Found untraced functions such as _update_step_xla while saving (showing 1 of 1). These functions will not be directly callable after loading.\n"
          ]
        },
        {
          "output_type": "stream",
          "name": "stdout",
          "text": [
            "\b\b\b\b\b\b\b\b\b\b\b\b\b\b\b\b\b\b\b\b\b\b\b\b\b\b\b\b\b\b\b\b\b\b\b\b\b\b\b\b\b\b\b\b\b\b\b\b\b\b\b\b\b\b\b\b\b\b\b\b\b\b\b\b\b\b\b\b\b\b\b\b\b\b\b\b\b\b\b\b\b\b\b\b\b\b\b\b\b\b\b\b\b\b\b\b\b\b\b\b\b\b\b\b\b\b\b\b\b\b\b\b\r563/563 [==============================] - 4s 7ms/step - loss: 4194117120.0000 - root_mean_squared_error: 64762.0039 - val_loss: 4417684480.0000 - val_root_mean_squared_error: 66465.6641\n",
            "Epoch 5/100\n",
            "559/563 [============================>.] - ETA: 0s - loss: 3882300928.0000 - root_mean_squared_error: 62308.1133"
          ]
        },
        {
          "output_type": "stream",
          "name": "stderr",
          "text": [
            "WARNING:absl:Found untraced functions such as _update_step_xla while saving (showing 1 of 1). These functions will not be directly callable after loading.\n"
          ]
        },
        {
          "output_type": "stream",
          "name": "stdout",
          "text": [
            "\b\b\b\b\b\b\b\b\b\b\b\b\b\b\b\b\b\b\b\b\b\b\b\b\b\b\b\b\b\b\b\b\b\b\b\b\b\b\b\b\b\b\b\b\b\b\b\b\b\b\b\b\b\b\b\b\b\b\b\b\b\b\b\b\b\b\b\b\b\b\b\b\b\b\b\b\b\b\b\b\b\b\b\b\b\b\b\b\b\b\b\b\b\b\b\b\b\b\b\b\b\b\b\b\b\b\b\b\b\b\b\b\r563/563 [==============================] - 3s 4ms/step - loss: 3881256192.0000 - root_mean_squared_error: 62299.7305 - val_loss: 4172827648.0000 - val_root_mean_squared_error: 64597.4258\n",
            "Epoch 6/100\n",
            "563/563 [==============================] - 2s 3ms/step - loss: 3939948288.0000 - root_mean_squared_error: 62769.0078 - val_loss: 4220162048.0000 - val_root_mean_squared_error: 64962.7734\n",
            "Epoch 7/100\n",
            "551/563 [============================>.] - ETA: 0s - loss: 3708936448.0000 - root_mean_squared_error: 60901.0391"
          ]
        },
        {
          "output_type": "stream",
          "name": "stderr",
          "text": [
            "WARNING:absl:Found untraced functions such as _update_step_xla while saving (showing 1 of 1). These functions will not be directly callable after loading.\n"
          ]
        },
        {
          "output_type": "stream",
          "name": "stdout",
          "text": [
            "\b\b\b\b\b\b\b\b\b\b\b\b\b\b\b\b\b\b\b\b\b\b\b\b\b\b\b\b\b\b\b\b\b\b\b\b\b\b\b\b\b\b\b\b\b\b\b\b\b\b\b\b\b\b\b\b\b\b\b\b\b\b\b\b\b\b\b\b\b\b\b\b\b\b\b\b\b\b\b\b\b\b\b\b\b\b\b\b\b\b\b\b\b\b\b\b\b\b\b\b\b\b\b\b\b\b\b\b\b\b\b\b\r563/563 [==============================] - 3s 5ms/step - loss: 3707201536.0000 - root_mean_squared_error: 60886.7930 - val_loss: 4003743744.0000 - val_root_mean_squared_error: 63275.1445\n",
            "Epoch 8/100\n",
            "563/563 [==============================] - 2s 3ms/step - loss: 3599857408.0000 - root_mean_squared_error: 59998.8125 - val_loss: 4574471680.0000 - val_root_mean_squared_error: 67634.8438\n",
            "Epoch 9/100\n",
            "563/563 [==============================] - 3s 5ms/step - loss: 3571568896.0000 - root_mean_squared_error: 59762.6055 - val_loss: 4061938432.0000 - val_root_mean_squared_error: 63733.3398\n",
            "Epoch 10/100\n",
            "563/563 [==============================] - 2s 3ms/step - loss: 3519120384.0000 - root_mean_squared_error: 59322.1758 - val_loss: 4166037760.0000 - val_root_mean_squared_error: 64544.8516\n",
            "Epoch 11/100\n",
            "563/563 [==============================] - 2s 3ms/step - loss: 3389967104.0000 - root_mean_squared_error: 58223.4258 - val_loss: 4714633728.0000 - val_root_mean_squared_error: 68663.1875\n",
            "Epoch 12/100\n",
            "560/563 [============================>.] - ETA: 0s - loss: 3396790784.0000 - root_mean_squared_error: 58281.9922"
          ]
        },
        {
          "output_type": "stream",
          "name": "stderr",
          "text": [
            "WARNING:absl:Found untraced functions such as _update_step_xla while saving (showing 1 of 1). These functions will not be directly callable after loading.\n"
          ]
        },
        {
          "output_type": "stream",
          "name": "stdout",
          "text": [
            "\b\b\b\b\b\b\b\b\b\b\b\b\b\b\b\b\b\b\b\b\b\b\b\b\b\b\b\b\b\b\b\b\b\b\b\b\b\b\b\b\b\b\b\b\b\b\b\b\b\b\b\b\b\b\b\b\b\b\b\b\b\b\b\b\b\b\b\b\b\b\b\b\b\b\b\b\b\b\b\b\b\b\b\b\b\b\b\b\b\b\b\b\b\b\b\b\b\b\b\b\b\b\b\b\b\b\b\b\b\b\b\b\r563/563 [==============================] - 3s 5ms/step - loss: 3396550400.0000 - root_mean_squared_error: 58279.9297 - val_loss: 3647325184.0000 - val_root_mean_squared_error: 60393.0898\n",
            "Epoch 13/100\n",
            "554/563 [============================>.] - ETA: 0s - loss: 3180776448.0000 - root_mean_squared_error: 56398.3711"
          ]
        },
        {
          "output_type": "stream",
          "name": "stderr",
          "text": [
            "WARNING:absl:Found untraced functions such as _update_step_xla while saving (showing 1 of 1). These functions will not be directly callable after loading.\n"
          ]
        },
        {
          "output_type": "stream",
          "name": "stdout",
          "text": [
            "\b\b\b\b\b\b\b\b\b\b\b\b\b\b\b\b\b\b\b\b\b\b\b\b\b\b\b\b\b\b\b\b\b\b\b\b\b\b\b\b\b\b\b\b\b\b\b\b\b\b\b\b\b\b\b\b\b\b\b\b\b\b\b\b\b\b\b\b\b\b\b\b\b\b\b\b\b\b\b\b\b\b\b\b\b\b\b\b\b\b\b\b\b\b\b\b\b\b\b\b\b\b\b\b\b\b\b\b\b\b\b\b\r563/563 [==============================] - 3s 5ms/step - loss: 3175023360.0000 - root_mean_squared_error: 56347.3438 - val_loss: 3444147200.0000 - val_root_mean_squared_error: 58686.8555\n",
            "Epoch 14/100\n",
            "563/563 [==============================] - 2s 3ms/step - loss: 3210324480.0000 - root_mean_squared_error: 56659.7266 - val_loss: 3615356672.0000 - val_root_mean_squared_error: 60127.8359\n",
            "Epoch 15/100\n",
            "563/563 [==============================] - 2s 4ms/step - loss: 3142410240.0000 - root_mean_squared_error: 56057.2031 - val_loss: 3538892544.0000 - val_root_mean_squared_error: 59488.5898\n",
            "Epoch 16/100\n",
            "554/563 [============================>.] - ETA: 0s - loss: 3072082432.0000 - root_mean_squared_error: 55426.3711"
          ]
        },
        {
          "output_type": "stream",
          "name": "stderr",
          "text": [
            "WARNING:absl:Found untraced functions such as _update_step_xla while saving (showing 1 of 1). These functions will not be directly callable after loading.\n"
          ]
        },
        {
          "output_type": "stream",
          "name": "stdout",
          "text": [
            "\b\b\b\b\b\b\b\b\b\b\b\b\b\b\b\b\b\b\b\b\b\b\b\b\b\b\b\b\b\b\b\b\b\b\b\b\b\b\b\b\b\b\b\b\b\b\b\b\b\b\b\b\b\b\b\b\b\b\b\b\b\b\b\b\b\b\b\b\b\b\b\b\b\b\b\b\b\b\b\b\b\b\b\b\b\b\b\b\b\b\b\b\b\b\b\b\b\b\b\b\b\b\b\b\b\b\b\b\b\b\b\b\r563/563 [==============================] - 3s 5ms/step - loss: 3067311360.0000 - root_mean_squared_error: 55383.3125 - val_loss: 3370939136.0000 - val_root_mean_squared_error: 58059.7891\n",
            "Epoch 17/100\n",
            "560/563 [============================>.] - ETA: 0s - loss: 3010754048.0000 - root_mean_squared_error: 54870.3398"
          ]
        },
        {
          "output_type": "stream",
          "name": "stderr",
          "text": [
            "WARNING:absl:Found untraced functions such as _update_step_xla while saving (showing 1 of 1). These functions will not be directly callable after loading.\n"
          ]
        },
        {
          "output_type": "stream",
          "name": "stdout",
          "text": [
            "\b\b\b\b\b\b\b\b\b\b\b\b\b\b\b\b\b\b\b\b\b\b\b\b\b\b\b\b\b\b\b\b\b\b\b\b\b\b\b\b\b\b\b\b\b\b\b\b\b\b\b\b\b\b\b\b\b\b\b\b\b\b\b\b\b\b\b\b\b\b\b\b\b\b\b\b\b\b\b\b\b\b\b\b\b\b\b\b\b\b\b\b\b\b\b\b\b\b\b\b\b\b\b\b\b\b\b\b\b\b\b\b\r563/563 [==============================] - 3s 5ms/step - loss: 3007072256.0000 - root_mean_squared_error: 54836.7773 - val_loss: 3154371328.0000 - val_root_mean_squared_error: 56163.7891\n",
            "Epoch 18/100\n",
            "563/563 [==============================] - 2s 3ms/step - loss: 3047007488.0000 - root_mean_squared_error: 55199.7070 - val_loss: 3599955200.0000 - val_root_mean_squared_error: 59999.6250\n",
            "Epoch 19/100\n",
            "563/563 [==============================] - 2s 3ms/step - loss: 3001377280.0000 - root_mean_squared_error: 54784.8281 - val_loss: 3283505152.0000 - val_root_mean_squared_error: 57301.8789\n",
            "Epoch 20/100\n",
            "563/563 [==============================] - 2s 3ms/step - loss: 3003030784.0000 - root_mean_squared_error: 54799.9141 - val_loss: 3280070144.0000 - val_root_mean_squared_error: 57271.8984\n",
            "Epoch 21/100\n",
            "563/563 [==============================] - 2s 4ms/step - loss: 2972838912.0000 - root_mean_squared_error: 54523.7461 - val_loss: 3188530688.0000 - val_root_mean_squared_error: 56467.0742\n",
            "Epoch 22/100\n",
            "563/563 [==============================] - 2s 3ms/step - loss: 2944723456.0000 - root_mean_squared_error: 54265.3047 - val_loss: 3312846592.0000 - val_root_mean_squared_error: 57557.3320\n",
            "Epoch 23/100\n",
            "563/563 [==============================] - 2s 3ms/step - loss: 2898197760.0000 - root_mean_squared_error: 53834.9102 - val_loss: 3479598848.0000 - val_root_mean_squared_error: 58988.1250\n",
            "Epoch 24/100\n",
            "563/563 [==============================] - 2s 3ms/step - loss: 2990292480.0000 - root_mean_squared_error: 54683.5664 - val_loss: 3387824384.0000 - val_root_mean_squared_error: 58205.0195\n",
            "Epoch 25/100\n",
            "546/563 [============================>.] - ETA: 0s - loss: 2855333120.0000 - root_mean_squared_error: 53435.3164"
          ]
        },
        {
          "output_type": "stream",
          "name": "stderr",
          "text": [
            "WARNING:absl:Found untraced functions such as _update_step_xla while saving (showing 1 of 1). These functions will not be directly callable after loading.\n"
          ]
        },
        {
          "output_type": "stream",
          "name": "stdout",
          "text": [
            "\b\b\b\b\b\b\b\b\b\b\b\b\b\b\b\b\b\b\b\b\b\b\b\b\b\b\b\b\b\b\b\b\b\b\b\b\b\b\b\b\b\b\b\b\b\b\b\b\b\b\b\b\b\b\b\b\b\b\b\b\b\b\b\b\b\b\b\b\b\b\b\b\b\b\b\b\b\b\b\b\b\b\b\b\b\b\b\b\b\b\b\b\b\b\b\b\b\b\b\b\b\b\b\b\b\b\b\b\b\b\b\b\r563/563 [==============================] - 3s 4ms/step - loss: 2848841728.0000 - root_mean_squared_error: 53374.5430 - val_loss: 3075811584.0000 - val_root_mean_squared_error: 55460.0000\n",
            "Epoch 26/100\n",
            "563/563 [==============================] - 2s 3ms/step - loss: 2861362688.0000 - root_mean_squared_error: 53491.7070 - val_loss: 3233045760.0000 - val_root_mean_squared_error: 56859.8789\n",
            "Epoch 27/100\n",
            "563/563 [==============================] - 2s 3ms/step - loss: 2864675328.0000 - root_mean_squared_error: 53522.6602 - val_loss: 3091835136.0000 - val_root_mean_squared_error: 55604.2734\n",
            "Epoch 28/100\n",
            "563/563 [==============================] - 2s 4ms/step - loss: 2804239104.0000 - root_mean_squared_error: 52955.0664 - val_loss: 3242296064.0000 - val_root_mean_squared_error: 56941.1641\n",
            "Epoch 29/100\n",
            "563/563 [==============================] - 2s 3ms/step - loss: 3081195264.0000 - root_mean_squared_error: 55508.5156 - val_loss: 3152247296.0000 - val_root_mean_squared_error: 56144.8789\n",
            "Epoch 30/100\n",
            "544/563 [===========================>..] - ETA: 0s - loss: 2848695040.0000 - root_mean_squared_error: 53373.1680"
          ]
        },
        {
          "output_type": "stream",
          "name": "stderr",
          "text": [
            "WARNING:absl:Found untraced functions such as _update_step_xla while saving (showing 1 of 1). These functions will not be directly callable after loading.\n"
          ]
        },
        {
          "output_type": "stream",
          "name": "stdout",
          "text": [
            "\b\b\b\b\b\b\b\b\b\b\b\b\b\b\b\b\b\b\b\b\b\b\b\b\b\b\b\b\b\b\b\b\b\b\b\b\b\b\b\b\b\b\b\b\b\b\b\b\b\b\b\b\b\b\b\b\b\b\b\b\b\b\b\b\b\b\b\b\b\b\b\b\b\b\b\b\b\b\b\b\b\b\b\b\b\b\b\b\b\b\b\b\b\b\b\b\b\b\b\b\b\b\b\b\b\b\b\b\b\b\b\b\r563/563 [==============================] - 3s 5ms/step - loss: 2845123328.0000 - root_mean_squared_error: 53339.6992 - val_loss: 3026189824.0000 - val_root_mean_squared_error: 55010.8164\n",
            "Epoch 31/100\n",
            "563/563 [==============================] - 2s 3ms/step - loss: 2839051520.0000 - root_mean_squared_error: 53282.7500 - val_loss: 3575355648.0000 - val_root_mean_squared_error: 59794.2773\n",
            "Epoch 32/100\n",
            "563/563 [==============================] - 2s 3ms/step - loss: 2797051904.0000 - root_mean_squared_error: 52887.1602 - val_loss: 3088491008.0000 - val_root_mean_squared_error: 55574.1953\n",
            "Epoch 33/100\n",
            "549/563 [============================>.] - ETA: 0s - loss: 2722461696.0000 - root_mean_squared_error: 52177.2148"
          ]
        },
        {
          "output_type": "stream",
          "name": "stderr",
          "text": [
            "WARNING:absl:Found untraced functions such as _update_step_xla while saving (showing 1 of 1). These functions will not be directly callable after loading.\n"
          ]
        },
        {
          "output_type": "stream",
          "name": "stdout",
          "text": [
            "\b\b\b\b\b\b\b\b\b\b\b\b\b\b\b\b\b\b\b\b\b\b\b\b\b\b\b\b\b\b\b\b\b\b\b\b\b\b\b\b\b\b\b\b\b\b\b\b\b\b\b\b\b\b\b\b\b\b\b\b\b\b\b\b\b\b\b\b\b\b\b\b\b\b\b\b\b\b\b\b\b\b\b\b\b\b\b\b\b\b\b\b\b\b\b\b\b\b\b\b\b\b\b\b\b\b\b\b\b\b\b\b\r563/563 [==============================] - 3s 5ms/step - loss: 2709856000.0000 - root_mean_squared_error: 52056.2773 - val_loss: 3005860864.0000 - val_root_mean_squared_error: 54825.7305\n",
            "Epoch 34/100\n",
            "563/563 [==============================] - 2s 4ms/step - loss: 2745842688.0000 - root_mean_squared_error: 52400.7891 - val_loss: 3035911680.0000 - val_root_mean_squared_error: 55099.1094\n",
            "Epoch 35/100\n",
            "563/563 [==============================] - 2s 3ms/step - loss: 2720251392.0000 - root_mean_squared_error: 52156.0273 - val_loss: 3068167168.0000 - val_root_mean_squared_error: 55391.0391\n",
            "Epoch 36/100\n",
            "563/563 [==============================] - 2s 3ms/step - loss: 2733152000.0000 - root_mean_squared_error: 52279.5547 - val_loss: 3445071616.0000 - val_root_mean_squared_error: 58694.7344\n",
            "Epoch 37/100\n",
            "563/563 [==============================] - 1s 3ms/step - loss: 2675156480.0000 - root_mean_squared_error: 51721.9141 - val_loss: 3136061696.0000 - val_root_mean_squared_error: 56000.5508\n",
            "Epoch 38/100\n",
            "563/563 [==============================] - 2s 3ms/step - loss: 2669418752.0000 - root_mean_squared_error: 51666.4180 - val_loss: 3137720320.0000 - val_root_mean_squared_error: 56015.3594\n",
            "Epoch 39/100\n",
            "563/563 [==============================] - 2s 3ms/step - loss: 2684611328.0000 - root_mean_squared_error: 51813.2344 - val_loss: 3155273216.0000 - val_root_mean_squared_error: 56171.8203\n",
            "Epoch 40/100\n",
            "559/563 [============================>.] - ETA: 0s - loss: 2630899968.0000 - root_mean_squared_error: 51292.3008"
          ]
        },
        {
          "output_type": "stream",
          "name": "stderr",
          "text": [
            "WARNING:absl:Found untraced functions such as _update_step_xla while saving (showing 1 of 1). These functions will not be directly callable after loading.\n"
          ]
        },
        {
          "output_type": "stream",
          "name": "stdout",
          "text": [
            "\b\b\b\b\b\b\b\b\b\b\b\b\b\b\b\b\b\b\b\b\b\b\b\b\b\b\b\b\b\b\b\b\b\b\b\b\b\b\b\b\b\b\b\b\b\b\b\b\b\b\b\b\b\b\b\b\b\b\b\b\b\b\b\b\b\b\b\b\b\b\b\b\b\b\b\b\b\b\b\b\b\b\b\b\b\b\b\b\b\b\b\b\b\b\b\b\b\b\b\b\b\b\b\b\b\b\b\b\b\b\b\b\r563/563 [==============================] - 3s 5ms/step - loss: 2628537344.0000 - root_mean_squared_error: 51269.2617 - val_loss: 2968734208.0000 - val_root_mean_squared_error: 54486.0938\n",
            "Epoch 41/100\n",
            "563/563 [==============================] - 2s 4ms/step - loss: 2623700224.0000 - root_mean_squared_error: 51222.0664 - val_loss: 4244017920.0000 - val_root_mean_squared_error: 65146.1289\n",
            "Epoch 42/100\n",
            "563/563 [==============================] - 2s 3ms/step - loss: 2690652928.0000 - root_mean_squared_error: 51871.5039 - val_loss: 3251544576.0000 - val_root_mean_squared_error: 57022.3164\n",
            "Epoch 43/100\n",
            "563/563 [==============================] - 2s 3ms/step - loss: 2610337792.0000 - root_mean_squared_error: 51091.4648 - val_loss: 3179196672.0000 - val_root_mean_squared_error: 56384.3672\n",
            "Epoch 44/100\n",
            "563/563 [==============================] - 2s 3ms/step - loss: 2654183424.0000 - root_mean_squared_error: 51518.7695 - val_loss: 3616786176.0000 - val_root_mean_squared_error: 60139.7227\n",
            "Epoch 45/100\n",
            "563/563 [==============================] - 2s 3ms/step - loss: 2614511360.0000 - root_mean_squared_error: 51132.2930 - val_loss: 3029404672.0000 - val_root_mean_squared_error: 55040.0273\n",
            "Epoch 46/100\n",
            "563/563 [==============================] - 2s 3ms/step - loss: 2627467008.0000 - root_mean_squared_error: 51258.8242 - val_loss: 3216823808.0000 - val_root_mean_squared_error: 56717.0508\n",
            "Epoch 47/100\n",
            "563/563 [==============================] - 1s 3ms/step - loss: 2608952320.0000 - root_mean_squared_error: 51077.9062 - val_loss: 3114935040.0000 - val_root_mean_squared_error: 55811.6016\n",
            "Epoch 48/100\n",
            "563/563 [==============================] - 2s 4ms/step - loss: 2572840192.0000 - root_mean_squared_error: 50723.1719 - val_loss: 3039109888.0000 - val_root_mean_squared_error: 55128.1211\n",
            "Epoch 49/100\n",
            "563/563 [==============================] - 2s 4ms/step - loss: 2609069568.0000 - root_mean_squared_error: 51079.0508 - val_loss: 3127270656.0000 - val_root_mean_squared_error: 55922.0039\n",
            "Epoch 50/100\n",
            "563/563 [==============================] - 2s 3ms/step - loss: 2538693888.0000 - root_mean_squared_error: 50385.4531 - val_loss: 3096472576.0000 - val_root_mean_squared_error: 55645.9570\n",
            "Epoch 51/100\n",
            "563/563 [==============================] - 2s 3ms/step - loss: 2584120576.0000 - root_mean_squared_error: 50834.2461 - val_loss: 3341130496.0000 - val_root_mean_squared_error: 57802.5117\n",
            "Epoch 52/100\n",
            "562/563 [============================>.] - ETA: 0s - loss: 2615027712.0000 - root_mean_squared_error: 51137.3398"
          ]
        },
        {
          "output_type": "stream",
          "name": "stderr",
          "text": [
            "WARNING:absl:Found untraced functions such as _update_step_xla while saving (showing 1 of 1). These functions will not be directly callable after loading.\n"
          ]
        },
        {
          "output_type": "stream",
          "name": "stdout",
          "text": [
            "\b\b\b\b\b\b\b\b\b\b\b\b\b\b\b\b\b\b\b\b\b\b\b\b\b\b\b\b\b\b\b\b\b\b\b\b\b\b\b\b\b\b\b\b\b\b\b\b\b\b\b\b\b\b\b\b\b\b\b\b\b\b\b\b\b\b\b\b\b\b\b\b\b\b\b\b\b\b\b\b\b\b\b\b\b\b\b\b\b\b\b\b\b\b\b\b\b\b\b\b\b\b\b\b\b\b\b\b\b\b\b\b\r563/563 [==============================] - 2s 4ms/step - loss: 2613686272.0000 - root_mean_squared_error: 51124.2227 - val_loss: 2936402688.0000 - val_root_mean_squared_error: 54188.5859\n",
            "Epoch 53/100\n",
            "563/563 [==============================] - 2s 3ms/step - loss: 2524497408.0000 - root_mean_squared_error: 50244.3750 - val_loss: 2991049984.0000 - val_root_mean_squared_error: 54690.4922\n",
            "Epoch 54/100\n",
            "563/563 [==============================] - 2s 3ms/step - loss: 2577004032.0000 - root_mean_squared_error: 50764.1992 - val_loss: 3033301760.0000 - val_root_mean_squared_error: 55075.4180\n",
            "Epoch 55/100\n",
            "563/563 [==============================] - 2s 4ms/step - loss: 2574566912.0000 - root_mean_squared_error: 50740.1914 - val_loss: 2939932928.0000 - val_root_mean_squared_error: 54221.1484\n",
            "Epoch 56/100\n",
            "563/563 [==============================] - 2s 4ms/step - loss: 2537878784.0000 - root_mean_squared_error: 50377.3633 - val_loss: 3210711552.0000 - val_root_mean_squared_error: 56663.1406\n",
            "Epoch 57/100\n",
            "563/563 [==============================] - 2s 3ms/step - loss: 2595923200.0000 - root_mean_squared_error: 50950.2031 - val_loss: 3061437184.0000 - val_root_mean_squared_error: 55330.2539\n",
            "Epoch 58/100\n",
            "563/563 [==============================] - 2s 3ms/step - loss: 2497852416.0000 - root_mean_squared_error: 49978.5195 - val_loss: 3503420160.0000 - val_root_mean_squared_error: 59189.6953\n",
            "Epoch 59/100\n",
            "563/563 [==============================] - 2s 3ms/step - loss: 2560323328.0000 - root_mean_squared_error: 50599.6367 - val_loss: 3013526784.0000 - val_root_mean_squared_error: 54895.5977\n",
            "Epoch 60/100\n",
            "559/563 [============================>.] - ETA: 0s - loss: 2559763200.0000 - root_mean_squared_error: 50594.1016"
          ]
        },
        {
          "output_type": "stream",
          "name": "stderr",
          "text": [
            "WARNING:absl:Found untraced functions such as _update_step_xla while saving (showing 1 of 1). These functions will not be directly callable after loading.\n"
          ]
        },
        {
          "output_type": "stream",
          "name": "stdout",
          "text": [
            "\b\b\b\b\b\b\b\b\b\b\b\b\b\b\b\b\b\b\b\b\b\b\b\b\b\b\b\b\b\b\b\b\b\b\b\b\b\b\b\b\b\b\b\b\b\b\b\b\b\b\b\b\b\b\b\b\b\b\b\b\b\b\b\b\b\b\b\b\b\b\b\b\b\b\b\b\b\b\b\b\b\b\b\b\b\b\b\b\b\b\b\b\b\b\b\b\b\b\b\b\b\b\b\b\b\b\b\b\b\b\b\b\r563/563 [==============================] - 3s 5ms/step - loss: 2558140416.0000 - root_mean_squared_error: 50578.0625 - val_loss: 2921817856.0000 - val_root_mean_squared_error: 54053.8438\n",
            "Epoch 61/100\n",
            "563/563 [==============================] - 2s 3ms/step - loss: 2532059904.0000 - root_mean_squared_error: 50319.5781 - val_loss: 3232681728.0000 - val_root_mean_squared_error: 56856.6758\n",
            "Epoch 62/100\n",
            "563/563 [==============================] - 2s 4ms/step - loss: 2541673472.0000 - root_mean_squared_error: 50415.0117 - val_loss: 2929030656.0000 - val_root_mean_squared_error: 54120.5195\n",
            "Epoch 63/100\n",
            "563/563 [==============================] - 2s 3ms/step - loss: 2480838656.0000 - root_mean_squared_error: 49808.0195 - val_loss: 3202685440.0000 - val_root_mean_squared_error: 56592.2734\n",
            "Epoch 64/100\n",
            "563/563 [==============================] - 2s 3ms/step - loss: 2492026624.0000 - root_mean_squared_error: 49920.2031 - val_loss: 3132145920.0000 - val_root_mean_squared_error: 55965.5781\n",
            "Epoch 65/100\n",
            "563/563 [==============================] - 2s 3ms/step - loss: 2575193344.0000 - root_mean_squared_error: 50746.3633 - val_loss: 2999275264.0000 - val_root_mean_squared_error: 54765.6406\n",
            "Epoch 66/100\n",
            "563/563 [==============================] - 2s 3ms/step - loss: 2598689792.0000 - root_mean_squared_error: 50977.3477 - val_loss: 3156266496.0000 - val_root_mean_squared_error: 56180.6602\n",
            "Epoch 67/100\n",
            "563/563 [==============================] - 2s 3ms/step - loss: 2457732096.0000 - root_mean_squared_error: 49575.5195 - val_loss: 3170274304.0000 - val_root_mean_squared_error: 56305.1875\n",
            "Epoch 68/100\n",
            "563/563 [==============================] - 2s 3ms/step - loss: 2447166208.0000 - root_mean_squared_error: 49468.8398 - val_loss: 3105531392.0000 - val_root_mean_squared_error: 55727.2930\n",
            "Epoch 69/100\n",
            "563/563 [==============================] - 2s 3ms/step - loss: 2413384192.0000 - root_mean_squared_error: 49126.2070 - val_loss: 3206523392.0000 - val_root_mean_squared_error: 56626.1719\n",
            "Epoch 70/100\n",
            "563/563 [==============================] - 2s 4ms/step - loss: 2485287424.0000 - root_mean_squared_error: 49852.6562 - val_loss: 2965900032.0000 - val_root_mean_squared_error: 54460.0781\n",
            "Epoch 71/100\n",
            "563/563 [==============================] - 2s 3ms/step - loss: 2493361408.0000 - root_mean_squared_error: 49933.5703 - val_loss: 3111582720.0000 - val_root_mean_squared_error: 55781.5625\n",
            "Epoch 72/100\n",
            "563/563 [==============================] - 2s 3ms/step - loss: 2489345792.0000 - root_mean_squared_error: 49893.3438 - val_loss: 3051161856.0000 - val_root_mean_squared_error: 55237.3242\n",
            "Epoch 73/100\n",
            "563/563 [==============================] - 2s 3ms/step - loss: 2416129536.0000 - root_mean_squared_error: 49154.1406 - val_loss: 3036757248.0000 - val_root_mean_squared_error: 55106.7812\n",
            "Epoch 74/100\n",
            "563/563 [==============================] - 2s 3ms/step - loss: 2429025536.0000 - root_mean_squared_error: 49285.1445 - val_loss: 2942337024.0000 - val_root_mean_squared_error: 54243.3125\n",
            "Epoch 75/100\n",
            "563/563 [==============================] - 2s 3ms/step - loss: 2404654336.0000 - root_mean_squared_error: 49037.2734 - val_loss: 2962181120.0000 - val_root_mean_squared_error: 54425.9219\n",
            "Epoch 76/100\n",
            "563/563 [==============================] - 2s 3ms/step - loss: 2417686528.0000 - root_mean_squared_error: 49169.9766 - val_loss: 3293658368.0000 - val_root_mean_squared_error: 57390.4023\n",
            "Epoch 77/100\n",
            "563/563 [==============================] - 3s 5ms/step - loss: 2447569920.0000 - root_mean_squared_error: 49472.9219 - val_loss: 3169491200.0000 - val_root_mean_squared_error: 56298.2344\n",
            "Epoch 78/100\n",
            "563/563 [==============================] - 2s 3ms/step - loss: 2436353280.0000 - root_mean_squared_error: 49359.4297 - val_loss: 3126386688.0000 - val_root_mean_squared_error: 55914.1016\n",
            "Epoch 79/100\n",
            "563/563 [==============================] - 2s 3ms/step - loss: 2419865600.0000 - root_mean_squared_error: 49192.1289 - val_loss: 3114077952.0000 - val_root_mean_squared_error: 55803.9258\n",
            "Epoch 80/100\n",
            "563/563 [==============================] - 2s 3ms/step - loss: 2389200640.0000 - root_mean_squared_error: 48879.4492 - val_loss: 3361062400.0000 - val_root_mean_squared_error: 57974.6719\n",
            "Epoch 81/100\n",
            "563/563 [==============================] - 2s 3ms/step - loss: 2469494272.0000 - root_mean_squared_error: 49694.0078 - val_loss: 3467162880.0000 - val_root_mean_squared_error: 58882.6211\n",
            "Epoch 82/100\n",
            "563/563 [==============================] - 1s 3ms/step - loss: 2520923648.0000 - root_mean_squared_error: 50208.8008 - val_loss: 3275279104.0000 - val_root_mean_squared_error: 57230.0547\n",
            "Epoch 83/100\n",
            "563/563 [==============================] - 2s 3ms/step - loss: 2451176448.0000 - root_mean_squared_error: 49509.3555 - val_loss: 3149155584.0000 - val_root_mean_squared_error: 56117.3359\n",
            "Epoch 84/100\n",
            "563/563 [==============================] - 2s 4ms/step - loss: 2355881728.0000 - root_mean_squared_error: 48537.4258 - val_loss: 4744248832.0000 - val_root_mean_squared_error: 68878.5078\n",
            "Epoch 85/100\n",
            "563/563 [==============================] - 2s 4ms/step - loss: 2388210432.0000 - root_mean_squared_error: 48869.3203 - val_loss: 2982317568.0000 - val_root_mean_squared_error: 54610.5977\n",
            "Epoch 86/100\n",
            "563/563 [==============================] - 2s 3ms/step - loss: 2344693760.0000 - root_mean_squared_error: 48422.0391 - val_loss: 2981308672.0000 - val_root_mean_squared_error: 54601.3633\n",
            "Epoch 87/100\n",
            "563/563 [==============================] - 2s 3ms/step - loss: 2367408640.0000 - root_mean_squared_error: 48656.0234 - val_loss: 2958068736.0000 - val_root_mean_squared_error: 54388.1289\n",
            "Epoch 88/100\n",
            "563/563 [==============================] - 2s 3ms/step - loss: 2321221632.0000 - root_mean_squared_error: 48179.0586 - val_loss: 3279623424.0000 - val_root_mean_squared_error: 57267.9961\n",
            "Epoch 89/100\n",
            "563/563 [==============================] - 2s 3ms/step - loss: 2362636288.0000 - root_mean_squared_error: 48606.9570 - val_loss: 3178635776.0000 - val_root_mean_squared_error: 56379.3906\n",
            "Epoch 90/100\n",
            "563/563 [==============================] - 2s 3ms/step - loss: 2336380416.0000 - root_mean_squared_error: 48336.1211 - val_loss: 3086840832.0000 - val_root_mean_squared_error: 55559.3438\n",
            "Epoch 91/100\n",
            "563/563 [==============================] - 2s 3ms/step - loss: 2317177344.0000 - root_mean_squared_error: 48137.0664 - val_loss: 3033913600.0000 - val_root_mean_squared_error: 55080.9727\n",
            "Epoch 92/100\n",
            "562/563 [============================>.] - ETA: 0s - loss: 2359296000.0000 - root_mean_squared_error: 48572.5859"
          ]
        },
        {
          "output_type": "stream",
          "name": "stderr",
          "text": [
            "WARNING:absl:Found untraced functions such as _update_step_xla while saving (showing 1 of 1). These functions will not be directly callable after loading.\n"
          ]
        },
        {
          "output_type": "stream",
          "name": "stdout",
          "text": [
            "\b\b\b\b\b\b\b\b\b\b\b\b\b\b\b\b\b\b\b\b\b\b\b\b\b\b\b\b\b\b\b\b\b\b\b\b\b\b\b\b\b\b\b\b\b\b\b\b\b\b\b\b\b\b\b\b\b\b\b\b\b\b\b\b\b\b\b\b\b\b\b\b\b\b\b\b\b\b\b\b\b\b\b\b\b\b\b\b\b\b\b\b\b\b\b\b\b\b\b\b\b\b\b\b\b\b\b\b\b\b\b\b\r563/563 [==============================] - 4s 6ms/step - loss: 2359752960.0000 - root_mean_squared_error: 48577.2891 - val_loss: 2867307008.0000 - val_root_mean_squared_error: 53547.2422\n",
            "Epoch 93/100\n",
            "563/563 [==============================] - 1s 3ms/step - loss: 2357123072.0000 - root_mean_squared_error: 48550.2109 - val_loss: 2909306880.0000 - val_root_mean_squared_error: 53937.9922\n",
            "Epoch 94/100\n",
            "563/563 [==============================] - 2s 3ms/step - loss: 2359003136.0000 - root_mean_squared_error: 48569.5703 - val_loss: 2961400320.0000 - val_root_mean_squared_error: 54418.7500\n",
            "Epoch 95/100\n",
            "563/563 [==============================] - 1s 3ms/step - loss: 2306368256.0000 - root_mean_squared_error: 48024.6641 - val_loss: 2980731392.0000 - val_root_mean_squared_error: 54596.0742\n",
            "Epoch 96/100\n",
            "563/563 [==============================] - 2s 3ms/step - loss: 2288794112.0000 - root_mean_squared_error: 47841.3438 - val_loss: 3139435264.0000 - val_root_mean_squared_error: 56030.6641\n",
            "Epoch 97/100\n",
            "563/563 [==============================] - 2s 3ms/step - loss: 2307972864.0000 - root_mean_squared_error: 48041.3672 - val_loss: 3178107648.0000 - val_root_mean_squared_error: 56374.7070\n",
            "Epoch 98/100\n",
            "552/563 [============================>.] - ETA: 0s - loss: 2321395968.0000 - root_mean_squared_error: 48180.8672"
          ]
        },
        {
          "output_type": "stream",
          "name": "stderr",
          "text": [
            "WARNING:absl:Found untraced functions such as _update_step_xla while saving (showing 1 of 1). These functions will not be directly callable after loading.\n"
          ]
        },
        {
          "output_type": "stream",
          "name": "stdout",
          "text": [
            "\b\b\b\b\b\b\b\b\b\b\b\b\b\b\b\b\b\b\b\b\b\b\b\b\b\b\b\b\b\b\b\b\b\b\b\b\b\b\b\b\b\b\b\b\b\b\b\b\b\b\b\b\b\b\b\b\b\b\b\b\b\b\b\b\b\b\b\b\b\b\b\b\b\b\b\b\b\b\b\b\b\b\b\b\b\b\b\b\b\b\b\b\b\b\b\b\b\b\b\b\b\b\b\b\b\b\b\b\b\b\b\b\r563/563 [==============================] - 3s 5ms/step - loss: 2318594816.0000 - root_mean_squared_error: 48151.7891 - val_loss: 2841291520.0000 - val_root_mean_squared_error: 53303.7656\n",
            "Epoch 99/100\n",
            "563/563 [==============================] - 2s 4ms/step - loss: 2267408128.0000 - root_mean_squared_error: 47617.3086 - val_loss: 2884600320.0000 - val_root_mean_squared_error: 53708.4766\n",
            "Epoch 100/100\n",
            "563/563 [==============================] - 2s 3ms/step - loss: 2300764416.0000 - root_mean_squared_error: 47966.2852 - val_loss: 3885130240.0000 - val_root_mean_squared_error: 62330.8125\n"
          ]
        },
        {
          "output_type": "execute_result",
          "data": {
            "text/plain": [
              "<keras.callbacks.History at 0x7f38f0180eb0>"
            ]
          },
          "metadata": {},
          "execution_count": 315
        }
      ]
    },
    {
      "cell_type": "code",
      "source": [
        "Large_nn = load_model(\"models/Large_nn\")\n",
        "mse (Large_nn.predict(X_train) , y_train  , squared= False ), mse (Large_nn.predict(X_val) , y_val  , squared= False )"
      ],
      "metadata": {
        "colab": {
          "base_uri": "https://localhost:8080/"
        },
        "id": "Ufwbkpsy1EUc",
        "outputId": "15fd1847-2a6c-4d9c-9c68-cba4e2947cef"
      },
      "execution_count": 318,
      "outputs": [
        {
          "output_type": "stream",
          "name": "stdout",
          "text": [
            "563/563 [==============================] - 1s 2ms/step\n",
            "39/39 [==============================] - 0s 2ms/step\n"
          ]
        },
        {
          "output_type": "execute_result",
          "data": {
            "text/plain": [
              "(46134.79800852601, 53303.765016854806)"
            ]
          },
          "metadata": {},
          "execution_count": 318
        }
      ]
    },
    {
      "cell_type": "code",
      "source": [
        "mse(gbr.predict(X_test ), y_test , squared= False)"
      ],
      "metadata": {
        "colab": {
          "base_uri": "https://localhost:8080/"
        },
        "id": "-7bCs2HKxmNN",
        "outputId": "9668ecc9-d94e-4531-bd9d-7f7b856e84da"
      },
      "execution_count": 321,
      "outputs": [
        {
          "output_type": "execute_result",
          "data": {
            "text/plain": [
              "48822.330246614925"
            ]
          },
          "metadata": {},
          "execution_count": 321
        }
      ]
    },
    {
      "cell_type": "code",
      "source": [],
      "metadata": {
        "id": "NoEIrdu30VPH"
      },
      "execution_count": null,
      "outputs": []
    }
  ]
}